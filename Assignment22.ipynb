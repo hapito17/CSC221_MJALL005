{
  "nbformat": 4,
  "nbformat_minor": 0,
  "metadata": {
    "colab": {
      "provenance": [],
      "authorship_tag": "ABX9TyMli/x1XwrycYwXHLfkQa23",
      "include_colab_link": true
    },
    "kernelspec": {
      "name": "python3",
      "display_name": "Python 3"
    },
    "language_info": {
      "name": "python"
    }
  },
  "cells": [
    {
      "cell_type": "markdown",
      "metadata": {
        "id": "view-in-github",
        "colab_type": "text"
      },
      "source": [
        "<a href=\"https://colab.research.google.com/github/hapito17/CSC221_MJALL005/blob/main/Assignment22.ipynb\" target=\"_parent\"><img src=\"https://colab.research.google.com/assets/colab-badge.svg\" alt=\"Open In Colab\"/></a>"
      ]
    },
    {
      "cell_type": "code",
      "execution_count": 1,
      "metadata": {
        "colab": {
          "base_uri": "https://localhost:8080/"
        },
        "id": "IbWReV9r-7Hc",
        "outputId": "3fa5f2bc-317a-4273-b306-895ce4619fde"
      },
      "outputs": [
        {
          "output_type": "stream",
          "name": "stdout",
          "text": [
            "Original vectors:\n",
            "(3, 4)\n",
            "(1, 2)\n",
            "(5, 1)\n",
            "(0, 0)\n",
            "\n",
            "Sorted vectors by length:\n",
            "(0, 0)\n",
            "(1, 2)\n",
            "(3, 4)\n",
            "(5, 1)\n"
          ]
        }
      ],
      "source": [
        "import math\n",
        "\n",
        "class Vector2D:\n",
        "    def __init__(self, x, y):\n",
        "        self.x = x\n",
        "        self.y = y\n",
        "\n",
        "    def __str__(self):\n",
        "        return f\"({self.x}, {self.y})\"\n",
        "\n",
        "    def __lt__(self, other):\n",
        "        return self.length() < other.length()\n",
        "\n",
        "    def length(self):\n",
        "        return math.sqrt(self.x ** 2 + self.y ** 2)\n",
        "\n",
        "# Example usage:\n",
        "vectors = [\n",
        "    Vector2D(3, 4),\n",
        "    Vector2D(1, 2),\n",
        "    Vector2D(5, 1),\n",
        "    Vector2D(0, 0),\n",
        "]\n",
        "\n",
        "# Print original vectors\n",
        "print(\"Original vectors:\")\n",
        "for vector in vectors:\n",
        "    print(vector)\n",
        "\n",
        "# Sort vectors by length\n",
        "sorted_vectors = sorted(vectors)\n",
        "\n",
        "# Print sorted vectors\n",
        "print(\"\\nSorted vectors by length:\")\n",
        "for vector in sorted_vectors:\n",
        "    print(vector)"
      ]
    },
    {
      "cell_type": "code",
      "source": [
        "import math\n",
        "\n",
        "class Vector2D:\n",
        "    def __init__(self, x, y):\n",
        "        self.x = x\n",
        "        self.y = y\n",
        "\n",
        "    def __str__(self):\n",
        "        return f\"({self.x}, {self.y})\"\n",
        "\n",
        "    def __lt__(self, other):\n",
        "        return self.length() < other.length()\n",
        "\n",
        "    def length(self):\n",
        "        return math.sqrt(self.x + self.y)\n",
        "\n",
        "# Example usage:\n",
        "vectors = [\n",
        "    Vector2D(3, 4),\n",
        "    Vector2D(1, 2),\n",
        "    Vector2D(5, 1),\n",
        "    Vector2D(0, 0),\n",
        "]\n",
        "\n",
        "# Print original vectors\n",
        "print(\"Original vectors:\")\n",
        "for vector in vectors:\n",
        "    print(vector)\n",
        "\n",
        "# Sort vectors by Euclidean length\n",
        "sorted_vectors = sorted(vectors, key=lambda vector: vector.length())\n",
        "\n",
        "# Print sorted vectors\n",
        "print(\"\\nSorted vectors by Euclidean length:\")\n",
        "for vector in sorted_vectors:\n",
        "    print(vector)\n"
      ],
      "metadata": {
        "colab": {
          "base_uri": "https://localhost:8080/"
        },
        "id": "sjssEznFeANx",
        "outputId": "bddc7625-4ab7-4672-da18-895aafcfc5fc"
      },
      "execution_count": 6,
      "outputs": [
        {
          "output_type": "stream",
          "name": "stdout",
          "text": [
            "Original vectors:\n",
            "(3, 4)\n",
            "(1, 2)\n",
            "(5, 1)\n",
            "(0, 0)\n",
            "\n",
            "Sorted vectors by Euclidean length:\n",
            "(0, 0)\n",
            "(1, 2)\n",
            "(5, 1)\n",
            "(3, 4)\n"
          ]
        }
      ]
    },
    {
      "cell_type": "code",
      "source": [
        "class KeyLengthContainer:\n",
        "    def __init__(self):\n",
        "        self.data = {}\n",
        "\n",
        "    def __getitem__(self, key):\n",
        "        if key in self.data:\n",
        "            return len(str(key))\n",
        "        else:\n",
        "            raise KeyError(\"Key not found\")\n",
        "\n",
        "    def __setitem__(self, key, value):\n",
        "        self.data[key] = value\n",
        "\n",
        "    def __delitem__(self, key):\n",
        "        if key in self.data:\n",
        "            del self.data[key]\n",
        "        else:\n",
        "            raise KeyError(f\"Key not found: {key}\")\n",
        "\n",
        "    def __len__(self):\n",
        "        return len(self.data)\n",
        "\n",
        "    def __contains__(self, key):\n",
        "        return key in self.data\n",
        "\n",
        "# Example usage:\n",
        "container = KeyLengthContainer()\n",
        "\n",
        "# Add items to the container\n",
        "container['apple'] = 'red'\n",
        "container['banana'] = 'yellow'\n",
        "container['cherry'] = 'red'\n",
        "\n",
        "# Print the length of the keys\n",
        "for key in container:\n",
        "    print(f\"Length of key '{key}': {container[key]}\")\n",
        "\n",
        "# Print the number of items in the container\n",
        "print(f\"Number of items in the container: {len(container)}\")\n"
      ],
      "metadata": {
        "colab": {
          "base_uri": "https://localhost:8080/",
          "height": 366
        },
        "id": "nedEKPsWfUfD",
        "outputId": "892936d5-939a-4fe6-a7ab-870aeb91275a"
      },
      "execution_count": 9,
      "outputs": [
        {
          "output_type": "error",
          "ename": "KeyError",
          "evalue": "ignored",
          "traceback": [
            "\u001b[0;31m---------------------------------------------------------------------------\u001b[0m",
            "\u001b[0;31mKeyError\u001b[0m                                  Traceback (most recent call last)",
            "\u001b[0;32m<ipython-input-9-05dee0f05f23>\u001b[0m in \u001b[0;36m<cell line: 35>\u001b[0;34m()\u001b[0m\n\u001b[1;32m     33\u001b[0m \u001b[0;34m\u001b[0m\u001b[0m\n\u001b[1;32m     34\u001b[0m \u001b[0;31m# Print the length of the keys\u001b[0m\u001b[0;34m\u001b[0m\u001b[0;34m\u001b[0m\u001b[0m\n\u001b[0;32m---> 35\u001b[0;31m \u001b[0;32mfor\u001b[0m \u001b[0mkey\u001b[0m \u001b[0;32min\u001b[0m \u001b[0mcontainer\u001b[0m\u001b[0;34m:\u001b[0m\u001b[0;34m\u001b[0m\u001b[0;34m\u001b[0m\u001b[0m\n\u001b[0m\u001b[1;32m     36\u001b[0m     \u001b[0mprint\u001b[0m\u001b[0;34m(\u001b[0m\u001b[0;34mf\"Length of key '{key}': {container[key]}\"\u001b[0m\u001b[0;34m)\u001b[0m\u001b[0;34m\u001b[0m\u001b[0;34m\u001b[0m\u001b[0m\n\u001b[1;32m     37\u001b[0m \u001b[0;34m\u001b[0m\u001b[0m\n",
            "\u001b[0;32m<ipython-input-9-05dee0f05f23>\u001b[0m in \u001b[0;36m__getitem__\u001b[0;34m(self, key)\u001b[0m\n\u001b[1;32m      7\u001b[0m             \u001b[0;32mreturn\u001b[0m \u001b[0mlen\u001b[0m\u001b[0;34m(\u001b[0m\u001b[0mstr\u001b[0m\u001b[0;34m(\u001b[0m\u001b[0mkey\u001b[0m\u001b[0;34m)\u001b[0m\u001b[0;34m)\u001b[0m\u001b[0;34m\u001b[0m\u001b[0;34m\u001b[0m\u001b[0m\n\u001b[1;32m      8\u001b[0m         \u001b[0;32melse\u001b[0m\u001b[0;34m:\u001b[0m\u001b[0;34m\u001b[0m\u001b[0;34m\u001b[0m\u001b[0m\n\u001b[0;32m----> 9\u001b[0;31m             \u001b[0;32mraise\u001b[0m \u001b[0mKeyError\u001b[0m\u001b[0;34m(\u001b[0m\u001b[0;34m\"Key not found\"\u001b[0m\u001b[0;34m)\u001b[0m\u001b[0;34m\u001b[0m\u001b[0;34m\u001b[0m\u001b[0m\n\u001b[0m\u001b[1;32m     10\u001b[0m \u001b[0;34m\u001b[0m\u001b[0m\n\u001b[1;32m     11\u001b[0m     \u001b[0;32mdef\u001b[0m \u001b[0m__setitem__\u001b[0m\u001b[0;34m(\u001b[0m\u001b[0mself\u001b[0m\u001b[0;34m,\u001b[0m \u001b[0mkey\u001b[0m\u001b[0;34m,\u001b[0m \u001b[0mvalue\u001b[0m\u001b[0;34m)\u001b[0m\u001b[0;34m:\u001b[0m\u001b[0;34m\u001b[0m\u001b[0;34m\u001b[0m\u001b[0m\n",
            "\u001b[0;31mKeyError\u001b[0m: 'Key not found'"
          ]
        }
      ]
    }
  ]
}