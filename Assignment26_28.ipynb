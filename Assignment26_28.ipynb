{
  "nbformat": 4,
  "nbformat_minor": 0,
  "metadata": {
    "colab": {
      "provenance": [],
      "authorship_tag": "ABX9TyO0Q7B/5g8r+YWtAkjCfKLB",
      "include_colab_link": true
    },
    "kernelspec": {
      "name": "python3",
      "display_name": "Python 3"
    },
    "language_info": {
      "name": "python"
    }
  },
  "cells": [
    {
      "cell_type": "markdown",
      "metadata": {
        "id": "view-in-github",
        "colab_type": "text"
      },
      "source": [
        "<a href=\"https://colab.research.google.com/github/hapito17/CSC221_MJALL005/blob/main/Assignment26_28.ipynb\" target=\"_parent\"><img src=\"https://colab.research.google.com/assets/colab-badge.svg\" alt=\"Open In Colab\"/></a>"
      ]
    },
    {
      "cell_type": "code",
      "execution_count": 26,
      "metadata": {
        "colab": {
          "base_uri": "https://localhost:8080/"
        },
        "id": "L-SUeasovW75",
        "outputId": "71ce5ad2-3770-4273-dc89-f28a6a46f9c8"
      },
      "outputs": [
        {
          "output_type": "stream",
          "name": "stdout",
          "text": [
            "5\n",
            "<class 'int'>\n",
            "5\n",
            "<class 'str'>\n",
            "5.0\n",
            "<class 'float'>\n"
          ]
        }
      ],
      "source": [
        "#Cell 1\n",
        "variable = 5\n",
        "print(variable)\n",
        "print(type(variable))\n",
        "\n",
        "variable = '5'\n",
        "print(variable)\n",
        "print(type(variable))\n",
        "\n",
        "variable = 5.0\n",
        "print(variable)\n",
        "print(type(variable))"
      ]
    },
    {
      "cell_type": "code",
      "source": [
        "#Cell 2\n",
        "import random\n",
        "num = random.randint(0, 10)\n",
        "print(f'the random number generated was {num}')"
      ],
      "metadata": {
        "colab": {
          "base_uri": "https://localhost:8080/"
        },
        "id": "79Et0d89v_9s",
        "outputId": "e7198ae8-de6a-4abe-c615-26ca3a56637b"
      },
      "execution_count": 27,
      "outputs": [
        {
          "output_type": "stream",
          "name": "stdout",
          "text": [
            "the random number generated was 8\n"
          ]
        }
      ]
    },
    {
      "cell_type": "code",
      "source": [
        "#Cell 3\n",
        "Firstname = 'james'\n",
        "print(Firstname)\n",
        "Firstname = Firstname.title()\n",
        "print(Firstname)\n",
        "\n",
        "Country = 'usa'\n",
        "print(Country)\n",
        "Country = Country.upper()\n",
        "print(Country)\n",
        "\n",
        "Phone_Number = '+240 977 2334'\n",
        "print(Phone_Number)\n",
        "Phone_Number = Phone_Number.lstrip('+')\n",
        "print(Phone_Number)"
      ],
      "metadata": {
        "colab": {
          "base_uri": "https://localhost:8080/"
        },
        "id": "eqeqCrbMwdhw",
        "outputId": "b8d755e9-8c33-4fb7-a91c-562b52455f6b"
      },
      "execution_count": 28,
      "outputs": [
        {
          "output_type": "stream",
          "name": "stdout",
          "text": [
            "james\n",
            "James\n",
            "usa\n",
            "USA\n",
            "+240 977 2334\n",
            "240 977 2334\n"
          ]
        }
      ]
    },
    {
      "cell_type": "code",
      "source": [
        "#Cell 4\n",
        "num_list = [5, 4, 3, 2, 1]\n",
        "for i in range(len(num_list)):\n",
        "  print(f'the item at index {i} is {num_list[i]}')"
      ],
      "metadata": {
        "colab": {
          "base_uri": "https://localhost:8080/"
        },
        "id": "cZGgZWu1yIvj",
        "outputId": "7d527631-0e40-466b-fec0-70e78431ca6a"
      },
      "execution_count": 29,
      "outputs": [
        {
          "output_type": "stream",
          "name": "stdout",
          "text": [
            "the item at index 0 is 5\n",
            "the item at index 1 is 4\n",
            "the item at index 2 is 3\n",
            "the item at index 3 is 2\n",
            "the item at index 4 is 1\n"
          ]
        }
      ]
    },
    {
      "cell_type": "code",
      "source": [
        "#Cell 5\n",
        "Descriptions = [['John', 'Male', 33], ['Susan', 'Female', 46], ['Simon', 'Male', '18']]\n",
        "count = 0\n",
        "for i in Descriptions:\n",
        "  print(f'The person at index {count} is named {i[0]}, a {i[2]} year old {i[1]} ')\n",
        "  count += 1"
      ],
      "metadata": {
        "colab": {
          "base_uri": "https://localhost:8080/"
        },
        "id": "gy7bCCepywYz",
        "outputId": "4aa049cd-d980-4b40-a3f1-d3e9c3543ab4"
      },
      "execution_count": 30,
      "outputs": [
        {
          "output_type": "stream",
          "name": "stdout",
          "text": [
            "The person at index 0 is named John, a 33 year old Male \n",
            "The person at index 1 is named Susan, a 46 year old Female \n",
            "The person at index 2 is named Simon, a 18 year old Male \n"
          ]
        }
      ]
    },
    {
      "cell_type": "code",
      "source": [
        "#Cell 6\n",
        "nums = [3, 2, 6, 9, 7]\n",
        "print(sorted(nums))\n",
        "print(nums)"
      ],
      "metadata": {
        "colab": {
          "base_uri": "https://localhost:8080/"
        },
        "id": "0Jg8A-VD1STS",
        "outputId": "7666f17b-52f0-4fc4-8645-a7610fb2afb4"
      },
      "execution_count": 31,
      "outputs": [
        {
          "output_type": "stream",
          "name": "stdout",
          "text": [
            "[2, 3, 6, 7, 9]\n",
            "[3, 2, 6, 9, 7]\n"
          ]
        }
      ]
    },
    {
      "cell_type": "code",
      "source": [
        "#Cell 7\n",
        "for i in range(0, 5):\n",
        "  print(i)"
      ],
      "metadata": {
        "colab": {
          "base_uri": "https://localhost:8080/"
        },
        "id": "e8Sgr9Na119y",
        "outputId": "e1308306-015c-4f90-98c4-2e22a0a48123"
      },
      "execution_count": 32,
      "outputs": [
        {
          "output_type": "stream",
          "name": "stdout",
          "text": [
            "0\n",
            "1\n",
            "2\n",
            "3\n",
            "4\n"
          ]
        }
      ]
    },
    {
      "cell_type": "code",
      "source": [
        "#Cell 8\n",
        "squares = [i**2 for i in range(1000) if i**2 % 7 != 0]\n",
        "print(squares)"
      ],
      "metadata": {
        "colab": {
          "base_uri": "https://localhost:8080/"
        },
        "id": "tygWwp8k2DlW",
        "outputId": "ef3a7307-d259-4f58-d399-ee4154dc8661"
      },
      "execution_count": 59,
      "outputs": [
        {
          "output_type": "stream",
          "name": "stdout",
          "text": [
            "[1, 4, 9, 16, 25, 36, 64, 81, 100, 121, 144, 169, 225, 256, 289, 324, 361, 400, 484, 529, 576, 625, 676, 729, 841, 900, 961, 1024, 1089, 1156, 1296, 1369, 1444, 1521, 1600, 1681, 1849, 1936, 2025, 2116, 2209, 2304, 2500, 2601, 2704, 2809, 2916, 3025, 3249, 3364, 3481, 3600, 3721, 3844, 4096, 4225, 4356, 4489, 4624, 4761, 5041, 5184, 5329, 5476, 5625, 5776, 6084, 6241, 6400, 6561, 6724, 6889, 7225, 7396, 7569, 7744, 7921, 8100, 8464, 8649, 8836, 9025, 9216, 9409, 9801, 10000, 10201, 10404, 10609, 10816, 11236, 11449, 11664, 11881, 12100, 12321, 12769, 12996, 13225, 13456, 13689, 13924, 14400, 14641, 14884, 15129, 15376, 15625, 16129, 16384, 16641, 16900, 17161, 17424, 17956, 18225, 18496, 18769, 19044, 19321, 19881, 20164, 20449, 20736, 21025, 21316, 21904, 22201, 22500, 22801, 23104, 23409, 24025, 24336, 24649, 24964, 25281, 25600, 26244, 26569, 26896, 27225, 27556, 27889, 28561, 28900, 29241, 29584, 29929, 30276, 30976, 31329, 31684, 32041, 32400, 32761, 33489, 33856, 34225, 34596, 34969, 35344, 36100, 36481, 36864, 37249, 37636, 38025, 38809, 39204, 39601, 40000, 40401, 40804, 41616, 42025, 42436, 42849, 43264, 43681, 44521, 44944, 45369, 45796, 46225, 46656, 47524, 47961, 48400, 48841, 49284, 49729, 50625, 51076, 51529, 51984, 52441, 52900, 53824, 54289, 54756, 55225, 55696, 56169, 57121, 57600, 58081, 58564, 59049, 59536, 60516, 61009, 61504, 62001, 62500, 63001, 64009, 64516, 65025, 65536, 66049, 66564, 67600, 68121, 68644, 69169, 69696, 70225, 71289, 71824, 72361, 72900, 73441, 73984, 75076, 75625, 76176, 76729, 77284, 77841, 78961, 79524, 80089, 80656, 81225, 81796, 82944, 83521, 84100, 84681, 85264, 85849, 87025, 87616, 88209, 88804, 89401, 90000, 91204, 91809, 92416, 93025, 93636, 94249, 95481, 96100, 96721, 97344, 97969, 98596, 99856, 100489, 101124, 101761, 102400, 103041, 104329, 104976, 105625, 106276, 106929, 107584, 108900, 109561, 110224, 110889, 111556, 112225, 113569, 114244, 114921, 115600, 116281, 116964, 118336, 119025, 119716, 120409, 121104, 121801, 123201, 123904, 124609, 125316, 126025, 126736, 128164, 128881, 129600, 130321, 131044, 131769, 133225, 133956, 134689, 135424, 136161, 136900, 138384, 139129, 139876, 140625, 141376, 142129, 143641, 144400, 145161, 145924, 146689, 147456, 148996, 149769, 150544, 151321, 152100, 152881, 154449, 155236, 156025, 156816, 157609, 158404, 160000, 160801, 161604, 162409, 163216, 164025, 165649, 166464, 167281, 168100, 168921, 169744, 171396, 172225, 173056, 173889, 174724, 175561, 177241, 178084, 178929, 179776, 180625, 181476, 183184, 184041, 184900, 185761, 186624, 187489, 189225, 190096, 190969, 191844, 192721, 193600, 195364, 196249, 197136, 198025, 198916, 199809, 201601, 202500, 203401, 204304, 205209, 206116, 207936, 208849, 209764, 210681, 211600, 212521, 214369, 215296, 216225, 217156, 218089, 219024, 220900, 221841, 222784, 223729, 224676, 225625, 227529, 228484, 229441, 230400, 231361, 232324, 234256, 235225, 236196, 237169, 238144, 239121, 241081, 242064, 243049, 244036, 245025, 246016, 248004, 249001, 250000, 251001, 252004, 253009, 255025, 256036, 257049, 258064, 259081, 260100, 262144, 263169, 264196, 265225, 266256, 267289, 269361, 270400, 271441, 272484, 273529, 274576, 276676, 277729, 278784, 279841, 280900, 281961, 284089, 285156, 286225, 287296, 288369, 289444, 291600, 292681, 293764, 294849, 295936, 297025, 299209, 300304, 301401, 302500, 303601, 304704, 306916, 308025, 309136, 310249, 311364, 312481, 314721, 315844, 316969, 318096, 319225, 320356, 322624, 323761, 324900, 326041, 327184, 328329, 330625, 331776, 332929, 334084, 335241, 336400, 338724, 339889, 341056, 342225, 343396, 344569, 346921, 348100, 349281, 350464, 351649, 352836, 355216, 356409, 357604, 358801, 360000, 361201, 363609, 364816, 366025, 367236, 368449, 369664, 372100, 373321, 374544, 375769, 376996, 378225, 380689, 381924, 383161, 384400, 385641, 386884, 389376, 390625, 391876, 393129, 394384, 395641, 398161, 399424, 400689, 401956, 403225, 404496, 407044, 408321, 409600, 410881, 412164, 413449, 416025, 417316, 418609, 419904, 421201, 422500, 425104, 426409, 427716, 429025, 430336, 431649, 434281, 435600, 436921, 438244, 439569, 440896, 443556, 444889, 446224, 447561, 448900, 450241, 452929, 454276, 455625, 456976, 458329, 459684, 462400, 463761, 465124, 466489, 467856, 469225, 471969, 473344, 474721, 476100, 477481, 478864, 481636, 483025, 484416, 485809, 487204, 488601, 491401, 492804, 494209, 495616, 497025, 498436, 501264, 502681, 504100, 505521, 506944, 508369, 511225, 512656, 514089, 515524, 516961, 518400, 521284, 522729, 524176, 525625, 527076, 528529, 531441, 532900, 534361, 535824, 537289, 538756, 541696, 543169, 544644, 546121, 547600, 549081, 552049, 553536, 555025, 556516, 558009, 559504, 562500, 564001, 565504, 567009, 568516, 570025, 573049, 574564, 576081, 577600, 579121, 580644, 583696, 585225, 586756, 588289, 589824, 591361, 594441, 595984, 597529, 599076, 600625, 602176, 605284, 606841, 608400, 609961, 611524, 613089, 616225, 617796, 619369, 620944, 622521, 624100, 627264, 628849, 630436, 632025, 633616, 635209, 638401, 640000, 641601, 643204, 644809, 646416, 649636, 651249, 652864, 654481, 656100, 657721, 660969, 662596, 664225, 665856, 667489, 669124, 672400, 674041, 675684, 677329, 678976, 680625, 683929, 685584, 687241, 688900, 690561, 692224, 695556, 697225, 698896, 700569, 702244, 703921, 707281, 708964, 710649, 712336, 714025, 715716, 719104, 720801, 722500, 724201, 725904, 727609, 731025, 732736, 734449, 736164, 737881, 739600, 743044, 744769, 746496, 748225, 749956, 751689, 755161, 756900, 758641, 760384, 762129, 763876, 767376, 769129, 770884, 772641, 774400, 776161, 779689, 781456, 783225, 784996, 786769, 788544, 792100, 793881, 795664, 797449, 799236, 801025, 804609, 806404, 808201, 810000, 811801, 813604, 817216, 819025, 820836, 822649, 824464, 826281, 829921, 831744, 833569, 835396, 837225, 839056, 842724, 844561, 846400, 848241, 850084, 851929, 855625, 857476, 859329, 861184, 863041, 864900, 868624, 870489, 872356, 874225, 876096, 877969, 881721, 883600, 885481, 887364, 889249, 891136, 894916, 896809, 898704, 900601, 902500, 904401, 908209, 910116, 912025, 913936, 915849, 917764, 921600, 923521, 925444, 927369, 929296, 931225, 935089, 937024, 938961, 940900, 942841, 944784, 948676, 950625, 952576, 954529, 956484, 958441, 962361, 964324, 966289, 968256, 970225, 972196, 976144, 978121, 980100, 982081, 984064, 986049, 990025, 992016, 994009, 996004, 998001]\n"
          ]
        }
      ]
    },
    {
      "cell_type": "code",
      "source": [
        "#Cell 9\n",
        "def sieve_of_eratosthenes(limit):\n",
        "    primes = []\n",
        "    is_prime = [True] * (limit + 1)\n",
        "    is_prime[0] = is_prime[1] = False\n",
        "\n",
        "    for number in range(2, int(limit**0.5) + 1):\n",
        "        if is_prime[number]:\n",
        "            primes.append(number)\n",
        "            for multiple in range(number * number, limit + 1, number):\n",
        "                is_prime[multiple] = False\n",
        "\n",
        "    for number in range(int(limit**0.5) + 1, limit + 1):\n",
        "        if is_prime[number]:\n",
        "            primes.append(number)\n",
        "\n",
        "    return primes\n",
        "\n",
        "# Generating prime numbers from 2 to 1000\n",
        "result = sieve_of_eratosthenes(100)\n",
        "print(result)"
      ],
      "metadata": {
        "colab": {
          "base_uri": "https://localhost:8080/"
        },
        "id": "GMkrD6ng4KG0",
        "outputId": "21e04fa1-a3f0-4bcf-a482-5e274c9c6b67"
      },
      "execution_count": 34,
      "outputs": [
        {
          "output_type": "stream",
          "name": "stdout",
          "text": [
            "[2, 3, 5, 7, 11, 13, 17, 19, 23, 29, 31, 37, 41, 43, 47, 53, 59, 61, 67, 71, 73, 79, 83, 89, 97]\n"
          ]
        }
      ]
    },
    {
      "cell_type": "code",
      "source": [
        "#Cell 10\n",
        "def my_prime_generator(n):\n",
        "  yield sieve_of_eratosthenes(n)\n",
        "\n",
        "for x in my_prime_generator(100):\n",
        "  print(x)\n"
      ],
      "metadata": {
        "colab": {
          "base_uri": "https://localhost:8080/"
        },
        "id": "Tl_fUGfj60mV",
        "outputId": "a1cd9c72-3888-4a02-a904-abf1c3e0bda4"
      },
      "execution_count": 35,
      "outputs": [
        {
          "output_type": "stream",
          "name": "stdout",
          "text": [
            "[2, 3, 5, 7, 11, 13, 17, 19, 23, 29, 31, 37, 41, 43, 47, 53, 59, 61, 67, 71, 73, 79, 83, 89, 97]\n"
          ]
        }
      ]
    },
    {
      "cell_type": "code",
      "source": [
        "#Cell 11\n",
        "import random\n",
        "min = 0\n",
        "max = 0\n",
        "sum = 0\n",
        "average = 0\n",
        "\n",
        "\n",
        "nums = [random.randint(0, 1000) for x in range(1000)]\n",
        "nums.sort()\n",
        "min = nums[0]\n",
        "max = nums [-1]\n",
        "for x in range(len(nums)):\n",
        "  sum = sum + nums[x]\n",
        "average = sum / len(nums)\n",
        "\n",
        "print(nums)\n",
        "print(min, max, sum, average)"
      ],
      "metadata": {
        "colab": {
          "base_uri": "https://localhost:8080/"
        },
        "id": "KiT43wAD8435",
        "outputId": "e48e48a1-26a7-45db-e244-c32b57745988"
      },
      "execution_count": 36,
      "outputs": [
        {
          "output_type": "stream",
          "name": "stdout",
          "text": [
            "[0, 5, 9, 10, 11, 11, 11, 12, 14, 14, 15, 16, 17, 18, 18, 19, 19, 19, 20, 20, 25, 26, 26, 27, 28, 28, 29, 31, 32, 34, 37, 39, 40, 40, 42, 43, 45, 45, 46, 50, 50, 51, 51, 53, 54, 56, 56, 56, 57, 57, 61, 61, 61, 63, 63, 63, 65, 66, 67, 68, 68, 69, 71, 71, 72, 73, 73, 74, 75, 77, 77, 77, 78, 78, 79, 80, 80, 81, 81, 82, 82, 83, 87, 87, 88, 89, 89, 89, 93, 94, 95, 95, 96, 96, 97, 97, 98, 99, 100, 101, 101, 102, 104, 106, 108, 109, 110, 111, 112, 114, 115, 116, 117, 117, 118, 119, 121, 121, 122, 123, 125, 126, 129, 132, 132, 133, 133, 135, 136, 136, 137, 141, 141, 141, 142, 143, 144, 146, 146, 146, 146, 148, 148, 150, 150, 151, 152, 153, 153, 154, 154, 156, 157, 157, 159, 160, 160, 161, 163, 163, 166, 167, 168, 170, 170, 171, 171, 172, 173, 175, 177, 178, 178, 179, 180, 182, 182, 185, 185, 185, 186, 187, 187, 187, 190, 191, 196, 197, 197, 199, 200, 203, 203, 204, 205, 205, 205, 206, 207, 207, 208, 208, 209, 211, 212, 212, 212, 213, 214, 217, 218, 220, 220, 221, 223, 224, 224, 226, 227, 228, 229, 230, 230, 231, 231, 233, 233, 234, 234, 234, 234, 238, 238, 239, 240, 243, 243, 244, 247, 248, 253, 254, 254, 254, 255, 256, 258, 259, 260, 261, 261, 261, 261, 263, 263, 265, 266, 266, 267, 268, 272, 273, 275, 275, 277, 277, 278, 278, 279, 280, 280, 280, 282, 287, 289, 289, 290, 292, 293, 293, 293, 294, 295, 296, 296, 297, 298, 301, 302, 302, 305, 305, 306, 306, 308, 309, 309, 310, 310, 310, 312, 313, 316, 316, 320, 320, 322, 323, 324, 326, 327, 328, 329, 330, 331, 331, 332, 333, 334, 334, 335, 336, 336, 337, 337, 338, 338, 339, 342, 343, 344, 344, 345, 346, 348, 350, 350, 350, 351, 353, 354, 354, 354, 356, 358, 359, 360, 362, 363, 364, 364, 367, 368, 369, 370, 370, 372, 373, 373, 374, 375, 375, 376, 376, 377, 377, 378, 379, 381, 381, 383, 385, 385, 386, 386, 387, 388, 388, 389, 390, 390, 391, 391, 392, 392, 392, 394, 397, 398, 399, 399, 399, 401, 402, 403, 403, 405, 406, 409, 409, 409, 410, 410, 411, 412, 414, 414, 414, 415, 416, 416, 416, 418, 418, 419, 419, 421, 422, 423, 425, 426, 428, 428, 429, 431, 432, 433, 433, 434, 437, 438, 439, 441, 441, 442, 443, 443, 447, 447, 447, 448, 448, 449, 449, 451, 454, 455, 455, 455, 455, 458, 458, 462, 464, 467, 470, 471, 471, 471, 472, 472, 472, 473, 473, 475, 476, 477, 477, 478, 479, 482, 482, 482, 484, 486, 489, 491, 492, 492, 493, 493, 495, 495, 496, 497, 499, 499, 499, 499, 505, 505, 508, 509, 509, 510, 511, 511, 512, 512, 512, 512, 515, 516, 517, 519, 519, 520, 521, 523, 523, 525, 525, 526, 528, 531, 535, 537, 539, 541, 541, 544, 544, 544, 544, 546, 549, 549, 550, 550, 551, 552, 554, 555, 557, 560, 565, 568, 568, 568, 569, 570, 571, 573, 574, 576, 577, 579, 580, 580, 580, 580, 580, 582, 582, 584, 584, 585, 586, 591, 591, 592, 592, 592, 594, 594, 598, 598, 599, 600, 600, 601, 601, 602, 602, 604, 605, 605, 605, 605, 605, 606, 606, 610, 611, 613, 613, 614, 614, 617, 618, 618, 618, 619, 621, 622, 623, 623, 623, 624, 625, 627, 628, 629, 629, 631, 631, 635, 636, 637, 639, 640, 641, 641, 644, 645, 647, 647, 648, 648, 650, 650, 652, 653, 653, 654, 654, 654, 655, 655, 656, 656, 656, 657, 657, 658, 659, 659, 662, 662, 663, 663, 663, 663, 664, 664, 665, 665, 666, 666, 671, 672, 672, 674, 675, 675, 676, 677, 678, 680, 680, 682, 683, 684, 687, 688, 690, 691, 695, 699, 699, 699, 702, 703, 703, 704, 706, 707, 707, 708, 710, 710, 711, 711, 712, 713, 713, 717, 718, 723, 727, 728, 729, 730, 730, 732, 732, 732, 732, 733, 733, 733, 734, 735, 738, 738, 738, 738, 739, 740, 742, 742, 743, 744, 744, 747, 748, 748, 749, 750, 750, 751, 751, 754, 754, 754, 756, 756, 756, 756, 757, 757, 758, 758, 759, 759, 760, 761, 761, 762, 763, 764, 765, 766, 766, 766, 769, 770, 770, 770, 771, 772, 772, 773, 773, 774, 776, 779, 780, 784, 785, 785, 786, 786, 790, 790, 791, 792, 793, 793, 794, 795, 798, 798, 799, 799, 799, 800, 802, 803, 805, 807, 808, 809, 810, 811, 811, 811, 812, 812, 812, 814, 815, 815, 817, 818, 818, 819, 819, 820, 820, 821, 822, 823, 823, 825, 827, 827, 827, 830, 831, 832, 834, 834, 835, 836, 838, 838, 839, 839, 839, 840, 840, 840, 840, 841, 844, 844, 845, 845, 846, 847, 847, 847, 849, 850, 850, 851, 852, 852, 852, 853, 854, 856, 856, 857, 858, 859, 861, 864, 866, 868, 868, 872, 873, 874, 874, 875, 875, 876, 877, 878, 878, 879, 879, 880, 881, 883, 885, 885, 885, 886, 886, 887, 889, 892, 892, 893, 894, 895, 896, 896, 898, 899, 899, 900, 900, 901, 901, 902, 902, 903, 903, 903, 903, 905, 905, 905, 906, 906, 907, 908, 908, 909, 909, 909, 911, 912, 912, 913, 913, 913, 913, 914, 914, 915, 916, 917, 918, 921, 922, 922, 925, 926, 927, 927, 928, 929, 929, 930, 930, 931, 934, 934, 934, 934, 936, 936, 936, 937, 938, 939, 942, 943, 944, 945, 945, 946, 948, 948, 948, 948, 950, 952, 952, 952, 953, 954, 955, 957, 958, 958, 960, 960, 963, 963, 964, 966, 966, 967, 967, 967, 968, 968, 969, 971, 975, 977, 978, 979, 979, 981, 985, 985, 986, 988, 989, 989, 989, 990, 991, 991, 993, 994, 994, 997, 998, 998, 998, 998, 999]\n",
            "0 999 513857 513.857\n"
          ]
        }
      ]
    },
    {
      "cell_type": "code",
      "source": [
        "#Cell 12\n",
        "def odd_num_less_than_100(num):\n",
        "  if num % 2 == 0:\n",
        "    print(\"number is not odd\")\n",
        "    return(False)\n",
        "  elif num % 2 == 1 and num < 100:\n",
        "    print(\"number is odd\")\n",
        "    return(True)\n",
        "  else: print(\"sorry invalid input, enter a number less than 100\")\n",
        "\n",
        "\n",
        "odd_num_less_than_100(7)\n",
        "odd_num_less_than_100(193)\n",
        "odd_num_less_than_100(20)\n"
      ],
      "metadata": {
        "colab": {
          "base_uri": "https://localhost:8080/"
        },
        "id": "c1C0J9S2--Y1",
        "outputId": "67b020bd-73e6-46ba-ca7f-edbe277345c2"
      },
      "execution_count": 37,
      "outputs": [
        {
          "output_type": "stream",
          "name": "stdout",
          "text": [
            "number is odd\n",
            "sorry invalid input, enter a number less than 100\n",
            "number is not odd\n"
          ]
        },
        {
          "output_type": "execute_result",
          "data": {
            "text/plain": [
              "False"
            ]
          },
          "metadata": {},
          "execution_count": 37
        }
      ]
    },
    {
      "cell_type": "code",
      "source": [
        "#Cell 13\n",
        "#imports have to be on separate lines\n",
        "# Correct:\n",
        "import os\n",
        "import sys\n",
        "# Wrong:\n",
        "import sys, os\n",
        "\n",
        "\n",
        "#Limit all lines to a maximum of 79 characters.\n",
        "\n",
        "#Have to put parenthesis aroung tuple with trailing comma\n",
        "# Correct:\n",
        "FILES = ('setup.cfg',)\n",
        "# Wrong:\n",
        "FILES = 'setup.cfg',"
      ],
      "metadata": {
        "id": "AvWijpJUAaBP"
      },
      "execution_count": 38,
      "outputs": []
    },
    {
      "cell_type": "code",
      "source": [
        "#Cell 14\n",
        "%%file testfile.txt\n",
        "Amy, cat\n",
        "Fred, dog\n",
        "Hunter, dog\n",
        "Peena, parakeet\n",
        "Rover, dog"
      ],
      "metadata": {
        "colab": {
          "base_uri": "https://localhost:8080/"
        },
        "id": "RbJXsFSkZrAQ",
        "outputId": "c3604d29-34e9-4e71-ffac-9a0ad1242649"
      },
      "execution_count": 39,
      "outputs": [
        {
          "output_type": "stream",
          "name": "stdout",
          "text": [
            "Overwriting testfile.txt\n"
          ]
        }
      ]
    },
    {
      "cell_type": "code",
      "source": [
        "#Cell 15\n",
        "pets = {}\n",
        "with open ('testfile.txt', 'r') as file:\n",
        "  line = file.readlines()\n",
        "  for x in line:\n",
        "    x = x.rstrip('\\n')\n",
        "    list_pet = x.split(', ')\n",
        "    pets[list_pet[0]] = list_pet[1]\n",
        "print(pets)\n",
        "\n",
        "for key in pets.keys():\n",
        "  print(f'{key} is a {pets[key]}')"
      ],
      "metadata": {
        "colab": {
          "base_uri": "https://localhost:8080/"
        },
        "id": "atzNuM1MaTAa",
        "outputId": "16be6b8d-6404-4989-9823-6a14f9984ac9"
      },
      "execution_count": 40,
      "outputs": [
        {
          "output_type": "stream",
          "name": "stdout",
          "text": [
            "{'Amy': 'cat', 'Fred': 'dog', 'Hunter': 'dog', 'Peena': 'parakeet', 'Rover': 'dog'}\n",
            "Amy is a cat\n",
            "Fred is a dog\n",
            "Hunter is a dog\n",
            "Peena is a parakeet\n",
            "Rover is a dog\n"
          ]
        }
      ]
    },
    {
      "cell_type": "code",
      "source": [
        "#Cell 16\n",
        "newlist = []\n",
        "for key in pets.keys():\n",
        "  newlist.append(pets[key])\n",
        "newlist = list(set(newlist))\n",
        "print(newlist)"
      ],
      "metadata": {
        "colab": {
          "base_uri": "https://localhost:8080/"
        },
        "id": "aS7-R54fdZon",
        "outputId": "66e8e016-cb2c-45f5-a635-bdc57b295c99"
      },
      "execution_count": 41,
      "outputs": [
        {
          "output_type": "stream",
          "name": "stdout",
          "text": [
            "['dog', 'cat', 'parakeet']\n"
          ]
        }
      ]
    },
    {
      "cell_type": "code",
      "source": [
        "#Cell 17\n",
        "count = 80\n",
        "while count >= 16:\n",
        "  print(count)\n",
        "  count -= 8"
      ],
      "metadata": {
        "colab": {
          "base_uri": "https://localhost:8080/"
        },
        "id": "XGcan3UowsYX",
        "outputId": "ee4b88b8-c89d-4991-81ec-f0c46f0cdc9e"
      },
      "execution_count": 42,
      "outputs": [
        {
          "output_type": "stream",
          "name": "stdout",
          "text": [
            "80\n",
            "72\n",
            "64\n",
            "56\n",
            "48\n",
            "40\n",
            "32\n",
            "24\n",
            "16\n"
          ]
        }
      ]
    },
    {
      "cell_type": "code",
      "source": [
        "#Cell 18\n",
        "def func(a, b, c):\n",
        "  nums = [a, b, c]\n",
        "  nums.sort()\n",
        "  min = nums[0]\n",
        "  max = nums[2]\n",
        "  sum = nums[0] + nums[1] + nums[2]\n",
        "  all = (min, max, sum)\n",
        "  return(all)\n",
        "\n",
        "\n",
        "print(func(2, 3, 1))\n",
        "print(func(16, 32, 10))\n",
        "print(func(90, 3, 100))"
      ],
      "metadata": {
        "colab": {
          "base_uri": "https://localhost:8080/"
        },
        "id": "NnPsv2spxJob",
        "outputId": "f63e1539-b832-47ef-a18d-7953f451c2af"
      },
      "execution_count": 43,
      "outputs": [
        {
          "output_type": "stream",
          "name": "stdout",
          "text": [
            "(1, 3, 6)\n",
            "(10, 32, 58)\n",
            "(3, 100, 193)\n"
          ]
        }
      ]
    },
    {
      "cell_type": "code",
      "source": [
        "#Cell 19\n",
        "def func(*args):\n",
        "  nums = list(args)\n",
        "  nums.sort()\n",
        "  min = nums[0]\n",
        "  max = nums[-1]\n",
        "  sum = 0\n",
        "  for x in nums:\n",
        "    sum += x\n",
        "  all = (min, max, sum)\n",
        "  return all\n",
        "\n",
        "\n",
        "print(func(2))\n",
        "print(func(5, 4, 3, 2, 1))\n",
        "print(func(89, 98))"
      ],
      "metadata": {
        "colab": {
          "base_uri": "https://localhost:8080/"
        },
        "id": "_XcQaulQ1oP4",
        "outputId": "4396210c-9234-421b-c168-5e4fd83a1ef1"
      },
      "execution_count": 44,
      "outputs": [
        {
          "output_type": "stream",
          "name": "stdout",
          "text": [
            "(2, 2, 2)\n",
            "(1, 5, 15)\n",
            "(89, 98, 187)\n"
          ]
        }
      ]
    },
    {
      "cell_type": "code",
      "source": [
        "#Cell 20\n",
        "def traceroo(func):\n",
        "  def call(*args, **kwargs):\n",
        "    print('Calling', func.__name__,)\n",
        "    print(f'the parameters used are {args}')\n",
        "    return func(*args, **kwargs)\n",
        "  return call\n",
        "\n",
        "@traceroo\n",
        "def func(*args):\n",
        "  nums = list(args)\n",
        "  nums.sort()\n",
        "  min = nums[0]\n",
        "  max = nums[-1]\n",
        "  sum = 0\n",
        "  for x in nums:\n",
        "    sum += x\n",
        "  all = (min, max, sum)\n",
        "  return all\n",
        "\n",
        "print(func(2))\n",
        "print(func(5, 4, 3, 2, 1))\n",
        "print(func(89, 98))"
      ],
      "metadata": {
        "colab": {
          "base_uri": "https://localhost:8080/"
        },
        "id": "XYV7W6E53bPE",
        "outputId": "9479ee21-d92f-46cc-a3ee-3e74de112fa8"
      },
      "execution_count": 45,
      "outputs": [
        {
          "output_type": "stream",
          "name": "stdout",
          "text": [
            "Calling func\n",
            "the parameters used are (2,)\n",
            "(2, 2, 2)\n",
            "Calling func\n",
            "the parameters used are (5, 4, 3, 2, 1)\n",
            "(1, 5, 15)\n",
            "Calling func\n",
            "the parameters used are (89, 98)\n",
            "(89, 98, 187)\n"
          ]
        }
      ]
    },
    {
      "cell_type": "code",
      "source": [
        "#Cell 21\n",
        "class Math:\n",
        "    def __init__(self, num1, num2):\n",
        "        self.num1 = num1\n",
        "        self.num2 = num2\n",
        "\n",
        "    def __repr__(self):\n",
        "        return f\"Math({self.num1}, {self.num2})\"\n",
        "\n",
        "    def __str__(self):\n",
        "        return f\"({self.num1}, {self.num2})\"\n",
        "\n",
        "    def __add__(self):\n",
        "        return (self.num1 +  self.num2)\n",
        "\n",
        "print(Math(1, 2).__add__())\n",
        "print(Math(1, 2).__str__())\n",
        "print(Math(1, 2).__repr__())"
      ],
      "metadata": {
        "colab": {
          "base_uri": "https://localhost:8080/"
        },
        "id": "FmT8vYDE5NNC",
        "outputId": "22d660bf-9651-4dec-8f64-4344600a4422"
      },
      "execution_count": 46,
      "outputs": [
        {
          "output_type": "stream",
          "name": "stdout",
          "text": [
            "3\n",
            "(1, 2)\n",
            "Math(1, 2)\n"
          ]
        }
      ]
    },
    {
      "cell_type": "code",
      "source": [
        "#Cell 22\n",
        "filename = 'pi_million_digits.txt'\n",
        "with open(filename) as file_object:\n",
        " lines = file_object.readlines()\n",
        "pi_string = ''\n",
        "for line in lines:\n",
        " pi_string += line.rstrip()\n",
        "birthday = input(\"Enter your birthday, in the form mmddyy: \")\n",
        "if birthday in pi_string:\n",
        "  print(\"Your birthday appears in the first million digits of pi!\")\n",
        "  for x in range(len(pi_string)):\n",
        "    if x < 999997:\n",
        "      current = [pi_string[x], pi_string[x+1], pi_string[x+2], pi_string[x+3], pi_string[x+4], pi_string[x+5]]\n",
        "      if current == list(birthday):\n",
        "        print(f\"it's the {x-1} digit of pi\")\n",
        "else:\n",
        "  print(\"Your birthday does not appear in the first million digits of pi.\")"
      ],
      "metadata": {
        "colab": {
          "base_uri": "https://localhost:8080/"
        },
        "id": "btvbcknH8PD-",
        "outputId": "f7c4d183-a1f8-4c25-87eb-8ff34418e888"
      },
      "execution_count": 47,
      "outputs": [
        {
          "output_type": "stream",
          "name": "stdout",
          "text": [
            "Enter your birthday, in the form mmddyy: 021705\n",
            "Your birthday appears in the first million digits of pi!\n",
            "it's the 168824 digit of pi\n"
          ]
        }
      ]
    },
    {
      "cell_type": "code",
      "source": [
        "%%file functions.py\n",
        "def sieve_of_eratosthenes(limit):\n",
        "    primes = []\n",
        "    is_prime = [True] * (limit + 1)\n",
        "    is_prime[0] = is_prime[1] = False\n",
        "\n",
        "    for number in range(2, int(limit**0.5) + 1):\n",
        "        if is_prime[number]:\n",
        "            primes.append(number)\n",
        "            for multiple in range(number * number, limit + 1, number):\n",
        "                is_prime[multiple] = False\n",
        "\n",
        "    for number in range(int(limit**0.5) + 1, limit + 1):\n",
        "        if is_prime[number]:\n",
        "            primes.append(number)\n",
        "\n",
        "    return primes\n",
        "result = sieve_of_eratosthenes(100)\n",
        "print(result)\n",
        "\n",
        "\n",
        "def odd_num_less_than_100(num):\n",
        "  if num % 2 == 0:\n",
        "    print(\"number is not odd\")\n",
        "    return(False)\n",
        "  elif num % 2 == 1 and num < 100:\n",
        "    print(\"number is odd\")\n",
        "    return(True)\n",
        "  else: print(\"sorry invalid input, enter a number less than 100\")\n",
        "\n",
        "\n",
        "odd_num_less_than_100(7)\n",
        "odd_num_less_than_100(193)\n",
        "odd_num_less_than_100(20)\n",
        "\n",
        "def func(a, b, c):\n",
        "  nums = [a, b, c]\n",
        "  nums.sort()\n",
        "  min = nums[0]\n",
        "  max = nums[2]\n",
        "  sum = nums[0] + nums[1] + nums[2]\n",
        "  all = (min, max, sum)\n",
        "  return(all)\n",
        "\n",
        "\n",
        "print(func(2, 3, 1))\n",
        "print(func(16, 32, 10))\n",
        "print(func(90, 3, 100))"
      ],
      "metadata": {
        "colab": {
          "base_uri": "https://localhost:8080/"
        },
        "id": "Oe_GjbHqwjns",
        "outputId": "5913e459-edcd-4271-ec14-b98c09686e80"
      },
      "execution_count": 48,
      "outputs": [
        {
          "output_type": "stream",
          "name": "stdout",
          "text": [
            "Overwriting functions.py\n"
          ]
        }
      ]
    },
    {
      "cell_type": "code",
      "source": [
        "%%file test_functions.py\n",
        "import functions as func\n",
        "\n",
        "def test_test1():\n",
        "    assert func.sieve_of_eratosthenes(5) == [2, 3, 5]\n",
        "    assert func.odd_num_less_than_100(3) == True\n",
        "    assert func.func(2, 3, 1) == (1, 3, 6)\n",
        "\n",
        "def test_test2():\n",
        "    assert func.sieve_of_eratosthenes(6) == [2, 3, 5]\n",
        "    assert func.odd_num_less_than_100(4) == False\n",
        "    assert func.func(16, 32, 10) == (10, 32, 68) #Bug"
      ],
      "metadata": {
        "colab": {
          "base_uri": "https://localhost:8080/"
        },
        "id": "aQqiydq2xQkF",
        "outputId": "94e935d3-9285-4563-e9b7-6767a6f28851"
      },
      "execution_count": 57,
      "outputs": [
        {
          "output_type": "stream",
          "name": "stdout",
          "text": [
            "Overwriting test_functions.py\n"
          ]
        }
      ]
    },
    {
      "cell_type": "code",
      "source": [
        "!pytest"
      ],
      "metadata": {
        "colab": {
          "base_uri": "https://localhost:8080/"
        },
        "id": "ubAtESWJxR0l",
        "outputId": "6ffb712f-8b0d-41ac-dcb0-40a302c4d195"
      },
      "execution_count": 58,
      "outputs": [
        {
          "output_type": "stream",
          "name": "stdout",
          "text": [
            "\u001b[1m======================================= test session starts ========================================\u001b[0m\n",
            "platform linux -- Python 3.10.12, pytest-7.4.3, pluggy-1.3.0\n",
            "rootdir: /content\n",
            "plugins: anyio-3.7.1\n",
            "\u001b[1mcollecting ... \u001b[0m\u001b[1m\rcollected 2 items                                                                                  \u001b[0m\n",
            "\n",
            "test_functions.py \u001b[32m.\u001b[0m\u001b[31mF\u001b[0m\u001b[31m                                                                         [100%]\u001b[0m\n",
            "\n",
            "============================================= FAILURES =============================================\n",
            "\u001b[31m\u001b[1m____________________________________________ test_test2 ____________________________________________\u001b[0m\n",
            "\n",
            "    \u001b[94mdef\u001b[39;49;00m \u001b[92mtest_test2\u001b[39;49;00m():\u001b[90m\u001b[39;49;00m\n",
            "        \u001b[94massert\u001b[39;49;00m func.sieve_of_eratosthenes(\u001b[94m6\u001b[39;49;00m) == [\u001b[94m2\u001b[39;49;00m, \u001b[94m3\u001b[39;49;00m, \u001b[94m5\u001b[39;49;00m]\u001b[90m\u001b[39;49;00m\n",
            "        \u001b[94massert\u001b[39;49;00m func.odd_num_less_than_100(\u001b[94m4\u001b[39;49;00m) == \u001b[94mFalse\u001b[39;49;00m\u001b[90m\u001b[39;49;00m\n",
            ">       \u001b[94massert\u001b[39;49;00m func.func(\u001b[94m16\u001b[39;49;00m, \u001b[94m32\u001b[39;49;00m, \u001b[94m10\u001b[39;49;00m) == (\u001b[94m10\u001b[39;49;00m, \u001b[94m32\u001b[39;49;00m, \u001b[94m68\u001b[39;49;00m) \u001b[90m#Bug\u001b[39;49;00m\u001b[90m\u001b[39;49;00m\n",
            "\u001b[1m\u001b[31mE       assert (10, 32, 58) == (10, 32, 68)\u001b[0m\n",
            "\u001b[1m\u001b[31mE         At index 2 diff: 58 != 68\u001b[0m\n",
            "\u001b[1m\u001b[31mE         Use -v to get more diff\u001b[0m\n",
            "\n",
            "\u001b[1m\u001b[31mtest_functions.py\u001b[0m:11: AssertionError\n",
            "--------------------------------------- Captured stdout call ---------------------------------------\n",
            "number is not odd\n",
            "\u001b[36m\u001b[1m===================================== short test summary info ======================================\u001b[0m\n",
            "\u001b[31mFAILED\u001b[0m test_functions.py::\u001b[1mtest_test2\u001b[0m - assert (10, 32, 58) == (10, 32, 68)\n",
            "\u001b[31m=================================== \u001b[31m\u001b[1m1 failed\u001b[0m, \u001b[32m1 passed\u001b[0m\u001b[31m in 0.10s\u001b[0m\u001b[31m ====================================\u001b[0m\n"
          ]
        }
      ]
    }
  ]
}