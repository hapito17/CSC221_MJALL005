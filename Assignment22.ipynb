{
  "nbformat": 4,
  "nbformat_minor": 0,
  "metadata": {
    "colab": {
      "provenance": [],
      "authorship_tag": "ABX9TyMUi+bmcMogGl/bV+OgcNcp",
      "include_colab_link": true
    },
    "kernelspec": {
      "name": "python3",
      "display_name": "Python 3"
    },
    "language_info": {
      "name": "python"
    }
  },
  "cells": [
    {
      "cell_type": "markdown",
      "metadata": {
        "id": "view-in-github",
        "colab_type": "text"
      },
      "source": [
        "<a href=\"https://colab.research.google.com/github/hapito17/CSC221_MJALL005/blob/main/Assignment22.ipynb\" target=\"_parent\"><img src=\"https://colab.research.google.com/assets/colab-badge.svg\" alt=\"Open In Colab\"/></a>"
      ]
    },
    {
      "cell_type": "code",
      "execution_count": null,
      "metadata": {
        "colab": {
          "base_uri": "https://localhost:8080/"
        },
        "id": "IbWReV9r-7Hc",
        "outputId": "3fa5f2bc-317a-4273-b306-895ce4619fde"
      },
      "outputs": [
        {
          "output_type": "stream",
          "name": "stdout",
          "text": [
            "Original vectors:\n",
            "(3, 4)\n",
            "(1, 2)\n",
            "(5, 1)\n",
            "(0, 0)\n",
            "\n",
            "Sorted vectors by length:\n",
            "(0, 0)\n",
            "(1, 2)\n",
            "(3, 4)\n",
            "(5, 1)\n"
          ]
        }
      ],
      "source": [
        "import math\n",
        "\n",
        "class Vector2D:\n",
        "    def __init__(self, x, y):\n",
        "        self.x = x\n",
        "        self.y = y\n",
        "\n",
        "    def __str__(self):\n",
        "        return f\"({self.x}, {self.y})\"\n",
        "\n",
        "    def __lt__(self, other):\n",
        "        return self.length() < other.length()\n",
        "\n",
        "    def length(self):\n",
        "        return math.sqrt(self.x ** 2 + self.y ** 2)\n",
        "\n",
        "# Example usage:\n",
        "vectors = [\n",
        "    Vector2D(3, 4),\n",
        "    Vector2D(1, 2),\n",
        "    Vector2D(5, 1),\n",
        "    Vector2D(0, 0),\n",
        "]\n",
        "\n",
        "# Print original vectors\n",
        "print(\"Original vectors:\")\n",
        "for vector in vectors:\n",
        "    print(vector)\n",
        "\n",
        "# Sort vectors by length\n",
        "sorted_vectors = sorted(vectors)\n",
        "\n",
        "# Print sorted vectors\n",
        "print(\"\\nSorted vectors by length:\")\n",
        "for vector in sorted_vectors:\n",
        "    print(vector)"
      ]
    },
    {
      "cell_type": "code",
      "source": [
        "import math\n",
        "\n",
        "class Vector2D:\n",
        "    def __init__(self, x, y):\n",
        "        self.x = x\n",
        "        self.y = y\n",
        "\n",
        "    def __str__(self):\n",
        "        return f\"({self.x}, {self.y})\"\n",
        "\n",
        "    def __lt__(self, other):\n",
        "        return self.length() < other.length()\n",
        "\n",
        "    def length(self):\n",
        "        return math.sqrt(self.x + self.y)\n",
        "\n",
        "# Example usage:\n",
        "vectors = [\n",
        "    Vector2D(3, 4),\n",
        "    Vector2D(1, 2),\n",
        "    Vector2D(5, 1),\n",
        "    Vector2D(0, 0),\n",
        "]\n",
        "\n",
        "# Print original vectors\n",
        "print(\"Original vectors:\")\n",
        "for vector in vectors:\n",
        "    print(vector)\n",
        "\n",
        "# Sort vectors by Euclidean length\n",
        "sorted_vectors = sorted(vectors, key=lambda vector: vector.length())\n",
        "\n",
        "# Print sorted vectors\n",
        "print(\"\\nSorted vectors by Euclidean length:\")\n",
        "for vector in sorted_vectors:\n",
        "    print(vector)\n"
      ],
      "metadata": {
        "colab": {
          "base_uri": "https://localhost:8080/"
        },
        "id": "sjssEznFeANx",
        "outputId": "bddc7625-4ab7-4672-da18-895aafcfc5fc"
      },
      "execution_count": null,
      "outputs": [
        {
          "output_type": "stream",
          "name": "stdout",
          "text": [
            "Original vectors:\n",
            "(3, 4)\n",
            "(1, 2)\n",
            "(5, 1)\n",
            "(0, 0)\n",
            "\n",
            "Sorted vectors by Euclidean length:\n",
            "(0, 0)\n",
            "(1, 2)\n",
            "(5, 1)\n",
            "(3, 4)\n"
          ]
        }
      ]
    },
    {
      "cell_type": "code",
      "source": [
        "class KeyLengthContainer:\n",
        "    def __init__(self):\n",
        "        self.data = {}\n",
        "\n",
        "    def __getitem__(self, key):\n",
        "        if key in self.data:\n",
        "            return len(str(key))\n",
        "        else:\n",
        "            raise KeyError(\"Key not found\")\n",
        "\n",
        "    def __setitem__(self, key, value):\n",
        "        self.data[key] = value\n",
        "\n",
        "    def __delitem__(self, key):\n",
        "        if key in self.data:\n",
        "            del self.data[key]\n",
        "        else:\n",
        "            raise KeyError(f\"Key not found: {key}\")\n",
        "\n",
        "    def __len__(self):\n",
        "        return len(self.data)\n",
        "\n",
        "    def __contains__(self, key):\n",
        "        return key in self.data\n",
        "\n",
        "# Example usage:\n",
        "container = KeyLengthContainer()\n",
        "\n",
        "# Add items to the container\n",
        "container['apple'] = 'red'\n",
        "container['banana'] = 'yellow'\n",
        "container['cherry'] = 'red'\n",
        "\n",
        "# Print the length of the keys\n",
        "for key in container.data.keys():\n",
        "    print(f\"Length of key '{key}': {container[key]}\")\n",
        "\n",
        "# Print the number of items in the container\n",
        "print(f\"Number of items in the container: {len(container)}\")\n"
      ],
      "metadata": {
        "colab": {
          "base_uri": "https://localhost:8080/"
        },
        "id": "nedEKPsWfUfD",
        "outputId": "e453870d-7a06-4246-8c6b-3e7acaf84d3a"
      },
      "execution_count": 5,
      "outputs": [
        {
          "output_type": "stream",
          "name": "stdout",
          "text": [
            "Length of key 'apple': 5\n",
            "Length of key 'banana': 6\n",
            "Length of key 'cherry': 6\n",
            "Number of items in the container: 3\n"
          ]
        }
      ]
    }
  ]
}