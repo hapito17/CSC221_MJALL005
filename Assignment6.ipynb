{
  "nbformat": 4,
  "nbformat_minor": 0,
  "metadata": {
    "colab": {
      "provenance": [],
      "authorship_tag": "ABX9TyPLMvdidJioG6KG+dvr1ryf",
      "include_colab_link": true
    },
    "kernelspec": {
      "name": "python3",
      "display_name": "Python 3"
    },
    "language_info": {
      "name": "python"
    }
  },
  "cells": [
    {
      "cell_type": "markdown",
      "metadata": {
        "id": "view-in-github",
        "colab_type": "text"
      },
      "source": [
        "<a href=\"https://colab.research.google.com/github/hapito17/CSC221_MJALL005/blob/main/Assignment6.ipynb\" target=\"_parent\"><img src=\"https://colab.research.google.com/assets/colab-badge.svg\" alt=\"Open In Colab\"/></a>"
      ]
    },
    {
      "cell_type": "code",
      "execution_count": 2,
      "metadata": {
        "colab": {
          "base_uri": "https://localhost:8080/"
        },
        "id": "2GGwQ0FXXTqZ",
        "outputId": "7880a95e-7ac0-4b7c-8642-3150bec785c0"
      },
      "outputs": [
        {
          "output_type": "stream",
          "name": "stdout",
          "text": [
            "Audi\n",
            "BMW\n",
            "Subaru\n",
            "Toyota\n"
          ]
        }
      ],
      "source": [
        "cars = ['audi', 'bmw', 'subaru', 'toyota']\n",
        "for car in cars:\n",
        " if car == 'bmw':\n",
        "  print(car.upper())\n",
        " else:\n",
        "  print(car.title())"
      ]
    },
    {
      "cell_type": "code",
      "source": [
        "car = 'Audi'\n",
        "car == 'audi'\n",
        "car.lower() == 'audi'"
      ],
      "metadata": {
        "colab": {
          "base_uri": "https://localhost:8080/"
        },
        "id": "qH-9908YY9xm",
        "outputId": "11785577-4b93-4f46-d071-cc889d111bd0"
      },
      "execution_count": 4,
      "outputs": [
        {
          "output_type": "execute_result",
          "data": {
            "text/plain": [
              "True"
            ]
          },
          "metadata": {},
          "execution_count": 4
        }
      ]
    },
    {
      "cell_type": "code",
      "source": [
        "requested_topping = 'mushrooms'\n",
        "if requested_topping != 'anchovies':\n",
        " print(\"Hold the anchovies!\")"
      ],
      "metadata": {
        "colab": {
          "base_uri": "https://localhost:8080/"
        },
        "id": "XsnnlQKfZC30",
        "outputId": "ee8e8318-24d6-4574-ee17-e4b378600e73"
      },
      "execution_count": 5,
      "outputs": [
        {
          "output_type": "stream",
          "name": "stdout",
          "text": [
            "Hold the anchovies!\n"
          ]
        }
      ]
    },
    {
      "cell_type": "code",
      "source": [
        "answer = 17\n",
        "\n",
        "if answer != 42:\n",
        " print(\"That is not the correct answer. Please try again!\")"
      ],
      "metadata": {
        "colab": {
          "base_uri": "https://localhost:8080/"
        },
        "id": "lU9d-g_xZoBy",
        "outputId": "5a3f2784-36a4-4f06-f906-19ad8e56af99"
      },
      "execution_count": 7,
      "outputs": [
        {
          "output_type": "stream",
          "name": "stdout",
          "text": [
            "That is not the correct answer. Please try again!\n"
          ]
        }
      ]
    },
    {
      "cell_type": "code",
      "source": [
        "age_0 = 22\n",
        "age_1 = 18\n",
        "age_0 >= 21 or age_1 >= 21"
      ],
      "metadata": {
        "colab": {
          "base_uri": "https://localhost:8080/"
        },
        "id": "73V9PEheZswZ",
        "outputId": "7f32b658-96e7-409d-918a-6ea48871d3a0"
      },
      "execution_count": 8,
      "outputs": [
        {
          "output_type": "execute_result",
          "data": {
            "text/plain": [
              "True"
            ]
          },
          "metadata": {},
          "execution_count": 8
        }
      ]
    },
    {
      "cell_type": "code",
      "source": [
        "requested_toppings = ['mushrooms', 'onions', 'pineapple']\n",
        "'mushrooms' in requested_topping\n",
        "'pepperoni' in requested_toppings"
      ],
      "metadata": {
        "colab": {
          "base_uri": "https://localhost:8080/"
        },
        "id": "81hmf55NaDXJ",
        "outputId": "45807418-3650-4ee6-ffed-73d847d15b14"
      },
      "execution_count": 11,
      "outputs": [
        {
          "output_type": "execute_result",
          "data": {
            "text/plain": [
              "False"
            ]
          },
          "metadata": {},
          "execution_count": 11
        }
      ]
    },
    {
      "cell_type": "code",
      "source": [
        "banned_users = ['andrew', 'carolina', 'david']\n",
        "user = 'marie'\n",
        "if user not in banned_users:\n",
        " print(user.title() + \", you can post a response if you wish\")"
      ],
      "metadata": {
        "colab": {
          "base_uri": "https://localhost:8080/"
        },
        "id": "RYQNTznOainD",
        "outputId": "1623fd45-bb6b-4460-b96a-44ad941e16c0"
      },
      "execution_count": 12,
      "outputs": [
        {
          "output_type": "stream",
          "name": "stdout",
          "text": [
            "Marie, you can post a response if you wish\n"
          ]
        }
      ]
    },
    {
      "cell_type": "code",
      "source": [
        "#try it yourself 5.1\n",
        "car = 'bmw'\n",
        "\n",
        "print(\"Is car == 'bmw'? I predict True.\")\n",
        "print(car == 'bmw')\n",
        "\n",
        "print(\"\\nIs car == 'toyota'? I predict False.\")\n",
        "print(car == 'toyota')\n",
        "\n",
        "food = 'pizza'\n",
        "\n",
        "print(\"\\nIs food == 'pizza'? I predict True.\")\n",
        "print(car == 'pizza')\n",
        "\n",
        "print(\"\\nIs car == 'potatos'? I predict False.\")\n",
        "print(food == 'potatos')\n",
        "\n",
        "country = 'USA'\n",
        "\n",
        "print(\"\\nIs country == 'USA'? I predict True.\")\n",
        "print(country == 'USA')\n",
        "\n",
        "print(\"\\nIs country == 'China'? I predict False.\")\n",
        "print(country == 'China')\n",
        "\n",
        "sport = 'baseball'\n",
        "\n",
        "print(\"\\nIs sport == 'baseball'? I predict True.\")\n",
        "print(sport == 'baseball')\n",
        "\n",
        "print(\"\\nIs sport == 'tennis'? I predict False.\")\n",
        "print(sport == 'tennis')\n",
        "\n",
        "colour = 'blue'\n",
        "\n",
        "print(\"\\nIs colour == 'blue'? I predict True.\")\n",
        "print(colour == 'blue')\n",
        "\n",
        "print(\"\\nIs colour == 'red'? I predict False.\")\n",
        "print(colour == 'red')"
      ],
      "metadata": {
        "colab": {
          "base_uri": "https://localhost:8080/"
        },
        "id": "k4OifaP5bLaA",
        "outputId": "919c777c-f102-46b1-df24-b0e026cd5e4d"
      },
      "execution_count": 15,
      "outputs": [
        {
          "output_type": "stream",
          "name": "stdout",
          "text": [
            "Is car == 'bmw'? I predict True.\n",
            "True\n",
            "\n",
            "Is car == 'toyota'? I predict False.\n",
            "False\n",
            "\n",
            "Is food == 'pizza'? I predict True.\n",
            "False\n",
            "\n",
            "Is car == 'potatos'? I predict False.\n",
            "False\n",
            "\n",
            "Is country == 'USA'? I predict True.\n",
            "True\n",
            "\n",
            "Is country == 'China'? I predict False.\n",
            "False\n",
            "\n",
            "Is sport == 'baseball'? I predict True.\n",
            "True\n",
            "\n",
            "Is sport == 'tennis'? I predict False.\n",
            "False\n",
            "\n",
            "Is colour == 'blue'? I predict True.\n",
            "True\n",
            "\n",
            "Is colour == 'red'? I predict False.\n",
            "False\n"
          ]
        }
      ]
    },
    {
      "cell_type": "code",
      "source": [
        "#try it yourself 5.2\n",
        "string = \"Plant\"\n",
        "print(string == \"PLANT\")\n",
        "print(string ==\"plant\")\n",
        "print(string.lower() == \"plant\")\n",
        "\n",
        "number = 12\n",
        "print(number > 5)\n",
        "print(number < 15)\n",
        "print(number != 12)\n",
        "print(number == 12)\n",
        "print((number >= 12) or (number == 9))\n",
        "print((number < 20) and (number > 10))\n",
        "\n",
        "list = [\"12\", 10, \"frog\"]\n",
        "print(12 in list)\n",
        "print(10 in list)\n",
        "print(\"frog\" not in list)"
      ],
      "metadata": {
        "colab": {
          "base_uri": "https://localhost:8080/"
        },
        "id": "xDdRuVhMdN8n",
        "outputId": "82a6a581-20d3-4d50-c08f-f6a6a7e2e150"
      },
      "execution_count": 18,
      "outputs": [
        {
          "output_type": "stream",
          "name": "stdout",
          "text": [
            "False\n",
            "False\n",
            "True\n",
            "True\n",
            "True\n",
            "False\n",
            "True\n",
            "True\n",
            "True\n",
            "False\n",
            "True\n",
            "False\n"
          ]
        }
      ]
    },
    {
      "cell_type": "code",
      "source": [
        "age = 17\n",
        "if age >= 18:\n",
        "  print(\"You are old enough to vote!\")\n",
        "  print(\"Have you registered to vote yet?\")\n",
        "else:\n",
        " print(\"Sorry, you are too young to vote.\")\n",
        " print(\"Please register to vote as soon as you turn 18!\")"
      ],
      "metadata": {
        "colab": {
          "base_uri": "https://localhost:8080/"
        },
        "id": "OH069zdYfNsF",
        "outputId": "93d68a80-a58b-4e38-ed02-0b7a516d05fe"
      },
      "execution_count": 21,
      "outputs": [
        {
          "output_type": "stream",
          "name": "stdout",
          "text": [
            "Sorry, you are too young to vote.\n",
            "Please register to vote as soon as you turn 18!\n"
          ]
        }
      ]
    },
    {
      "cell_type": "code",
      "source": [
        "age = 12\n",
        "if age < 4:\n",
        " print(\"Your admission cost is $0.\")\n",
        " price = 0\n",
        "elif age < 18:\n",
        " print(\"Your admission cost is $5.\")\n",
        " price = 5\n",
        "elif age < 65:\n",
        " price = 10\n",
        "else:\n",
        " print(\"Your admission cost is $10.\")\n",
        " price = 10\n",
        "print(\"Your admission cost is $\" + str(price) + \".\")"
      ],
      "metadata": {
        "colab": {
          "base_uri": "https://localhost:8080/"
        },
        "id": "-SCMHYAbgKTG",
        "outputId": "d67934db-e584-448d-edff-d6e3f63f8850"
      },
      "execution_count": 23,
      "outputs": [
        {
          "output_type": "stream",
          "name": "stdout",
          "text": [
            "Your admission cost is $5.\n",
            "Your admission cost is $5.\n"
          ]
        }
      ]
    },
    {
      "cell_type": "code",
      "source": [
        "requested_toppings = ['mushrooms', 'extra cheese']\n",
        "if 'mushrooms' in requested_toppings:\n",
        " print(\"Adding mushrooms.\")\n",
        "if 'pepperoni' in requested_toppings:\n",
        " print(\"Adding pepperoni.\")\n",
        "if 'extra cheese' in requested_toppings:\n",
        " print(\"Adding extra cheese.\")\n",
        "\n",
        "print(\"\\nFinished making your pizza!\")"
      ],
      "metadata": {
        "colab": {
          "base_uri": "https://localhost:8080/"
        },
        "id": "NcKfD8X3hvtv",
        "outputId": "0023defd-1b65-48f7-be59-24b59d0ef4b2"
      },
      "execution_count": 24,
      "outputs": [
        {
          "output_type": "stream",
          "name": "stdout",
          "text": [
            "Adding mushrooms.\n",
            "Adding extra cheese.\n",
            "\n",
            "Finished making your pizza!\n"
          ]
        }
      ]
    },
    {
      "cell_type": "code",
      "source": [
        "#try it yourself 5.3\n",
        "alien_color = \"yellow\"\n",
        "if alien_color == \"green\": print(\"You just earned 5 points\")"
      ],
      "metadata": {
        "colab": {
          "base_uri": "https://localhost:8080/"
        },
        "id": "xzvkMLCHk2Zy",
        "outputId": "ef910bce-3377-437d-a954-3d5c86144958"
      },
      "execution_count": 3,
      "outputs": [
        {
          "output_type": "stream",
          "name": "stdout",
          "text": [
            "You just earned 5 points\n"
          ]
        }
      ]
    },
    {
      "cell_type": "code",
      "source": [
        "#try it yourself 5.4\n",
        "alien_color = \"yellow\"\n",
        "if alien_color == \"green\": print(\"You just earned 5 points\")\n",
        "else: print(\"you just earned 10 points\")"
      ],
      "metadata": {
        "colab": {
          "base_uri": "https://localhost:8080/"
        },
        "id": "NDKSEY_Xlf31",
        "outputId": "7e832881-92b9-4f6d-c125-bf63b9beda64"
      },
      "execution_count": 4,
      "outputs": [
        {
          "output_type": "stream",
          "name": "stdout",
          "text": [
            "you just earned 10 points\n"
          ]
        }
      ]
    },
    {
      "cell_type": "code",
      "source": [
        "#try it yourself 5.5\n",
        "alien_color = \"yellow\"\n",
        "if alien_color == \"green\": print(\"You just earned 5 points\")\n",
        "elif alien_color == \"yellow\": print(\"you just earned 10 points\")\n",
        "else: print(\"you just earned 15 points\")"
      ],
      "metadata": {
        "colab": {
          "base_uri": "https://localhost:8080/"
        },
        "id": "3qvJGg5al0x-",
        "outputId": "738eb2cd-1b9f-431c-86cc-44082dc58453"
      },
      "execution_count": 5,
      "outputs": [
        {
          "output_type": "stream",
          "name": "stdout",
          "text": [
            "you just earned 10 points\n"
          ]
        }
      ]
    },
    {
      "cell_type": "code",
      "source": [
        "#try it yourself 5.6 (slightly modified ;))\n",
        "import random\n",
        "age = random.randint(0, 100)\n",
        "print(f'your age is {age}')\n",
        "if age < 2: print(\"you're a baby\")\n",
        "elif age < 4: print(\"you're a toddler\")\n",
        "elif age < 13: print(\"you're a kid\")\n",
        "elif age < 20: print(\"you're a teenager\")\n",
        "elif age < 65: print(\"you're an adult\")\n",
        "else: print(\"you're an elder\")"
      ],
      "metadata": {
        "colab": {
          "base_uri": "https://localhost:8080/"
        },
        "id": "OUiqh5zrmKrn",
        "outputId": "e0580a5d-45b0-4b56-b0ce-c74374648a82"
      },
      "execution_count": 26,
      "outputs": [
        {
          "output_type": "stream",
          "name": "stdout",
          "text": [
            "your age is 70\n",
            "you're an elder\n"
          ]
        }
      ]
    },
    {
      "cell_type": "code",
      "source": [
        "#try it yourself 5.7\n",
        "favorite_fruits = [\"mango\", \"apple\", \"grape\"]\n",
        "if \"mango\" in favorite_fruits: print(\"wow you love mango\")\n",
        "if \"apple\" in favorite_fruits: print(\"wow you love apple\")\n",
        "if \"orange\" in favorite_fruits: print(\"wow you love orange\")\n",
        "if \"pinapple\" in favorite_fruits: print(\"wow you love pineapple\")\n",
        "if \"grape\" in favorite_fruits: print(\"wow you love grape\")"
      ],
      "metadata": {
        "colab": {
          "base_uri": "https://localhost:8080/"
        },
        "id": "mffVKyu9niqf",
        "outputId": "2f3f2eb9-d121-4413-9639-21706ef88bbe"
      },
      "execution_count": 27,
      "outputs": [
        {
          "output_type": "stream",
          "name": "stdout",
          "text": [
            "wow you love mango\n",
            "wow you love apple\n",
            "wow you love grape\n"
          ]
        }
      ]
    },
    {
      "cell_type": "code",
      "source": [
        "requested_toppings = ['mushrooms', 'green peppers', 'extra cheese']\n",
        "for requested_topping in requested_toppings:\n",
        "  if requested_topping == 'green peppers':\n",
        "    print(\"Sorry, we are out of green peppers right now.\")\n",
        "  else:\n",
        "    print(\"Adding \" + requested_topping + \".\")\n",
        "print(\"\\nFinished making your pizza!\")"
      ],
      "metadata": {
        "colab": {
          "base_uri": "https://localhost:8080/"
        },
        "id": "RImnUMEXpR6C",
        "outputId": "55f444e7-62fe-4c78-f713-2e3afca318bb"
      },
      "execution_count": 29,
      "outputs": [
        {
          "output_type": "stream",
          "name": "stdout",
          "text": [
            "Adding mushrooms.\n",
            "Sorry, we are out of green peppers right now.\n",
            "Adding extra cheese.\n",
            "\n",
            "Finished making your pizza!\n"
          ]
        }
      ]
    },
    {
      "cell_type": "code",
      "source": [
        "requested_toppings = []\n",
        "if requested_toppings:\n",
        " for requested_topping in requested_toppings:\n",
        "  print(\"Adding \" + requested_topping + \".\")\n",
        " print(\"\\nFinished making your pizza!\")\n",
        "else:\n",
        " print(\"Are you sure you want a plain pizza?\")"
      ],
      "metadata": {
        "colab": {
          "base_uri": "https://localhost:8080/"
        },
        "id": "le6VHCZup4tM",
        "outputId": "f8231b4e-272d-4f55-a3fa-794a78767411"
      },
      "execution_count": 30,
      "outputs": [
        {
          "output_type": "stream",
          "name": "stdout",
          "text": [
            "Are you sure you want a plain pizza?\n"
          ]
        }
      ]
    },
    {
      "cell_type": "code",
      "source": [
        "available_toppings = ['mushrooms', 'olives', 'green peppers',\n",
        " 'pepperoni', 'pineapple', 'extra cheese']\n",
        "requested_toppings = ['mushrooms', 'french fries', 'extra cheese']\n",
        "for requested_topping in requested_toppings:\n",
        "  if requested_topping in available_toppings:\n",
        "    print(\"Adding \" + requested_topping + \".\")\n",
        "  else:\n",
        "    print(\"Sorry, we don't have \" + requested_topping + \".\")\n",
        "\n",
        "print(\"\\nFinished making your pizza!\")"
      ],
      "metadata": {
        "colab": {
          "base_uri": "https://localhost:8080/"
        },
        "id": "srMtZCFGpXsU",
        "outputId": "30216032-80b8-47df-e4c7-bc49d7d0fd3a"
      },
      "execution_count": 31,
      "outputs": [
        {
          "output_type": "stream",
          "name": "stdout",
          "text": [
            "Adding mushrooms.\n",
            "Sorry, we don't have french fries.\n",
            "Adding extra cheese.\n",
            "\n",
            "Finished making your pizza!\n"
          ]
        }
      ]
    },
    {
      "cell_type": "code",
      "source": [
        "#try it yourself 5.8\n",
        "usernames = [\"Eric\", \"Dave\", \"Aaron\", \"Bob\", \"Admin\"]\n",
        "for user in usernames:\n",
        "  if user == \"Admin\": print(f'welcome {user} would your like to see the status report')\n",
        "  else: print(f'welcome {user} happy to have you back')"
      ],
      "metadata": {
        "colab": {
          "base_uri": "https://localhost:8080/"
        },
        "id": "rN_MbectrE39",
        "outputId": "fd71f039-041e-4a22-9dc6-b4b81de6e477"
      },
      "execution_count": 32,
      "outputs": [
        {
          "output_type": "stream",
          "name": "stdout",
          "text": [
            "welcome Eric happy to have you back\n",
            "welcome Dave happy to have you back\n",
            "welcome Aaron happy to have you back\n",
            "welcome Bob happy to have you back\n",
            "welcome Admin would your like to see the status report\n"
          ]
        }
      ]
    },
    {
      "cell_type": "code",
      "source": [
        "#try it yourself 5.9\n",
        "usernames = []\n",
        "if usernames:\n",
        "  for user in usernames:\n",
        "    if user == \"Admin\": print(f'welcome {user} would your like to see the status report')\n",
        "    else: print(f'welcome {user} happy to have you back')\n",
        "else: print(\"we need to find some users\")"
      ],
      "metadata": {
        "colab": {
          "base_uri": "https://localhost:8080/"
        },
        "id": "D8v267U0sAaB",
        "outputId": "ff121935-f56b-4616-c6f8-d2c1dea67ab1"
      },
      "execution_count": 34,
      "outputs": [
        {
          "output_type": "stream",
          "name": "stdout",
          "text": [
            "we need to find some users\n"
          ]
        }
      ]
    },
    {
      "cell_type": "code",
      "source": [
        "#try it yourself 5.10\n",
        "current_users = [\"mike\", \"simon\", \"ken\", \"rob\", \"jamal\"]\n",
        "new_users = [\"ken\", \"thomas\", \"greg\", \"jason\", \"simon\"]\n",
        "for user in new_users:\n",
        "  check = 0\n",
        "  for user2 in current_users:\n",
        "    if user.lower() == user2.lower():\n",
        "      print(f'{user} is not an available nickname')\n",
        "      check +=1\n",
        "  if check == 0: print(f'{user} is an available nickname')"
      ],
      "metadata": {
        "colab": {
          "base_uri": "https://localhost:8080/"
        },
        "id": "0NDvXH0xsXMB",
        "outputId": "5fc1ed8d-6c7e-4bfd-f4b4-f7fe2b41853e"
      },
      "execution_count": 37,
      "outputs": [
        {
          "output_type": "stream",
          "name": "stdout",
          "text": [
            "ken is not an available nickname\n",
            "thomas is an available nickname\n",
            "greg is an available nickname\n",
            "jason is an available nickname\n",
            "simon is not an available nickname\n"
          ]
        }
      ]
    },
    {
      "cell_type": "code",
      "source": [
        "#try it yourself 5.11\n",
        "numbers = list(range(1, 10))\n",
        "for num in numbers:\n",
        "  if num == 1: print(f'{num}st')\n",
        "  elif num == 2: print(f'{num}nd')\n",
        "  elif num == 3: print(f'{num}rd')\n",
        "  else: print(f'{num}th')"
      ],
      "metadata": {
        "colab": {
          "base_uri": "https://localhost:8080/"
        },
        "id": "poiqoKgUvXT7",
        "outputId": "f8b13dc3-8032-4fef-8c5a-babd2fc56962"
      },
      "execution_count": 39,
      "outputs": [
        {
          "output_type": "stream",
          "name": "stdout",
          "text": [
            "1st\n",
            "2nd\n",
            "3rd\n",
            "4th\n",
            "5th\n",
            "6th\n",
            "7th\n",
            "8th\n",
            "9th\n"
          ]
        }
      ]
    },
    {
      "cell_type": "markdown",
      "source": [
        "For exercise 5.13, it seems that some students borrowed books from the library and didn't return them. student's names, emails, books they borrowed, and whether or not they returned the books to the library are all stored in different lists but at the same index. My job is to make it so that all student's information is printed when a librarian enters their name"
      ],
      "metadata": {
        "id": "tctAYIH2ywo6"
      }
    },
    {
      "cell_type": "code",
      "source": [
        "#try it yourself 5.13\n",
        "students = [\"Chris Pratt\", \"Ned Stark\", \"Luke Skywalker\"]\n",
        "books = [\"Romeo and Juliet\", \"Harry potter\", \"History of darth vader\"]\n",
        "emails = [\"starlord@gmail.com\", \"Ned@gmail.com\", \"Lukethebest@gmail.com\"]\n",
        "status = [\"returned\", \"not returned\", \"not returned\"]\n",
        "position = 0\n",
        "name = input(\"enter a name of a student\")\n",
        "while not name in students:\n",
        "  print(\"sorry, don't have that students name in out system\")\n",
        "  name = input(\"enter a name of a student\")\n",
        "length = len(students)\n",
        "for n in range(1, length):\n",
        "  if students[n] == name: position = n\n",
        "\n",
        "print(f'{students[position]} borrowed {books[position]} and has {status[position]} it. you can reach the student at {emails[position]}')"
      ],
      "metadata": {
        "colab": {
          "base_uri": "https://localhost:8080/"
        },
        "id": "g1phwAIOwTxM",
        "outputId": "d42d7347-9f68-45bb-b317-dd72a7dc433a"
      },
      "execution_count": 45,
      "outputs": [
        {
          "output_type": "stream",
          "name": "stdout",
          "text": [
            "enter a name of a studentLuke Skywalker\n",
            "Luke Skywalker borrowed History of darth vader and has not returned it. you can reach the student at Lukethebest@gmail.com\n"
          ]
        }
      ]
    }
  ]
}