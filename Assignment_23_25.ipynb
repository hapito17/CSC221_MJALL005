{
  "nbformat": 4,
  "nbformat_minor": 0,
  "metadata": {
    "colab": {
      "provenance": [],
      "authorship_tag": "ABX9TyO00x85Rt6Q4Pl/ymIhBtFY",
      "include_colab_link": true
    },
    "kernelspec": {
      "name": "python3",
      "display_name": "Python 3"
    },
    "language_info": {
      "name": "python"
    }
  },
  "cells": [
    {
      "cell_type": "markdown",
      "metadata": {
        "id": "view-in-github",
        "colab_type": "text"
      },
      "source": [
        "<a href=\"https://colab.research.google.com/github/hapito17/CSC221_MJALL005/blob/main/Assignment_23_25.ipynb\" target=\"_parent\"><img src=\"https://colab.research.google.com/assets/colab-badge.svg\" alt=\"Open In Colab\"/></a>"
      ]
    },
    {
      "cell_type": "code",
      "execution_count": null,
      "metadata": {
        "colab": {
          "base_uri": "https://localhost:8080/"
        },
        "id": "BNsWkgLj9lbp",
        "outputId": "53bbb9b5-31f1-4c76-e265-ecbac7d08f0f"
      },
      "outputs": [
        {
          "output_type": "stream",
          "name": "stdout",
          "text": [
            "5\n",
            "5\n",
            "20\n",
            "sorry invalid input, enter 2 numbers\n",
            "None\n"
          ]
        }
      ],
      "source": [
        "def add(a, b):\n",
        "  try:\n",
        "    a = int(a)\n",
        "    b = int(b)\n",
        "    return a + b\n",
        "  except:\n",
        "    print(\"sorry invalid input, enter 2 numbers\")\n",
        "\n",
        "print(add(2, 3))\n",
        "print(add(2, '3'))\n",
        "print(add(12, 8))\n",
        "print(add(2, \"hello\"))\n"
      ]
    },
    {
      "cell_type": "code",
      "source": [
        "def add_all(*a):\n",
        "  try:\n",
        "    sum = 0\n",
        "    count = 0\n",
        "    while len(a) != count:\n",
        "      current = int(a[count])\n",
        "      sum = sum + current\n",
        "      count += 1\n",
        "    return sum\n",
        "  except:\n",
        "    print(\"sorry invalid input, enter the numbers you want to add\")\n",
        "\n",
        "print(add_all(2,3,4))\n",
        "print(add_all(8,11))\n",
        "print(add_all('4'))\n",
        "print(add_all(2, 'hello'))\n",
        "print(add_all(9,10,11,12,13))"
      ],
      "metadata": {
        "colab": {
          "base_uri": "https://localhost:8080/"
        },
        "id": "oJwuLXVy-rTH",
        "outputId": "bd59d15a-0d23-4592-e224-41f2b6441815"
      },
      "execution_count": null,
      "outputs": [
        {
          "output_type": "stream",
          "name": "stdout",
          "text": [
            "9\n",
            "19\n",
            "4\n",
            "sorry invalid input, enter the numbers you want to add\n",
            "None\n",
            "55\n"
          ]
        }
      ]
    },
    {
      "cell_type": "code",
      "source": [
        "def names_interests(**kwargs):\n",
        "  for key, value in kwargs.items():\n",
        "    print(f'{key} likes {value}')\n",
        "\n",
        "names_interests(John = \"swimming\", David = \"bungee jumping\")\n",
        "names_interests(Sophia = \"tea parties\")\n",
        "names_interests(Maria = \"salsa\", Oscar = \"football\", Simone = \"comedy\")\n"
      ],
      "metadata": {
        "colab": {
          "base_uri": "https://localhost:8080/"
        },
        "id": "b79lNwMDBRdB",
        "outputId": "aaafaf79-caf0-40f7-ca10-6e8ed8668d06"
      },
      "execution_count": null,
      "outputs": [
        {
          "output_type": "stream",
          "name": "stdout",
          "text": [
            "John likes swimming\n",
            "David likes bungee jumping\n",
            "Sophia likes tea parties\n",
            "Maria likes salsa\n",
            "Oscar likes football\n",
            "Simone likes comedy\n"
          ]
        }
      ]
    },
    {
      "cell_type": "code",
      "source": [
        "def plus_minus(*args, **kwargs):\n",
        "  sum = 0\n",
        "  first = True\n",
        "  for x in args:\n",
        "    if first == True:\n",
        "      sum = x\n",
        "      first = False\n",
        "    else:\n",
        "      for key, value in kwargs.items():\n",
        "        if value == '+':\n",
        "          sum = sum + x\n",
        "        elif value == '-':\n",
        "          sum = sum - x\n",
        "  return sum\n",
        "\n",
        "print(plus_minus(1, 2, 3, Operator = '+'))\n",
        "print(plus_minus(1, 2, 3, Operator = '-'))\n",
        "print(plus_minus(1, 3, 9, Operator = '+'))\n",
        "print(plus_minus(7, 2, 4, Operator = '-'))"
      ],
      "metadata": {
        "colab": {
          "base_uri": "https://localhost:8080/"
        },
        "id": "4e7hYpPtEYEf",
        "outputId": "415e7fa6-b0ee-46d9-d40a-6e6cf54d2dcc"
      },
      "execution_count": null,
      "outputs": [
        {
          "output_type": "stream",
          "name": "stdout",
          "text": [
            "6\n",
            "-4\n",
            "13\n",
            "1\n"
          ]
        }
      ]
    },
    {
      "cell_type": "code",
      "source": [
        "odd_count = 0\n",
        "\n",
        "def count_odd(*args):\n",
        "  for x in args:\n",
        "    global odd_count\n",
        "    if x % 2 == 1:\n",
        "      odd_count += 1\n",
        "  print(odd_count)\n",
        "count_odd(1, 2, 3, 4, 5)\n",
        "count_odd(3)\n",
        "count_odd(4, 6, 8)"
      ],
      "metadata": {
        "colab": {
          "base_uri": "https://localhost:8080/"
        },
        "id": "XimPXK6tL8Y9",
        "outputId": "4b089f9c-d977-46eb-a327-2b9f1fa992ce"
      },
      "execution_count": null,
      "outputs": [
        {
          "output_type": "stream",
          "name": "stdout",
          "text": [
            "3\n",
            "4\n",
            "4\n"
          ]
        }
      ]
    },
    {
      "cell_type": "code",
      "source": [
        "words = ['hello', 'hi', 'class', 'maybe', 'wakanda', 'no', 'alive', 'bee']\n",
        "result = sorted(words, key=lambda word: sum(1 for char in word if char.lower() in 'aeiou'))\n",
        "print(result)"
      ],
      "metadata": {
        "colab": {
          "base_uri": "https://localhost:8080/"
        },
        "id": "1dhZFyYAN7M2",
        "outputId": "c827399b-ce6a-4567-8393-92092c803cde"
      },
      "execution_count": null,
      "outputs": [
        {
          "output_type": "stream",
          "name": "stdout",
          "text": [
            "['hi', 'class', 'no', 'hello', 'maybe', 'bee', 'wakanda', 'alive']\n"
          ]
        }
      ]
    },
    {
      "cell_type": "code",
      "source": [
        "def logger(func):\n",
        "  def call(*args, **kwargs):\n",
        "\n",
        "    with open('log.txt', 'w') as file:\n",
        "      file.write(func.__name__)\n",
        "      file.write('\\n')\n",
        "      for x in args:\n",
        "        file.write(str(x))\n",
        "      file.write('\\n')\n",
        "      file.write(str(func(*args)))\n",
        "    return func(*args, **kwargs)\n",
        "  return call\n",
        "\n",
        "@logger\n",
        "def add(a, b):\n",
        "  try:\n",
        "    a = int(a)\n",
        "    b = int(b)\n",
        "    return a + b\n",
        "  except:\n",
        "    print(\"sorry invalid input, enter 2 numbers\")\n",
        "\n",
        "print(add(2, 3))\n"
      ],
      "metadata": {
        "colab": {
          "base_uri": "https://localhost:8080/"
        },
        "id": "i2vMs8Bqe0Ie",
        "outputId": "8844e267-2550-408f-b7c9-efeae9fdfe94"
      },
      "execution_count": null,
      "outputs": [
        {
          "output_type": "stream",
          "name": "stdout",
          "text": [
            "5\n"
          ]
        }
      ]
    },
    {
      "cell_type": "code",
      "source": [
        "from functools import reduce\n",
        "\n",
        "numbers = [1, 2, 3, 4, 5, 6, 7, 8, 9, 10]\n",
        "\n",
        "squared_numbers = list(map(lambda x: x**2, numbers))\n",
        "print(\"Squared Numbers:\", squared_numbers)\n",
        "\n",
        "even_numbers = list(filter(lambda x: x % 2 == 0, numbers))\n",
        "print(\"Even Numbers:\", even_numbers)\n",
        "\n",
        "product = reduce(lambda x, y: x * y, numbers)\n",
        "print(\"Product of Numbers:\", product)"
      ],
      "metadata": {
        "colab": {
          "base_uri": "https://localhost:8080/"
        },
        "id": "OEzoSsKmUnX3",
        "outputId": "37f848f5-7143-45ae-cb89-60ee32d33318"
      },
      "execution_count": 1,
      "outputs": [
        {
          "output_type": "stream",
          "name": "stdout",
          "text": [
            "Squared Numbers: [1, 4, 9, 16, 25, 36, 49, 64, 81, 100]\n",
            "Even Numbers: [2, 4, 6, 8, 10]\n",
            "Product of Numbers: 3628800\n"
          ]
        }
      ]
    },
    {
      "cell_type": "code",
      "source": [
        "while True:\n",
        "    expression = input(\"Enter a Python expression (or 'exit' to quit): \")\n",
        "\n",
        "    if expression.lower() == 'exit':\n",
        "        print(\"Exiting the calculator.\")\n",
        "        break\n",
        "\n",
        "    try:\n",
        "        exec(f\"result = {expression}\")\n",
        "        print(\"Result:\", result)\n",
        "    except Exception as e:\n",
        "        print(\"Error:\", e)"
      ],
      "metadata": {
        "colab": {
          "base_uri": "https://localhost:8080/"
        },
        "id": "k_RksyKLU5BB",
        "outputId": "10fd1697-c3d4-42dc-d9c4-7053a70a4750"
      },
      "execution_count": 2,
      "outputs": [
        {
          "output_type": "stream",
          "name": "stdout",
          "text": [
            "Enter a Python expression (or 'exit' to quit): 5 + 3\n",
            "Result: 8\n",
            "Enter a Python expression (or 'exit' to quit): 5 - 2 * 3\n",
            "Result: -1\n",
            "Enter a Python expression (or 'exit' to quit): 4 + 4\n",
            "Result: 8\n",
            "Enter a Python expression (or 'exit' to quit): 12\n",
            "Result: 12\n",
            "Enter a Python expression (or 'exit' to quit): exit\n",
            "Exiting the calculator.\n"
          ]
        }
      ]
    }
  ]
}