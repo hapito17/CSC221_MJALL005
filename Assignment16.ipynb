{
  "nbformat": 4,
  "nbformat_minor": 0,
  "metadata": {
    "colab": {
      "provenance": [],
      "authorship_tag": "ABX9TyPoEHb7mx2C6fy2epPjxqwu",
      "include_colab_link": true
    },
    "kernelspec": {
      "name": "python3",
      "display_name": "Python 3"
    },
    "language_info": {
      "name": "python"
    }
  },
  "cells": [
    {
      "cell_type": "markdown",
      "metadata": {
        "id": "view-in-github",
        "colab_type": "text"
      },
      "source": [
        "<a href=\"https://colab.research.google.com/github/hapito17/CSC221_MJALL005/blob/main/Assignment16.ipynb\" target=\"_parent\"><img src=\"https://colab.research.google.com/assets/colab-badge.svg\" alt=\"Open In Colab\"/></a>"
      ]
    },
    {
      "cell_type": "code",
      "execution_count": null,
      "metadata": {
        "colab": {
          "base_uri": "https://localhost:8080/"
        },
        "id": "Qr7M16UMudkR",
        "outputId": "8577ef3c-93e9-405b-e7eb-0d8b00b43bba"
      },
      "outputs": [
        {
          "output_type": "stream",
          "name": "stdout",
          "text": [
            "Hello World\n"
          ]
        },
        {
          "output_type": "execute_result",
          "data": {
            "text/plain": [
              "10657.75"
            ]
          },
          "metadata": {},
          "execution_count": 6
        }
      ],
      "source": [
        "#1.1\n",
        "print('Hello World')\n",
        "6000 + 4523.50 + 134.25"
      ]
    },
    {
      "cell_type": "code",
      "source": [
        "_ + 8192.75 #apparently the '_' variable stores the previous calculation output"
      ],
      "metadata": {
        "colab": {
          "base_uri": "https://localhost:8080/"
        },
        "id": "dRdDySZU1BoG",
        "outputId": "49422e90-4c48-4c09-e999-f63d737d0912"
      },
      "execution_count": null,
      "outputs": [
        {
          "output_type": "execute_result",
          "data": {
            "text/plain": [
              "18850.5"
            ]
          },
          "metadata": {},
          "execution_count": 7
        }
      ]
    },
    {
      "cell_type": "code",
      "source": [
        "#1.2\n",
        "# hello.py\n",
        "print('Hello World')\n",
        "#can't really execute on google colab but this subsection basically explains how to store and execute files"
      ],
      "metadata": {
        "colab": {
          "base_uri": "https://localhost:8080/"
        },
        "id": "vWCK4P5P1crB",
        "outputId": "51a14a4c-3ef6-42a7-f611-88a6f2cb3be3"
      },
      "execution_count": null,
      "outputs": [
        {
          "output_type": "stream",
          "name": "stdout",
          "text": [
            "Hello World\n"
          ]
        }
      ]
    },
    {
      "cell_type": "code",
      "source": [
        "#1.3\n",
        "42 # int\n",
        "4.2 # float\n",
        "'forty-two' # str\n",
        "True # bool\n",
        "\n",
        "x: int = 42\n",
        "2 + 3 * 4 # -> 14"
      ],
      "metadata": {
        "colab": {
          "base_uri": "https://localhost:8080/"
        },
        "id": "EMzQouUW3jNh",
        "outputId": "515ddb09-be2e-4397-c58f-50ae46cf6d84"
      },
      "execution_count": null,
      "outputs": [
        {
          "output_type": "execute_result",
          "data": {
            "text/plain": [
              "14"
            ]
          },
          "metadata": {},
          "execution_count": 12
        }
      ]
    },
    {
      "cell_type": "code",
      "source": [
        "# this uses a combination of variables and expressions to calculate compound interest for 5 years\n",
        "principal = 1000 # Initial amount\n",
        "rate = 0.05 # Interest rate\n",
        "numyears = 5 # Number of years\n",
        "year = 1\n",
        "while year <= numyears:\n",
        "  principal = principal * (1 + rate)\n",
        "  print(f'{year:>3d} {principal:0.2f}') #use an f-string to make it pretty\n",
        "  year += 1"
      ],
      "metadata": {
        "colab": {
          "base_uri": "https://localhost:8080/"
        },
        "id": "E2q-5tSp4NS-",
        "outputId": "df7e9ce4-fff6-4753-8bf4-bbbb2ae5608b"
      },
      "execution_count": null,
      "outputs": [
        {
          "output_type": "stream",
          "name": "stdout",
          "text": [
            "  1 1050.00\n",
            "  2 1102.50\n",
            "  3 1157.62\n",
            "  4 1215.51\n",
            "  5 1276.28\n"
          ]
        }
      ]
    },
    {
      "cell_type": "code",
      "source": [
        "#1.4\n",
        "#operators\n",
        "print(9 + 3)\n",
        "print(9 - 3)\n",
        "print(9 * 3)\n",
        "print(9 ** 3)\n",
        "print(2 / 3)\n",
        "print(2 // 3)\n",
        "print(9 % 3)\n",
        "print(-9)\n",
        "print(+9)\n",
        "print(abs(-3))\n",
        "print(divmod(12, 5)) #same as (x // y, x % y)\n",
        "print(pow(12, 15, 10)) #same as (x ** y) % modulo\n",
        "print(round(23.96237, 3))\n"
      ],
      "metadata": {
        "colab": {
          "base_uri": "https://localhost:8080/"
        },
        "id": "fLky2DVT4iZN",
        "outputId": "9b97d8c8-ee95-4617-f36f-91597d5b8ce7"
      },
      "execution_count": null,
      "outputs": [
        {
          "output_type": "stream",
          "name": "stdout",
          "text": [
            "12\n",
            "6\n",
            "27\n",
            "729\n",
            "0.6666666666666666\n",
            "0\n",
            "0\n",
            "-9\n",
            "9\n",
            "3\n",
            "(2, 2)\n",
            "8\n",
            "23.962\n"
          ]
        }
      ]
    },
    {
      "cell_type": "code",
      "source": [
        "#bit manipulation\n",
        "x = 0b11001001\n",
        "y = 0b11110000\n",
        "print(x << y)\n",
        "print(x >> y)\n",
        "print(x & y)\n",
        "print(x | y)\n",
        "print(x ^ y)\n",
        "print(~x)"
      ],
      "metadata": {
        "colab": {
          "base_uri": "https://localhost:8080/"
        },
        "id": "ruJKpFmF9z0O",
        "outputId": "e4e16b30-f56d-465d-e86c-20cecaba05f7"
      },
      "execution_count": null,
      "outputs": [
        {
          "output_type": "stream",
          "name": "stdout",
          "text": [
            "355136260020455250246242797649326621681324263271999410582442846459816574976\n",
            "0\n",
            "192\n",
            "249\n",
            "57\n",
            "-202\n"
          ]
        }
      ]
    },
    {
      "cell_type": "code",
      "source": [
        "#comparisons\n",
        "x = 10\n",
        "y = 5\n",
        "print(x == y)\n",
        "print(x != y )\n",
        "print(x > y)\n",
        "print(x < y)\n",
        "print(x >= y)\n",
        "print(x <= y)"
      ],
      "metadata": {
        "colab": {
          "base_uri": "https://localhost:8080/"
        },
        "id": "wKE4l7O0-8m3",
        "outputId": "473f8e38-1452-49a8-ccb6-ac61f963c719"
      },
      "execution_count": null,
      "outputs": [
        {
          "output_type": "stream",
          "name": "stdout",
          "text": [
            "False\n",
            "True\n",
            "True\n",
            "False\n",
            "True\n",
            "False\n"
          ]
        }
      ]
    },
    {
      "cell_type": "code",
      "source": [
        "x = True\n",
        "y = False\n",
        "print(x and y)\n",
        "print(x or y)\n",
        "print(not x)"
      ],
      "metadata": {
        "colab": {
          "base_uri": "https://localhost:8080/"
        },
        "id": "bQT9GHUk_qRu",
        "outputId": "bc76dc53-682a-4d76-dc5c-907c75c693b2"
      },
      "execution_count": null,
      "outputs": [
        {
          "output_type": "stream",
          "name": "stdout",
          "text": [
            "False\n",
            "True\n",
            "False\n"
          ]
        }
      ]
    },
    {
      "cell_type": "code",
      "source": [
        "#1.5\n",
        "a = 1\n",
        "b = 3\n",
        "if a < b:\n",
        "  print('Computer says Yes')\n",
        "elif a == b:\n",
        "  print('Computer says equal')\n",
        "else:\n",
        "  print('Computer says No')\n"
      ],
      "metadata": {
        "colab": {
          "base_uri": "https://localhost:8080/"
        },
        "id": "TaYuybvAAKug",
        "outputId": "82e984e0-cef3-42f1-cda0-fc7d5956edf8"
      },
      "execution_count": null,
      "outputs": [
        {
          "output_type": "stream",
          "name": "stdout",
          "text": [
            "Computer says Yes\n"
          ]
        }
      ]
    },
    {
      "cell_type": "code",
      "source": [
        "x = 0\n",
        "while (x := x + 1) < 10: # Prints 1, 2, 3, ..., 9\n",
        "  print(x)\n"
      ],
      "metadata": {
        "colab": {
          "base_uri": "https://localhost:8080/"
        },
        "id": "5WcaDsqSA_df",
        "outputId": "9cfe69fe-43f1-4b5f-cdcb-21b5840b83b2"
      },
      "execution_count": null,
      "outputs": [
        {
          "output_type": "stream",
          "name": "stdout",
          "text": [
            "1\n",
            "2\n",
            "3\n",
            "4\n",
            "5\n",
            "6\n",
            "7\n",
            "8\n",
            "9\n"
          ]
        }
      ]
    },
    {
      "cell_type": "code",
      "source": [
        "x = 0\n",
        "while x < 10:\n",
        "  if x == 5:\n",
        "    break # Stops the loop. Moves to Done below\n",
        "  print(x)\n",
        "  x += 1\n",
        "print('Done')"
      ],
      "metadata": {
        "colab": {
          "base_uri": "https://localhost:8080/"
        },
        "id": "3sQ2VGKNCGg2",
        "outputId": "02334a81-f13c-4fca-ee4f-306efede3b8d"
      },
      "execution_count": null,
      "outputs": [
        {
          "output_type": "stream",
          "name": "stdout",
          "text": [
            "0\n",
            "1\n",
            "2\n",
            "3\n",
            "4\n",
            "Done\n"
          ]
        }
      ]
    },
    {
      "cell_type": "code",
      "source": [
        "x = 0\n",
        "while x < 10:\n",
        "  x += 1\n",
        "  if x == 5:\n",
        "    continue # Skips the print(x). Goes back to loop start.\n",
        "  print(x)\n",
        "print('Done')"
      ],
      "metadata": {
        "colab": {
          "base_uri": "https://localhost:8080/"
        },
        "id": "VI7bcjhRCZVj",
        "outputId": "107adad5-7998-4dbc-f9a7-9a0076b89b36"
      },
      "execution_count": null,
      "outputs": [
        {
          "output_type": "stream",
          "name": "stdout",
          "text": [
            "1\n",
            "2\n",
            "3\n",
            "4\n",
            "6\n",
            "7\n",
            "8\n",
            "9\n",
            "10\n",
            "Done\n"
          ]
        }
      ]
    },
    {
      "cell_type": "code",
      "source": [
        "#1.6\n",
        "a = 'Hello World'\n",
        "b = \"Python is groovy\"\n",
        "c = '''Computer says no.'''\n",
        "d = \"\"\"Computer still says no.\"\"\"\n",
        "print('''\n",
        "Hello World\n",
        "Click \"http://www.python.org\"\n",
        "''')"
      ],
      "metadata": {
        "id": "9ZR7eC5nDVsx",
        "colab": {
          "base_uri": "https://localhost:8080/"
        },
        "outputId": "0ae907d0-d81f-45f8-c4ee-200345be6cfe"
      },
      "execution_count": 5,
      "outputs": [
        {
          "output_type": "stream",
          "name": "stdout",
          "text": [
            "\n",
            "Hello World\n",
            "Click \"http://www.python.org\"\n",
            "\n"
          ]
        }
      ]
    },
    {
      "cell_type": "code",
      "source": [
        "a = 'Hello World'\n",
        "print(len(a)) # 11\n",
        "b = a[4] # b = 'o'\n",
        "c = a[-1] # c = 'd'\n",
        "c = a[:5] # c = 'Hello'\n",
        "d = a[6:] # d = 'World'\n",
        "e = a[3:8] # e = 'lo Wo'\n",
        "f = a[-5:] # f = 'World'\n",
        "\n",
        "print(b)\n",
        "print(c)\n",
        "print(d)\n",
        "print(e)\n",
        "print(f)\n",
        "\n",
        "g = a.replace('Hello', 'Hello Cruel') # f = 'Hello Cruel World'\n",
        "print(g)\n",
        "\n",
        "if a.endswith(\"World\"): print(\"yes end's in World\")\n",
        "else: print(\"no, doesn't end in World\")\n",
        "\n",
        "if a.startswith(\"Hello\"): print(\"yes start's with Hello\")\n",
        "else: print(\"no, doesn't start with Hello\")\n",
        "\n",
        "find = a.find(\"lo\")\n",
        "print(find)\n",
        "\n",
        "h = a + 'ly'\n",
        "print(h)\n",
        "x = '37'\n",
        "y = '42'\n",
        "z = x + y # z = '3742' (String Concatenation)\n",
        "print(z)"
      ],
      "metadata": {
        "colab": {
          "base_uri": "https://localhost:8080/"
        },
        "id": "YhuzxStRa817",
        "outputId": "8072ac85-fbb6-4285-e082-a22bf39c9836"
      },
      "execution_count": 22,
      "outputs": [
        {
          "output_type": "stream",
          "name": "stdout",
          "text": [
            "11\n",
            "o\n",
            "Hello\n",
            "World\n",
            "lo Wo\n",
            "World\n",
            "Hello Cruel World\n",
            "yes end's in World\n",
            "yes start's with Hello\n",
            "3\n",
            "Hello Worldly\n",
            "3742\n"
          ]
        }
      ]
    },
    {
      "cell_type": "code",
      "source": [
        "x = 5\n",
        "print(type(x))\n",
        "s = 'The value of x is ' + str(x)\n",
        "print(s)\n",
        "s = 'The value of x is ' + repr(x)\n",
        "print(s)\n",
        "s = 'The value of x is ' + format(x)\n",
        "print(s)"
      ],
      "metadata": {
        "colab": {
          "base_uri": "https://localhost:8080/"
        },
        "id": "yBOrdIqKdLkf",
        "outputId": "d481b833-6813-4acc-fa8e-09cc373b134f"
      },
      "execution_count": 29,
      "outputs": [
        {
          "output_type": "stream",
          "name": "stdout",
          "text": [
            "<class 'int'>\n",
            "The value of x is 5\n",
            "The value of x is 5\n",
            "The value of x is 5\n"
          ]
        }
      ]
    },
    {
      "cell_type": "code",
      "source": [
        "#1.7\n",
        "with open('data.txt', \"w\") as file:\n",
        "  for x in range(10):\n",
        "    file.write(\"hello world \\n\") #just writes hello world 1000 times\n",
        "\n",
        "with open('data.txt', \"r\") as file:\n",
        "  while (count := file.read(10)): # just using the walrus operator to iterate till end of file\n",
        "    print(count, end='') # end='' omits the extra newline"
      ],
      "metadata": {
        "colab": {
          "base_uri": "https://localhost:8080/"
        },
        "id": "EaX_-bZSemnQ",
        "outputId": "0454f4a2-c7cb-49fd-e5fd-2e60dbccbc74"
      },
      "execution_count": 39,
      "outputs": [
        {
          "output_type": "stream",
          "name": "stdout",
          "text": [
            "hello world \n",
            "hello world \n",
            "hello world \n",
            "hello world \n",
            "hello world \n",
            "hello world \n",
            "hello world \n",
            "hello world \n",
            "hello world \n",
            "hello world \n"
          ]
        }
      ]
    },
    {
      "cell_type": "code",
      "source": [
        "#1.8\n",
        "names = [ 'Dave', 'Paula', 'Thomas', 'Lewis' ]\n",
        "print(names[0]) #prints first index\n",
        "print(names[-1]) #prints last index\n",
        "names.append('Alex') #adds alex to end of list\n",
        "names.insert(2, 'Aya') #adds aya to 3rd position or 2nd index\n",
        "print(names)\n",
        "\n",
        "names[0:2] = ['Dave', 'Mark', 'Jeff'] # Replace the first three names\n",
        "print(names)\n",
        "\n",
        "names2 = [\"Ben\", \"Teddy\"]\n",
        "names = names + names2 #joins the lists\n",
        "print(names)\n",
        "\n",
        "newnames = [x for x in names if \"A\" in x] #list comprehension to copy names that start with capital a\n",
        "print(newnames)"
      ],
      "metadata": {
        "colab": {
          "base_uri": "https://localhost:8080/"
        },
        "id": "CAxCEhNNg3si",
        "outputId": "e5c04a5f-feaf-4a54-97ef-32e716190fe5"
      },
      "execution_count": 55,
      "outputs": [
        {
          "output_type": "stream",
          "name": "stdout",
          "text": [
            "Dave\n",
            "Lewis\n",
            "['Dave', 'Paula', 'Aya', 'Thomas', 'Lewis', 'Alex']\n",
            "['Dave', 'Mark', 'Jeff', 'Aya', 'Thomas', 'Lewis', 'Alex']\n",
            "['Dave', 'Mark', 'Jeff', 'Aya', 'Thomas', 'Lewis', 'Alex', 'Ben', 'Teddy']\n",
            "['Aya', 'Alex']\n"
          ]
        }
      ]
    },
    {
      "cell_type": "code",
      "source": [
        "a = [1, 'Dave', 3.14, ['Mark', 7, 9, [100, 101]], 10]\n",
        "print(a[1]) # Returns 'Dave'\n",
        "print(a[3][2]) # Returns 9\n",
        "print(a[3][3][1]) # Returns 101"
      ],
      "metadata": {
        "colab": {
          "base_uri": "https://localhost:8080/"
        },
        "id": "lFrR71SXjA1G",
        "outputId": "a0bd5a78-5e11-4deb-cc8a-ab8a92fb78f2"
      },
      "execution_count": 50,
      "outputs": [
        {
          "output_type": "stream",
          "name": "stdout",
          "text": [
            "Dave\n",
            "9\n",
            "101\n"
          ]
        }
      ]
    },
    {
      "cell_type": "code",
      "source": [
        "#1.9\n",
        "holding = ('GOOG', 100, 490.10) #just some tuples\n",
        "address = ('www.python.org', 80)\n",
        "hi = ('Hi',)\n",
        "print(holding)\n",
        "print(address)\n",
        "print(hi)"
      ],
      "metadata": {
        "colab": {
          "base_uri": "https://localhost:8080/"
        },
        "id": "rCGrj4hMkgFL",
        "outputId": "777b75a6-0d90-43d8-9944-848a8f9126ee"
      },
      "execution_count": 1,
      "outputs": [
        {
          "output_type": "stream",
          "name": "stdout",
          "text": [
            "('GOOG', 100, 490.1)\n",
            "('www.python.org', 80)\n",
            "('Hi',)\n"
          ]
        }
      ]
    },
    {
      "cell_type": "code",
      "source": [
        "#1.10\n",
        "names1 = { 'IBM', 'MSFT', 'AA' }\n",
        "names2 = set(['IBM', 'MSFT', 'HPE', 'IBM', 'CAT'])\n",
        "print(names1)\n",
        "print(names2)\n",
        "names2.discard(\"pool\") #discard will not raise an error for incorrect values\n",
        "names1.remove(\"AA\") #but remove will\n",
        "names1.add(\"AA\") #just adding it back\n",
        "print(names1)\n",
        "print(names2)\n",
        "\n"
      ],
      "metadata": {
        "colab": {
          "base_uri": "https://localhost:8080/"
        },
        "id": "rIvaZp3NCcNS",
        "outputId": "5352ef4d-58d0-427a-ab4e-093325eac6e5"
      },
      "execution_count": 10,
      "outputs": [
        {
          "output_type": "stream",
          "name": "stdout",
          "text": [
            "{'MSFT', 'AA', 'IBM'}\n",
            "{'MSFT', 'CAT', 'HPE', 'IBM'}\n",
            "{'MSFT', 'AA', 'IBM'}\n",
            "{'MSFT', 'CAT', 'HPE', 'IBM'}\n"
          ]
        }
      ]
    },
    {
      "cell_type": "code",
      "source": [
        "s = names1\n",
        "t = names2\n",
        "a = t | s # Union {'MSFT', 'CAT', 'HPE', 'AA', 'IBM'}\n",
        "b = t & s # Intersection {'IBM', 'MSFT'}\n",
        "c = t - s # Difference { 'CAT', 'HPE' }\n",
        "d = s - t # Difference { 'AA' }\n",
        "e = t ^ s # Symmetric difference { 'CAT', 'HPE', 'AA' }\n",
        "print(a)\n",
        "print(b)\n",
        "print(c)\n",
        "print(d)\n",
        "print(e)"
      ],
      "metadata": {
        "colab": {
          "base_uri": "https://localhost:8080/"
        },
        "id": "ViynysFwFJsO",
        "outputId": "10c19c53-b7d1-45b5-e1d3-48293213d91e"
      },
      "execution_count": 11,
      "outputs": [
        {
          "output_type": "stream",
          "name": "stdout",
          "text": [
            "{'MSFT', 'AA', 'HPE', 'CAT', 'IBM'}\n",
            "{'MSFT', 'IBM'}\n",
            "{'HPE', 'CAT'}\n",
            "{'AA'}\n",
            "{'CAT', 'AA', 'HPE'}\n"
          ]
        }
      ]
    },
    {
      "cell_type": "code",
      "source": [
        "#1.11\n",
        "s = {\n",
        "'name' : 'GOOG',\n",
        "'shares' : 100,\n",
        "'price' : 490.10\n",
        "} # just creating a dictionary\n",
        "\n",
        "name = s['name']\n",
        "cost = s['shares'] * s['price']\n",
        "\n",
        "print(name)\n",
        "print(cost)\n",
        "\n",
        "s['shares'] = 75\n",
        "s['date'] = '2007-06-07' #just modifying the keys' value in the dictionary\n",
        "del s['price']\n",
        "print(s)\n",
        "\n",
        "p = s.get('shares', 0.0) #if shares then store that else just store 0\n",
        "print(p)\n",
        "print(s.keys())\n",
        "print(s.values())\n"
      ],
      "metadata": {
        "colab": {
          "base_uri": "https://localhost:8080/"
        },
        "id": "nt2kZGZAGEKt",
        "outputId": "b192bb03-34fc-4f71-f33d-c7ee8eb4fc26"
      },
      "execution_count": 19,
      "outputs": [
        {
          "output_type": "stream",
          "name": "stdout",
          "text": [
            "GOOG\n",
            "49010.0\n",
            "{'name': 'GOOG', 'shares': 75, 'date': '2007-06-07'}\n",
            "75\n",
            "dict_keys(['name', 'shares', 'date'])\n",
            "dict_values(['GOOG', 75, '2007-06-07'])\n"
          ]
        }
      ]
    },
    {
      "cell_type": "code",
      "source": [
        "#1.12\n",
        "for n in range(1, 10):\n",
        "  print(f'2 to the {n} power is {2**n}')\n",
        "a = range(5) # a = 0, 1, 2, 3, 4\n",
        "b = range(1, 8) # b = 1, 2, 3, 4, 5, 6, 7\n",
        "c = range(0, 14, 3) # c = 0, 3, 6, 9, 12\n",
        "d = range(8, 1, -1) # d = 8, 7, 6, 5, 4, 3, 2"
      ],
      "metadata": {
        "colab": {
          "base_uri": "https://localhost:8080/"
        },
        "id": "HJIWNT0-LdjS",
        "outputId": "68850465-98c2-403f-ea5d-5c89ab74aed3"
      },
      "execution_count": 22,
      "outputs": [
        {
          "output_type": "stream",
          "name": "stdout",
          "text": [
            "2 to the 1 power is 2\n",
            "2 to the 2 power is 4\n",
            "2 to the 3 power is 8\n",
            "2 to the 4 power is 16\n",
            "2 to the 5 power is 32\n",
            "2 to the 6 power is 64\n",
            "2 to the 7 power is 128\n",
            "2 to the 8 power is 256\n",
            "2 to the 9 power is 512\n"
          ]
        }
      ]
    },
    {
      "cell_type": "code",
      "source": [
        "message = 'Hello World'\n",
        "# Print out the individual characters in message\n",
        "for c in message:\n",
        "  print(c)\n",
        "names = ['Dave', 'Mark', 'Ann', 'Phil']\n",
        "# Print out the members of a list\n",
        "for name in names:\n",
        "  print(name)\n",
        "prices = { 'GOOG' : 490.10, 'IBM' : 91.50, 'AAPL' : 123.15 }\n",
        "# Print out all of the members of a dictionary\n",
        "for key in prices:\n",
        "  print(key, '=', prices[key])\n"
      ],
      "metadata": {
        "colab": {
          "base_uri": "https://localhost:8080/"
        },
        "id": "-aPyAr_1M2NJ",
        "outputId": "935e3370-6d5e-4fa9-99f7-7bf1165ecce9"
      },
      "execution_count": 24,
      "outputs": [
        {
          "output_type": "stream",
          "name": "stdout",
          "text": [
            "H\n",
            "e\n",
            "l\n",
            "l\n",
            "o\n",
            " \n",
            "W\n",
            "o\n",
            "r\n",
            "l\n",
            "d\n",
            "Dave\n",
            "Mark\n",
            "Ann\n",
            "Phil\n",
            "GOOG = 490.1\n",
            "IBM = 91.5\n",
            "AAPL = 123.15\n"
          ]
        }
      ]
    },
    {
      "cell_type": "code",
      "source": [
        "#1.13\n",
        "def remainder(a, b):\n",
        "  '''\n",
        "  Computes the remainder of dividing a by b\n",
        "  '''\n",
        "  q = a // b # // is truncating division.\n",
        "  r = a - q * b\n",
        "  return (q, r) #just returns the quotient and the remainder\n",
        "quotient, remainder = remainder(37, 15) #apparently this is how you store 2 returns into two variables\n",
        "print(quotient)\n",
        "print(remainder)"
      ],
      "metadata": {
        "colab": {
          "base_uri": "https://localhost:8080/"
        },
        "id": "-uYcgEW1NGl7",
        "outputId": "1032b822-0feb-4f0d-bba0-3b3de879a611"
      },
      "execution_count": 26,
      "outputs": [
        {
          "output_type": "stream",
          "name": "stdout",
          "text": [
            "2\n",
            "7\n"
          ]
        }
      ]
    },
    {
      "cell_type": "code",
      "source": [
        "#1.14\n",
        "try:\n",
        "  print(v)\n",
        "except:\n",
        "  print(\"An exception occurred\")\n",
        "try:\n",
        "  pass\n",
        "finally:\n",
        "  pass # whatever is here will run no matter what\n"
      ],
      "metadata": {
        "colab": {
          "base_uri": "https://localhost:8080/"
        },
        "id": "xQZEfblEQ8XG",
        "outputId": "6a81df38-0a90-457d-b2e8-72c3cd101970"
      },
      "execution_count": 30,
      "outputs": [
        {
          "output_type": "stream",
          "name": "stdout",
          "text": [
            "An exception occurred\n"
          ]
        }
      ]
    },
    {
      "cell_type": "code",
      "source": [
        "x = \"hello\"\n",
        "\n",
        "if not type(x) is int:\n",
        "  raise TypeError(\"Only integers are allowed\")"
      ],
      "metadata": {
        "colab": {
          "base_uri": "https://localhost:8080/",
          "height": 210
        },
        "id": "LvhpWu_-R3NA",
        "outputId": "5e3ea77f-0214-4998-eabd-f057b65cd193"
      },
      "execution_count": 28,
      "outputs": [
        {
          "output_type": "error",
          "ename": "TypeError",
          "evalue": "ignored",
          "traceback": [
            "\u001b[0;31m---------------------------------------------------------------------------\u001b[0m",
            "\u001b[0;31mTypeError\u001b[0m                                 Traceback (most recent call last)",
            "\u001b[0;32m<ipython-input-28-bc91768a6271>\u001b[0m in \u001b[0;36m<cell line: 3>\u001b[0;34m()\u001b[0m\n\u001b[1;32m      2\u001b[0m \u001b[0;34m\u001b[0m\u001b[0m\n\u001b[1;32m      3\u001b[0m \u001b[0;32mif\u001b[0m \u001b[0;32mnot\u001b[0m \u001b[0mtype\u001b[0m\u001b[0;34m(\u001b[0m\u001b[0mx\u001b[0m\u001b[0;34m)\u001b[0m \u001b[0;32mis\u001b[0m \u001b[0mint\u001b[0m\u001b[0;34m:\u001b[0m\u001b[0;34m\u001b[0m\u001b[0;34m\u001b[0m\u001b[0m\n\u001b[0;32m----> 4\u001b[0;31m   \u001b[0;32mraise\u001b[0m \u001b[0mTypeError\u001b[0m\u001b[0;34m(\u001b[0m\u001b[0;34m\"Only integers are allowed\"\u001b[0m\u001b[0;34m)\u001b[0m\u001b[0;34m\u001b[0m\u001b[0;34m\u001b[0m\u001b[0m\n\u001b[0m",
            "\u001b[0;31mTypeError\u001b[0m: Only integers are allowed"
          ]
        }
      ]
    },
    {
      "cell_type": "code",
      "source": [
        "#1.15\n",
        "raise SystemExit() # Exit with no error message\n",
        "raise SystemExit(\"Something is wrong\") # Exit with error"
      ],
      "metadata": {
        "colab": {
          "base_uri": "https://localhost:8080/",
          "height": 123
        },
        "id": "oVK6Bd9USVdT",
        "outputId": "1e14ee32-b327-4331-c886-5e8e57f1b7e9"
      },
      "execution_count": 32,
      "outputs": [
        {
          "output_type": "error",
          "ename": "SystemExit",
          "evalue": "ignored",
          "traceback": [
            "An exception has occurred, use %tb to see the full traceback.\n",
            "\u001b[0;31mSystemExit\u001b[0m\n"
          ]
        }
      ]
    },
    {
      "cell_type": "code",
      "source": [
        "import atexit\n",
        "\n",
        "names = ['hello', 'world']\n",
        "\n",
        "def hello(name):\n",
        "    print (name)\n",
        "\n",
        "for name in names:\n",
        "\n",
        "    # Using register()\n",
        "    atexit.register(hello, name)"
      ],
      "metadata": {
        "id": "DjebdUpYT_pB"
      },
      "execution_count": 38,
      "outputs": []
    },
    {
      "cell_type": "code",
      "source": [
        "#1.16\n",
        "items = [37, 42] # Create a list object\n",
        "items.append(73) # Call the append() method\n",
        "print(items)\n",
        "# dir(items) lists the methods available for the object\n",
        "items = items.__add__([92, 101]) #example of method available\n",
        "print(items)"
      ],
      "metadata": {
        "colab": {
          "base_uri": "https://localhost:8080/"
        },
        "id": "BqjnqfqFY8DA",
        "outputId": "15b09710-d125-4f2d-af20-960949502bd1"
      },
      "execution_count": 45,
      "outputs": [
        {
          "output_type": "stream",
          "name": "stdout",
          "text": [
            "[37, 42, 73]\n",
            "[37, 42, 73, 92, 101]\n"
          ]
        }
      ]
    },
    {
      "cell_type": "code",
      "source": [
        "class Stack:\n",
        "  def __init__(self): # Initialize the stack\n",
        "    self._items = [ ]\n",
        "  def push(self, item):\n",
        "    self._items.append(item)\n",
        "  def pop(self):\n",
        "    return self._items.pop()\n",
        "  def __repr__(self):\n",
        "    return f'<{type(self).__name__} at 0x{id(self):x}, size={len(self)}>'\n",
        "  def __len__(self):\n",
        "    return len(self._items)\n",
        "\n",
        "s = Stack() # Create a stack\n",
        "s.push('Dave') # Push some things onto it\n",
        "s.push(42)\n",
        "s.push([3, 4, 5])\n",
        "x = s.pop() # x gets [3,4,5]\n",
        "y = s.pop() # y gets 42\n",
        "print(x)\n",
        "print(y)"
      ],
      "metadata": {
        "colab": {
          "base_uri": "https://localhost:8080/"
        },
        "id": "4wk0cZU6aaHY",
        "outputId": "e1f574cf-f7a0-4524-f36e-1f3e2ed81446"
      },
      "execution_count": 50,
      "outputs": [
        {
          "output_type": "stream",
          "name": "stdout",
          "text": [
            "[3, 4, 5]\n",
            "42\n"
          ]
        }
      ]
    },
    {
      "cell_type": "code",
      "source": [
        "class MyStack(Stack):\n",
        "  def swap(self):\n",
        "    a = self.pop()\n",
        "    b = self.pop()\n",
        "    self.push(a)\n",
        "    self.push(b)\n",
        "s = MyStack() #same as above code but just with a swap method\n",
        "s.push('Dave')\n",
        "s.push(42)\n",
        "s.swap()\n",
        "x = s.pop()\n",
        "y = s.pop()\n",
        "print(x)\n",
        "print(y)"
      ],
      "metadata": {
        "colab": {
          "base_uri": "https://localhost:8080/"
        },
        "id": "SFpKMQana-Tz",
        "outputId": "b4f54c1a-8c5b-42d1-e04c-73a1fbaf5e5a"
      },
      "execution_count": 51,
      "outputs": [
        {
          "output_type": "stream",
          "name": "stdout",
          "text": [
            "Dave\n",
            "42\n"
          ]
        }
      ]
    },
    {
      "cell_type": "code",
      "source": [
        "class NumericStack(Stack):\n",
        "  def push(self, item):\n",
        "    if not isinstance(item, (int, float)):\n",
        "      raise TypeError('Expected an int or float') #this makes it so it only accepts numerical inputs\n",
        "    super().push(item)\n",
        "s = NumericStack()\n",
        "s.push(42)\n",
        "s.push('Dave')"
      ],
      "metadata": {
        "colab": {
          "base_uri": "https://localhost:8080/",
          "height": 331
        },
        "id": "D4XdWLjTb_mT",
        "outputId": "e1b5322a-f93f-4699-bc85-586576f84a2a"
      },
      "execution_count": 53,
      "outputs": [
        {
          "output_type": "error",
          "ename": "TypeError",
          "evalue": "ignored",
          "traceback": [
            "\u001b[0;31m---------------------------------------------------------------------------\u001b[0m",
            "\u001b[0;31mTypeError\u001b[0m                                 Traceback (most recent call last)",
            "\u001b[0;32m<ipython-input-53-97d89f634ea6>\u001b[0m in \u001b[0;36m<cell line: 8>\u001b[0;34m()\u001b[0m\n\u001b[1;32m      6\u001b[0m \u001b[0ms\u001b[0m \u001b[0;34m=\u001b[0m \u001b[0mNumericStack\u001b[0m\u001b[0;34m(\u001b[0m\u001b[0;34m)\u001b[0m\u001b[0;34m\u001b[0m\u001b[0;34m\u001b[0m\u001b[0m\n\u001b[1;32m      7\u001b[0m \u001b[0ms\u001b[0m\u001b[0;34m.\u001b[0m\u001b[0mpush\u001b[0m\u001b[0;34m(\u001b[0m\u001b[0;36m42\u001b[0m\u001b[0;34m)\u001b[0m\u001b[0;34m\u001b[0m\u001b[0;34m\u001b[0m\u001b[0m\n\u001b[0;32m----> 8\u001b[0;31m \u001b[0ms\u001b[0m\u001b[0;34m.\u001b[0m\u001b[0mpush\u001b[0m\u001b[0;34m(\u001b[0m\u001b[0;34m'Dave'\u001b[0m\u001b[0;34m)\u001b[0m\u001b[0;34m\u001b[0m\u001b[0;34m\u001b[0m\u001b[0m\n\u001b[0m",
            "\u001b[0;32m<ipython-input-53-97d89f634ea6>\u001b[0m in \u001b[0;36mpush\u001b[0;34m(self, item)\u001b[0m\n\u001b[1;32m      2\u001b[0m   \u001b[0;32mdef\u001b[0m \u001b[0mpush\u001b[0m\u001b[0;34m(\u001b[0m\u001b[0mself\u001b[0m\u001b[0;34m,\u001b[0m \u001b[0mitem\u001b[0m\u001b[0;34m)\u001b[0m\u001b[0;34m:\u001b[0m\u001b[0;34m\u001b[0m\u001b[0;34m\u001b[0m\u001b[0m\n\u001b[1;32m      3\u001b[0m     \u001b[0;32mif\u001b[0m \u001b[0;32mnot\u001b[0m \u001b[0misinstance\u001b[0m\u001b[0;34m(\u001b[0m\u001b[0mitem\u001b[0m\u001b[0;34m,\u001b[0m \u001b[0;34m(\u001b[0m\u001b[0mint\u001b[0m\u001b[0;34m,\u001b[0m \u001b[0mfloat\u001b[0m\u001b[0;34m)\u001b[0m\u001b[0;34m)\u001b[0m\u001b[0;34m:\u001b[0m\u001b[0;34m\u001b[0m\u001b[0;34m\u001b[0m\u001b[0m\n\u001b[0;32m----> 4\u001b[0;31m       \u001b[0;32mraise\u001b[0m \u001b[0mTypeError\u001b[0m\u001b[0;34m(\u001b[0m\u001b[0;34m'Expected an int or float'\u001b[0m\u001b[0;34m)\u001b[0m\u001b[0;34m\u001b[0m\u001b[0;34m\u001b[0m\u001b[0m\n\u001b[0m\u001b[1;32m      5\u001b[0m     \u001b[0msuper\u001b[0m\u001b[0;34m(\u001b[0m\u001b[0;34m)\u001b[0m\u001b[0;34m.\u001b[0m\u001b[0mpush\u001b[0m\u001b[0;34m(\u001b[0m\u001b[0mitem\u001b[0m\u001b[0;34m)\u001b[0m\u001b[0;34m\u001b[0m\u001b[0;34m\u001b[0m\u001b[0m\n\u001b[1;32m      6\u001b[0m \u001b[0ms\u001b[0m \u001b[0;34m=\u001b[0m \u001b[0mNumericStack\u001b[0m\u001b[0;34m(\u001b[0m\u001b[0;34m)\u001b[0m\u001b[0;34m\u001b[0m\u001b[0;34m\u001b[0m\u001b[0m\n",
            "\u001b[0;31mTypeError\u001b[0m: Expected an int or float"
          ]
        }
      ]
    },
    {
      "cell_type": "code",
      "source": [
        "#1.17\n",
        "#can't really execute on jupyter notebook but this section talks about the 'import' function and how to call and use modules.\n",
        "'''\n",
        "eg, from readport import read_portfolio\n",
        "port = read_portfolio('portfolio.dat')\n",
        "'''"
      ],
      "metadata": {
        "colab": {
          "base_uri": "https://localhost:8080/",
          "height": 35
        },
        "id": "tAaWBWrRdJPC",
        "outputId": "195ebd44-91b5-4086-e0de-657786c6b882"
      },
      "execution_count": 54,
      "outputs": [
        {
          "output_type": "execute_result",
          "data": {
            "text/plain": [
              "\"\\neg, from readport import read_portfolio\\nport = read_portfolio('portfolio.dat')\\n\""
            ],
            "application/vnd.google.colaboratory.intrinsic+json": {
              "type": "string"
            }
          },
          "metadata": {},
          "execution_count": 54
        }
      ]
    },
    {
      "cell_type": "code",
      "source": [
        "#1.18\n",
        "# again can't really code so I'll just explained what I learned\n",
        "#__name__ is a built-in variable that always contains the name of the enclosing module.\n",
        "'''\n",
        "also if __name__ == '__main__': main()\n",
        "this is important to check if the program is run as the main script or not\n",
        "'''"
      ],
      "metadata": {
        "id": "X9Jwi_QqepUO"
      },
      "execution_count": null,
      "outputs": []
    },
    {
      "cell_type": "code",
      "source": [
        "#1.19\n",
        "'''\n",
        "A package is a hierarchical collection of modules that should be represented in this form:\n",
        "tutorial/\n",
        "__init__.py\n",
        "readport.py\n",
        "pcost.py\n",
        "stack.py\n",
        "...\n",
        "this allows you to make nested import statements e.g. 'from tutorial.readport import read_portfolio'\n",
        "'''"
      ],
      "metadata": {
        "colab": {
          "base_uri": "https://localhost:8080/",
          "height": 53
        },
        "id": "1TiyFBj-gUfz",
        "outputId": "b77c5778-9a17-443f-ff6a-d6af8af33652"
      },
      "execution_count": 55,
      "outputs": [
        {
          "output_type": "execute_result",
          "data": {
            "text/plain": [
              "\"\\nA package is a hierarchical collection of modules that should be represented in this form:\\ntutorial/\\n__init__.py\\nreadport.py\\npcost.py\\nstack.py\\n...\\nthis allows you to make nested import statements e.g. 'from tutorial.readport import read_portfolio'\\n\""
            ],
            "application/vnd.google.colaboratory.intrinsic+json": {
              "type": "string"
            }
          },
          "metadata": {},
          "execution_count": 55
        }
      ]
    },
    {
      "cell_type": "code",
      "source": [
        "#1.20\n",
        "'''\n",
        "Even though it's controversial, there are still some conventions that a programmer should try to uphold.\n",
        "it's standard practice to organise large projects into packages.\n",
        "you do this mainly to manage import statement with the package directory.\n",
        "'''"
      ],
      "metadata": {
        "colab": {
          "base_uri": "https://localhost:8080/",
          "height": 53
        },
        "id": "uWJUPyVjhIHa",
        "outputId": "34cd1c53-e307-42cb-95b8-ba2d2136b8aa"
      },
      "execution_count": 56,
      "outputs": [
        {
          "output_type": "execute_result",
          "data": {
            "text/plain": [
              "\"\\nEven though it's controversial, there are still some conventions that a programmer should try to uphold.\\nit's standard practice to organise large projects into packages.\\nyou do this mainly to manage import statement with the package directory.\\n\""
            ],
            "application/vnd.google.colaboratory.intrinsic+json": {
              "type": "string"
            }
          },
          "metadata": {},
          "execution_count": 56
        }
      ]
    },
    {
      "cell_type": "code",
      "source": [
        "#1.21\n",
        "'''\n",
        "use 'pip' to a third party package\n",
        "'''"
      ],
      "metadata": {
        "colab": {
          "base_uri": "https://localhost:8080/",
          "height": 35
        },
        "id": "il5Q3ETMiGcR",
        "outputId": "dc78990f-f661-4ae6-a4fa-b3d1b1d433ff"
      },
      "execution_count": 57,
      "outputs": [
        {
          "output_type": "execute_result",
          "data": {
            "text/plain": [
              "\"\\nuse 'pip' to a third party package\\n\""
            ],
            "application/vnd.google.colaboratory.intrinsic+json": {
              "type": "string"
            }
          },
          "metadata": {},
          "execution_count": 57
        }
      ]
    }
  ]
}