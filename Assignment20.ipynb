{
  "nbformat": 4,
  "nbformat_minor": 0,
  "metadata": {
    "colab": {
      "provenance": [],
      "include_colab_link": true
    },
    "kernelspec": {
      "name": "python3",
      "display_name": "Python 3"
    },
    "language_info": {
      "name": "python"
    }
  },
  "cells": [
    {
      "cell_type": "markdown",
      "metadata": {
        "id": "view-in-github",
        "colab_type": "text"
      },
      "source": [
        "<a href=\"https://colab.research.google.com/github/hapito17/CSC221_MJALL005/blob/main/Assignment20.ipynb\" target=\"_parent\"><img src=\"https://colab.research.google.com/assets/colab-badge.svg\" alt=\"Open In Colab\"/></a>"
      ]
    },
    {
      "cell_type": "markdown",
      "source": [
        "# Assignment 20\n",
        "## CSC 221\n",
        "- Mohamed Hafiz Jalloh\n",
        "\n",
        "### Instructions:\n",
        "Fill in each code cell below the question. We are following along in Chapter 4 of Python Distilled."
      ],
      "metadata": {
        "id": "IAOUzGWE1eDx"
      }
    },
    {
      "cell_type": "code",
      "execution_count": null,
      "metadata": {
        "id": "Gnj3su7i5-lx",
        "colab": {
          "base_uri": "https://localhost:8080/"
        },
        "outputId": "40bf34bf-2970-4d26-f986-6806fd060e17"
      },
      "outputs": [
        {
          "output_type": "stream",
          "name": "stdout",
          "text": [
            "19\n",
            "44.5\n",
            "asdfg13\n"
          ]
        }
      ],
      "source": [
        "# 4.1 Essential Concepts\n",
        "\n",
        "# When we write \"a + b\" in Python, the interpreter tries to execute a.__add__(b)\n",
        "\n",
        "# Show that this is true by trying the following:\n",
        "a = 6\n",
        "b = 31.5\n",
        "c = 'asdfg'\n",
        "a1 = a.__add__(13)\n",
        "b1 = b.__add__(13)\n",
        "c1 = c.__add__('13')\n",
        "print(a1)\n",
        "print(b1)\n",
        "print(c1)\n",
        "\n",
        "# What are the types of a, b, and c?\n",
        "#a is an integer\n",
        "#b is a float\n",
        "#c is a string\n",
        "\n",
        "# Explain the results\n",
        "# a1 adds 13 to the integer value 6 to get 19\n",
        "# b1 adds 13 to the float value 31.5 to get 44.5\n",
        "# c1 adds the string '13' to the end of the string 'asdfg' to get 'asdfg13'"
      ]
    },
    {
      "cell_type": "code",
      "source": [
        "# 4.2 through 4.4 will be covered in the next assignment\n"
      ],
      "metadata": {
        "id": "w2uYd3DO2do6"
      },
      "execution_count": null,
      "outputs": []
    },
    {
      "cell_type": "code",
      "source": [
        "# 4.5 str and repr\n",
        "# How many categpries of printing are shown below for a datetime object? - there are 2, the string and the representation values\n",
        "# What in the Pythion code makes each one get callled?\n",
        "\n",
        "from datetime import date\n",
        "d = date(2023, 11, 7)\n",
        "\n",
        "#print(d) - here the string value of the date is printed\n",
        "#print(f'{d}') - here the string value of the date is printed\n",
        "#print(f'{d!s}') - here the string value of the date is printed\n",
        "#print(f'{d!r}') - here the representation value of the date is printed\n",
        "#print(str(d)) - here the string value of the date is printed\n",
        "#print(repr(d)) - here the representation value of the date is printed\n",
        "#print(d.__str__()) - here the string value of the date is printed\n",
        "#print(d.__repr__()) - here the representation value of the date is printed\n"
      ],
      "metadata": {
        "id": "Aa3ylzmV2wNF",
        "colab": {
          "base_uri": "https://localhost:8080/"
        },
        "outputId": "2ab731f9-4446-461c-c470-650c421adbd7"
      },
      "execution_count": null,
      "outputs": [
        {
          "output_type": "stream",
          "name": "stdout",
          "text": [
            "2023-11-07\n"
          ]
        }
      ]
    },
    {
      "cell_type": "code",
      "source": [
        "# 4.6 First-Class Objects\n",
        "# What is the significance of all objects being \"first-class\" in Python? - this basically means that in python objects can be stored into variables that can then be called later in the program.\n",
        "\n",
        "# Explain by typing in the code to create and use the 'items' dictionary shown in section 4.6.\n",
        "# Explain each of the lines starting with '>>>' in the section.\n",
        "\n",
        "items = {\n",
        "'number' : 42,\n",
        "'text' : \"Hello World\"\n",
        "}\n",
        "\n",
        "items['func'] = abs #here we store the abs() funtion in the items dictionary using the key 'func'\n",
        "import math\n",
        "items['mod'] = math #here we store the math module in the items dictionary using the key 'mod'\n",
        "items['error'] = ValueError #here we store the ValueError exception in the items dictionary using the key 'error'\n",
        "nums = [1,2,3,4]\n",
        "items['append'] = nums.append # here we store the nums.append method in the items dictionary using the key 'append'\n",
        "\n",
        "items['func'](-45) # this executes abs(-45) which is just 45\n",
        "items['mod'].sqrt(4) # this will execute the math.sqrt(4) which is 2\n",
        "try:\n",
        "  x = int('a lot')\n",
        "except items['error'] as e: #here we use the dictionary key 'error' to call a ValueError exception\n",
        "   print(\"Couldn't convert\")\n",
        "\n",
        "items['append'](100) #this will just use the dictionary key 'append' to add 100 to our nums list\n",
        "print(nums)\n",
        "\n",
        "line = 'ACME,100,490.10'\n",
        "column_types = [str, int, float]\n",
        "parts = line.split(',')\n",
        "row = [ty(val) for ty, val in zip(column_types, parts)] #this code basically stores all the values in the list parts according to their data type specified in colomn_types\n",
        "print(row)"
      ],
      "metadata": {
        "id": "9LRpP06Vsw6n",
        "colab": {
          "base_uri": "https://localhost:8080/"
        },
        "outputId": "5da25237-3ee8-43be-8183-b1758844e34b"
      },
      "execution_count": null,
      "outputs": [
        {
          "output_type": "stream",
          "name": "stdout",
          "text": [
            "Couldn't convert\n",
            "[1, 2, 3, 4, 100]\n",
            "['ACME', 100, 490.1]\n"
          ]
        }
      ]
    },
    {
      "cell_type": "code",
      "source": [
        "# 4.7 Using None\n",
        "# Write a function that takes two parameters and returns their sum if they are\n",
        "#  integers or returns None if either one is not.\n",
        "\n",
        "# Put in some test code to show that your function works\n",
        "\n",
        "def add(a, b):\n",
        "  if a is int(a) and b is int(b):\n",
        "    return a + b\n",
        "  else:\n",
        "    return None\n",
        "\n",
        "print(add(12, 9)) #should print 21\n",
        "print(add('12', 9)) #should print none\n",
        "print(add(12, 9.0)) #should print none\n",
        "print(add(0, 1)) #should print 1\n",
        "print(add(12, '9')) #should print none\n",
        "\n",
        "#also didn't know what kind of test you meant so...\n",
        "\n",
        "import unittest\n",
        "class NamesTestCase(unittest.TestCase):\n",
        "  def test_correct(self):\n",
        "    ans = add(12, 9)\n",
        "    self.assertEqual(ans, 21)\n",
        "  def test_wrong(self):\n",
        "    ans = add('12', 9)\n",
        "    self.assertEqual(ans, None)\n",
        "    ans = add(12, 9.0)\n",
        "    self.assertEqual(ans, None)\n",
        "unittest.main(argv=['first-arg-is-ignored'], exit=False)"
      ],
      "metadata": {
        "id": "dUhRWGnCtewU",
        "colab": {
          "base_uri": "https://localhost:8080/"
        },
        "outputId": "725ad6bd-a3e0-4649-c662-e4a39812d103"
      },
      "execution_count": 20,
      "outputs": [
        {
          "output_type": "stream",
          "name": "stderr",
          "text": [
            "..\n",
            "----------------------------------------------------------------------\n",
            "Ran 2 tests in 0.008s\n",
            "\n",
            "OK\n"
          ]
        },
        {
          "output_type": "stream",
          "name": "stdout",
          "text": [
            "21\n",
            "None\n",
            "None\n",
            "1\n",
            "None\n"
          ]
        },
        {
          "output_type": "execute_result",
          "data": {
            "text/plain": [
              "<unittest.main.TestProgram at 0x7f6975d93f10>"
            ]
          },
          "metadata": {},
          "execution_count": 20
        }
      ]
    },
    {
      "cell_type": "code",
      "source": [
        "# 4.9 Object Protocol\n",
        "# Create a simple object that has methods for:\n",
        "#  __new__\n",
        "#  __init__\n",
        "#  __del__\n",
        "#  __repr__\n",
        "#  __str__\n",
        "\n",
        "# Put in some test code to show how and when each of these 'magic' functions gets called.\n",
        "class TV_count:\n",
        "    def __new__(cls, show, seasons ,episodes):\n",
        "      print(f'TV_count.__new__ creating a new {cls.__name__} object...')\n",
        "\n",
        "    def __init__(self, show, seasons ,episodes):\n",
        "        self.show = show.capitalize()\n",
        "        self.seasons = seasons\n",
        "        self.episodes = episodes\n",
        "\n",
        "    def __repr__(self):\n",
        "        return f'Example.__init__(self, {self.show}, {self.seasons}, {self.episodes})'\n",
        "    def __str__(self):\n",
        "        return f'TestClass:\\n  {self.show}\\n  {self.seasons}\\n  {self.episodes})'\n",
        "    def __del__(self):\n",
        "        print(f'__del__() on {self.show=} {self.seasons=} {self.episodes}')\n",
        "show = TV_count('Naruto', 9, 220)\n",
        "print(f'{show!s}')\n",
        "print((f'{show!r}'))"
      ],
      "metadata": {
        "id": "4M-CQevEt2xQ",
        "colab": {
          "base_uri": "https://localhost:8080/"
        },
        "outputId": "6d29ab8f-061f-4d8b-ca2a-afa95335a23d"
      },
      "execution_count": 4,
      "outputs": [
        {
          "output_type": "stream",
          "name": "stdout",
          "text": [
            "TV_count.__new__ creating a new TV_count object...\n",
            "None\n",
            "None\n"
          ]
        }
      ]
    }
  ]
}