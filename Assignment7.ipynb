{
  "nbformat": 4,
  "nbformat_minor": 0,
  "metadata": {
    "colab": {
      "provenance": [],
      "authorship_tag": "ABX9TyOteSajEy8nxaETJW6r7bvo",
      "include_colab_link": true
    },
    "kernelspec": {
      "name": "python3",
      "display_name": "Python 3"
    },
    "language_info": {
      "name": "python"
    }
  },
  "cells": [
    {
      "cell_type": "markdown",
      "metadata": {
        "id": "view-in-github",
        "colab_type": "text"
      },
      "source": [
        "<a href=\"https://colab.research.google.com/github/hapito17/CSC221_MJALL005/blob/main/Assignment7.ipynb\" target=\"_parent\"><img src=\"https://colab.research.google.com/assets/colab-badge.svg\" alt=\"Open In Colab\"/></a>"
      ]
    },
    {
      "cell_type": "code",
      "execution_count": null,
      "metadata": {
        "colab": {
          "base_uri": "https://localhost:8080/"
        },
        "id": "lT6AhLCO42C8",
        "outputId": "cc045b2a-7ac9-4f93-dae0-b2c4945b3ba0"
      },
      "outputs": [
        {
          "output_type": "stream",
          "name": "stdout",
          "text": [
            "green\n",
            "5\n"
          ]
        }
      ],
      "source": [
        "alien_0 = {'color': 'green', 'points': 5}\n",
        "print(alien_0['color'])\n",
        "print(alien_0['points'])"
      ]
    },
    {
      "cell_type": "code",
      "source": [
        "alien_0 = {'color': 'green', 'points': 5}\n",
        "new_points = alien_0['points']\n",
        "print(\"You just earned \" + str(new_points) + \" points!\")"
      ],
      "metadata": {
        "colab": {
          "base_uri": "https://localhost:8080/"
        },
        "id": "rRnjDkA_51KL",
        "outputId": "fbf9df48-d3de-4502-e595-46f82f47dc20"
      },
      "execution_count": null,
      "outputs": [
        {
          "output_type": "stream",
          "name": "stdout",
          "text": [
            "You just earned 5 points!\n"
          ]
        }
      ]
    },
    {
      "cell_type": "code",
      "source": [
        "alien_0 = {'color': 'green', 'points': 5}\n",
        "print(alien_0)\n",
        "alien_0['x_position'] = 0\n",
        "alien_0['y_position'] = 25\n",
        "print(alien_0)"
      ],
      "metadata": {
        "colab": {
          "base_uri": "https://localhost:8080/"
        },
        "id": "DtKq_NS-74-E",
        "outputId": "2e68cb59-aad4-455b-923f-79533019dd83"
      },
      "execution_count": null,
      "outputs": [
        {
          "output_type": "stream",
          "name": "stdout",
          "text": [
            "{'color': 'green', 'points': 5}\n",
            "{'color': 'green', 'points': 5, 'x_position': 0, 'y_position': 25}\n"
          ]
        }
      ]
    },
    {
      "cell_type": "code",
      "source": [
        "alien_0 = {}\n",
        "alien_0['color'] = 'green'\n",
        "alien_0['points'] = 5\n",
        "print(alien_0)"
      ],
      "metadata": {
        "colab": {
          "base_uri": "https://localhost:8080/"
        },
        "id": "lRqrqwsa7_ZB",
        "outputId": "2b4f7963-f75a-4848-95bb-dff6b1ec8a83"
      },
      "execution_count": null,
      "outputs": [
        {
          "output_type": "stream",
          "name": "stdout",
          "text": [
            "{'color': 'green', 'points': 5}\n"
          ]
        }
      ]
    },
    {
      "cell_type": "code",
      "source": [
        "alien_0 = {'color': 'green'}\n",
        "print(\"The alien is \" + alien_0['color'] + \".\")\n",
        "alien_0['color'] = 'yellow'\n",
        "print(\"The alien is now \" + alien_0['color'] + \".\")"
      ],
      "metadata": {
        "colab": {
          "base_uri": "https://localhost:8080/"
        },
        "id": "ULclXqxZ9B51",
        "outputId": "7c6b59a4-679d-4783-dce4-7110c89e0464"
      },
      "execution_count": null,
      "outputs": [
        {
          "output_type": "stream",
          "name": "stdout",
          "text": [
            "The alien is green.\n",
            "The alien is now yellow.\n"
          ]
        }
      ]
    },
    {
      "cell_type": "code",
      "source": [
        "alien_0 = {'x_position': 0, 'y_position': 25, 'speed': 'medium'}\n",
        "print(\"Original x-position: \" + str(alien_0['x_position']))\n",
        "# Move the alien to the right.\n",
        "# Determine how far to move the alien based on its current speed.\n",
        "if alien_0['speed'] == 'slow':\n",
        " x_increment = 1\n",
        "elif alien_0['speed'] == 'medium':\n",
        " x_increment = 2\n",
        "else:\n",
        " # This must be a fast alien.\n",
        " x_increment = 3\n",
        "# The new position is the old position plus the increment.\n",
        "alien_0['x_position'] = alien_0['x_position'] + x_increment\n",
        "print(\"New x-position: \" + str(alien_0['x_position']))"
      ],
      "metadata": {
        "colab": {
          "base_uri": "https://localhost:8080/"
        },
        "id": "cQfZBkbw9P7F",
        "outputId": "fa145f7e-5a19-4d3a-9afa-f6f3b0ac3eab"
      },
      "execution_count": null,
      "outputs": [
        {
          "output_type": "stream",
          "name": "stdout",
          "text": [
            "Original x-position: 0\n",
            "New x-position: 2\n"
          ]
        }
      ]
    },
    {
      "cell_type": "code",
      "source": [
        "alien_0 = {'color': 'green', 'points': 5}\n",
        "print(alien_0)\n",
        "del alien_0['points']\n",
        "print(alien_0)"
      ],
      "metadata": {
        "colab": {
          "base_uri": "https://localhost:8080/"
        },
        "id": "74P8uzW79fhD",
        "outputId": "aee0fe1d-777e-4d1c-e7cd-41e963a46f41"
      },
      "execution_count": null,
      "outputs": [
        {
          "output_type": "stream",
          "name": "stdout",
          "text": [
            "{'color': 'green', 'points': 5}\n",
            "{'color': 'green'}\n"
          ]
        }
      ]
    },
    {
      "cell_type": "code",
      "source": [
        "favorite_languages = {\n",
        " 'jen': 'python',\n",
        " 'sarah': 'c',\n",
        " 'edward': 'ruby',\n",
        " 'phil': 'python',\n",
        " }\n",
        "print(\"Sarah's favorite language is \" +\n",
        "favorite_languages['sarah'].title() + \".\")\n"
      ],
      "metadata": {
        "colab": {
          "base_uri": "https://localhost:8080/"
        },
        "id": "TVRnPv7v-qUB",
        "outputId": "5a3a2d24-9d15-4c6a-9e85-4292c49c6917"
      },
      "execution_count": null,
      "outputs": [
        {
          "output_type": "stream",
          "name": "stdout",
          "text": [
            "Sarah's favorite language is C.\n"
          ]
        }
      ]
    },
    {
      "cell_type": "code",
      "source": [
        "#try it yourself 6.1\n",
        "person = {\"first_name\": \"John\", \"last_name\": \"Pierce\", \"age\": \"40\", \"city\": \"Oklahoma\"}\n",
        "print(person[\"first_name\"])\n",
        "print(person[\"last_name\"])\n",
        "print(person[\"age\"])\n",
        "print(person[\"city\"])"
      ],
      "metadata": {
        "colab": {
          "base_uri": "https://localhost:8080/"
        },
        "id": "GQAb5vQCA9SX",
        "outputId": "7668333d-17da-4f03-cdcd-81cca3b3d87a"
      },
      "execution_count": null,
      "outputs": [
        {
          "output_type": "stream",
          "name": "stdout",
          "text": [
            "John\n",
            "Pierce\n",
            "40\n",
            "Oklahoma\n"
          ]
        }
      ]
    },
    {
      "cell_type": "code",
      "source": [
        "#try it yourself 6.2\n",
        "number = {\"Mo\": \"2\", \"Kal\": \"5\", \"Mou\": \"7\", \"Jam\": \"6\", \"Wav\": \"0\"}\n",
        "print(number[\"Mo\"])\n",
        "print(number[\"Kal\"])\n",
        "print(number[\"Mou\"])\n",
        "print(number[\"Jam\"])\n",
        "print(number[\"Wav\"])"
      ],
      "metadata": {
        "colab": {
          "base_uri": "https://localhost:8080/"
        },
        "id": "aTqVznP-DCFo",
        "outputId": "f035721e-c4f6-473a-aa2d-27a1f2806027"
      },
      "execution_count": null,
      "outputs": [
        {
          "output_type": "stream",
          "name": "stdout",
          "text": [
            "2\n",
            "5\n",
            "7\n",
            "6\n",
            "0\n"
          ]
        }
      ]
    },
    {
      "cell_type": "code",
      "source": [
        "#try it yourself 6.3\n",
        "glossary = {\n",
        "    \"title\": \"Capitalize the first letters\",\n",
        "    \"strip\": \"Remove white spaces\",\n",
        "    \"append\": \"Add value to a list\",\n",
        "    \"sort\": \"I mean it's literally in the name\",\n",
        "    \"len\": \"Count the number of items\"\n",
        "}\n",
        "print(\"here are a few terminologies and their meanings\")\n",
        "print(\"\\ntitle: \" + glossary[\"title\"])\n",
        "print(\"\\nstrip: \" + glossary[\"strip\"])\n",
        "print(\"\\nappend: \" + glossary[\"append\"])\n",
        "print(\"\\nsort: \" + glossary[\"sort\"])\n",
        "print(\"\\nlen: \" + glossary[\"len\"])\n"
      ],
      "metadata": {
        "colab": {
          "base_uri": "https://localhost:8080/"
        },
        "id": "lm1dEaCwD2VL",
        "outputId": "7268205e-a80f-4129-9d24-6e641098e795"
      },
      "execution_count": null,
      "outputs": [
        {
          "output_type": "stream",
          "name": "stdout",
          "text": [
            "here are a few terminologies and their meanings\n",
            "\n",
            "title: Capitalize the first letters\n",
            "\n",
            "strip: Remove white spaces\n",
            "\n",
            "append: Add value to a list\n",
            "\n",
            "sort: I mean it's literally in the name\n",
            "\n",
            "len: Count the number of items\n"
          ]
        }
      ]
    },
    {
      "cell_type": "code",
      "source": [
        "user_0 = {\n",
        " 'username': 'efermi',\n",
        " 'first': 'enrico',\n",
        " 'last': 'fermi',\n",
        "}\n",
        "for key, value in user_0.items():\n",
        "  print(\"\\nKey: \" + key)\n",
        "  print(\"Value: \" + value)"
      ],
      "metadata": {
        "colab": {
          "base_uri": "https://localhost:8080/"
        },
        "id": "FEiqzxYbGDQA",
        "outputId": "c88beafc-a522-4b1b-c8d4-cab5775ad4a3"
      },
      "execution_count": null,
      "outputs": [
        {
          "output_type": "stream",
          "name": "stdout",
          "text": [
            "\n",
            "Key: username\n",
            "Value: efermi\n",
            "\n",
            "Key: first\n",
            "Value: enrico\n",
            "\n",
            "Key: last\n",
            "Value: fermi\n"
          ]
        }
      ]
    },
    {
      "cell_type": "code",
      "source": [
        "favorite_languages = {\n",
        " 'jen': 'python',\n",
        " 'sarah': 'c',\n",
        " 'edward': 'ruby',\n",
        " 'phil': 'python',\n",
        " }\n",
        "for name, language in favorite_languages.items():\n",
        "  print(name.title() + \"'s favorite language is \" +\n",
        " language.title() + \".\")"
      ],
      "metadata": {
        "colab": {
          "base_uri": "https://localhost:8080/"
        },
        "id": "Bnlr1DsRIpXT",
        "outputId": "f962c089-4e1d-4d24-8ed7-bd713f2d4ecb"
      },
      "execution_count": null,
      "outputs": [
        {
          "output_type": "stream",
          "name": "stdout",
          "text": [
            "Jen's favorite language is Python.\n",
            "Sarah's favorite language is C.\n",
            "Edward's favorite language is Ruby.\n",
            "Phil's favorite language is Python.\n"
          ]
        }
      ]
    },
    {
      "cell_type": "code",
      "source": [
        "favorite_languages = {\n",
        " 'jen': 'python',\n",
        " 'sarah': 'c',\n",
        " 'edward': 'ruby',\n",
        " 'phil': 'python',\n",
        " }\n",
        "for name in favorite_languages.keys():\n",
        " print(name.title())"
      ],
      "metadata": {
        "colab": {
          "base_uri": "https://localhost:8080/"
        },
        "id": "6pJFMnvQI1Gy",
        "outputId": "6c6bee9c-b2e6-4030-d61d-d0d50cc89c21"
      },
      "execution_count": null,
      "outputs": [
        {
          "output_type": "stream",
          "name": "stdout",
          "text": [
            "Jen\n",
            "Sarah\n",
            "Edward\n",
            "Phil\n"
          ]
        }
      ]
    },
    {
      "cell_type": "code",
      "source": [
        "favorite_languages = {\n",
        " 'jen': 'python',\n",
        " 'sarah': 'c',\n",
        " 'edward': 'ruby',\n",
        " 'phil': 'python',\n",
        " }\n",
        "friends = ['phil', 'sarah']\n",
        "for name in favorite_languages.keys():\n",
        "  print(name.title())\n",
        "\n",
        "  if name in friends:\n",
        "    print(\" Hi \" + name.title() +\n",
        "    \", I see your favorite language is \" +\n",
        "    favorite_languages[name].title() + \"!\")"
      ],
      "metadata": {
        "colab": {
          "base_uri": "https://localhost:8080/"
        },
        "id": "T9lCXAK6KuBO",
        "outputId": "5f8f9fce-b261-4b9f-c22f-969465663ad7"
      },
      "execution_count": null,
      "outputs": [
        {
          "output_type": "stream",
          "name": "stdout",
          "text": [
            "Jen\n",
            "Sarah\n",
            " Hi Sarah, I see your favorite language is C!\n",
            "Edward\n",
            "Phil\n",
            " Hi Phil, I see your favorite language is Python!\n"
          ]
        }
      ]
    },
    {
      "cell_type": "code",
      "source": [
        "favorite_languages = {\n",
        " 'jen': 'python',\n",
        " 'sarah': 'c',\n",
        " 'edward': 'ruby',\n",
        " 'phil': 'python',\n",
        " }\n",
        "if 'erin' not in favorite_languages.keys():\n",
        " print(\"Erin, please take our poll!\")"
      ],
      "metadata": {
        "colab": {
          "base_uri": "https://localhost:8080/"
        },
        "id": "GpeIoWi_9J8h",
        "outputId": "60adae36-467c-4eec-a36f-d0a81c337568"
      },
      "execution_count": 1,
      "outputs": [
        {
          "output_type": "stream",
          "name": "stdout",
          "text": [
            "Erin, please take our poll!\n"
          ]
        }
      ]
    },
    {
      "cell_type": "code",
      "source": [
        "favorite_languages = {\n",
        " 'jen': 'python',\n",
        " 'sarah': 'c',\n",
        " 'edward': 'ruby',\n",
        " 'phil': 'python',\n",
        " }\n",
        "for name in sorted(favorite_languages.keys()):\n",
        " print(name.title() + \", thank you for taking the poll.\")"
      ],
      "metadata": {
        "colab": {
          "base_uri": "https://localhost:8080/"
        },
        "id": "tGIRMlWq90js",
        "outputId": "7d7f8f60-89a6-4a1b-a600-2d5709041bf5"
      },
      "execution_count": 5,
      "outputs": [
        {
          "output_type": "stream",
          "name": "stdout",
          "text": [
            "Edward, thank you for taking the poll.\n",
            "Jen, thank you for taking the poll.\n",
            "Phil, thank you for taking the poll.\n",
            "Sarah, thank you for taking the poll.\n"
          ]
        }
      ]
    },
    {
      "cell_type": "code",
      "source": [
        "favorite_languages = {\n",
        " 'jen': 'python',\n",
        " 'sarah': 'c',\n",
        " 'edward': 'ruby',\n",
        " 'phil': 'python',\n",
        " }\n",
        "print(\"The following languages have been mentioned:\")\n",
        "for language in favorite_languages.values():\n",
        " print(language.title())"
      ],
      "metadata": {
        "colab": {
          "base_uri": "https://localhost:8080/"
        },
        "id": "KR-jwq7q_J13",
        "outputId": "5a6c0e70-95dc-48a2-cffe-56f52519bced"
      },
      "execution_count": 6,
      "outputs": [
        {
          "output_type": "stream",
          "name": "stdout",
          "text": [
            "The following languages have been mentioned:\n",
            "Python\n",
            "C\n",
            "Ruby\n",
            "Python\n"
          ]
        }
      ]
    },
    {
      "cell_type": "code",
      "source": [
        "favorite_languages = {\n",
        " 'jen': 'python',\n",
        " 'sarah': 'c',\n",
        " 'edward': 'ruby',\n",
        " 'phil': 'python',\n",
        " }\n",
        "print(\"The following languages have been mentioned:\")\n",
        "for language in set(favorite_languages.values()):\n",
        " print(language.title())"
      ],
      "metadata": {
        "colab": {
          "base_uri": "https://localhost:8080/"
        },
        "id": "2Ps8rE86_1dN",
        "outputId": "b7e326fb-dc75-49e3-ae22-f070fa44682f"
      },
      "execution_count": 7,
      "outputs": [
        {
          "output_type": "stream",
          "name": "stdout",
          "text": [
            "The following languages have been mentioned:\n",
            "Ruby\n",
            "C\n",
            "Python\n"
          ]
        }
      ]
    },
    {
      "cell_type": "code",
      "source": [
        "#try it yourself 6.4\n",
        "glossary = {\n",
        "    \"title\": \"Capitalize the first letters\",\n",
        "    \"strip\": \"Remove white spaces\",\n",
        "    \"append\": \"Add value to a list\",\n",
        "    \"sort\": \"I mean it's literally in the name\",\n",
        "    \"len\": \"Count the number of items\",\n",
        "    \"min\": \"Find the minimum value\",\n",
        "    \"max\": \"Find the maximum value\",\n",
        "    \"sum\": \"Find the sum of values\",\n",
        "    \"insert\": \"Insert value to specific position\",\n",
        "    \"remove\": \"Remove from list\"\n",
        "}\n",
        "print(\"here are a few terminologies and their meanings\")\n",
        "for key, value in glossary.items():\n",
        "  print(\"\\n\", key + \": \" + value)"
      ],
      "metadata": {
        "colab": {
          "base_uri": "https://localhost:8080/"
        },
        "id": "KEBNq7--__gC",
        "outputId": "f20354a3-9124-427b-eb45-369d93b1120d"
      },
      "execution_count": 18,
      "outputs": [
        {
          "output_type": "stream",
          "name": "stdout",
          "text": [
            "here are a few terminologies and their meanings\n",
            "\n",
            " title: Capitalize the first letters\n",
            "\n",
            " strip: Remove white spaces\n",
            "\n",
            " append: Add value to a list\n",
            "\n",
            " sort: I mean it's literally in the name\n",
            "\n",
            " len: Count the number of items\n",
            "\n",
            " min: Find the minimum value\n",
            "\n",
            " max: Find the maximum value\n",
            "\n",
            " sum: Find the sum of values\n",
            "\n",
            " insert: Insert value to specific position\n",
            "\n",
            " remove: Remove from list\n"
          ]
        }
      ]
    },
    {
      "cell_type": "code",
      "source": [
        "#try it yourself 6.5\n",
        "rivers = {\"nile\": \"Uganda\",\n",
        "          \"Amazon\": \"peru\",\n",
        "          \"yangtze\": \"China\"}\n",
        "for key in rivers.keys():\n",
        "  print(\"the \" + key + \" runs through \" + rivers[key])\n",
        "\n",
        "print(\"\\nhere are the rivers:\")\n",
        "for key in rivers.keys():\n",
        "  print(key)\n",
        "print(\"\\nhere are the countries:\")\n",
        "for value in rivers.values():\n",
        "  print(value)"
      ],
      "metadata": {
        "colab": {
          "base_uri": "https://localhost:8080/"
        },
        "id": "x9GEaoL6C661",
        "outputId": "7ecf4d2e-9bf2-4994-da1b-4041f9aee97f"
      },
      "execution_count": 19,
      "outputs": [
        {
          "output_type": "stream",
          "name": "stdout",
          "text": [
            "the nile runs through Uganda\n",
            "the Amazon runs through peru\n",
            "the yangtze runs through China\n",
            "\n",
            "here are the rivers:\n",
            "nile\n",
            "Amazon\n",
            "yangtze\n",
            "\n",
            "here are the countries:\n",
            "Uganda\n",
            "peru\n",
            "China\n"
          ]
        }
      ]
    },
    {
      "cell_type": "code",
      "source": [
        "#try it yourself 6.6\n",
        "favorite_languages = {\n",
        " 'jen': 'python',\n",
        " 'sarah': 'c',\n",
        " 'edward': 'ruby',\n",
        " 'phil': 'python',\n",
        " }\n",
        "names = [\"ted\", \"brandon\", \"phil\"]\n",
        "for key in favorite_languages.keys():\n",
        "  for name in range(len(names)):\n",
        "    if names[name] == key:\n",
        "      print(key + \" thanks for responding\")\n",
        "      names[name] = 0\n",
        "print(\"\\n\")\n",
        "for name in names:\n",
        "  if name != 0:\n",
        "    print(name + \" please respond\")"
      ],
      "metadata": {
        "colab": {
          "base_uri": "https://localhost:8080/"
        },
        "id": "b4Md8qRMMWpb",
        "outputId": "30aec7ec-71bc-432d-dbe4-903e019c3354"
      },
      "execution_count": 30,
      "outputs": [
        {
          "output_type": "stream",
          "name": "stdout",
          "text": [
            "phil thanks for responding\n",
            "\n",
            "\n",
            "ted please respond\n",
            "brandon please respond\n"
          ]
        }
      ]
    },
    {
      "cell_type": "code",
      "source": [
        "alien_0 = {'color': 'green', 'points': 5}\n",
        "alien_1 = {'color': 'yellow', 'points': 10}\n",
        "alien_2 = {'color': 'red', 'points': 15}\n",
        "aliens = [alien_0, alien_1, alien_2]\n",
        "for alien in aliens:\n",
        " print(alien)"
      ],
      "metadata": {
        "colab": {
          "base_uri": "https://localhost:8080/"
        },
        "id": "akYjN3Y3RCd_",
        "outputId": "e324f1e3-ef98-4f71-9563-8551e26cbb96"
      },
      "execution_count": 31,
      "outputs": [
        {
          "output_type": "stream",
          "name": "stdout",
          "text": [
            "{'color': 'green', 'points': 5}\n",
            "{'color': 'yellow', 'points': 10}\n",
            "{'color': 'red', 'points': 15}\n"
          ]
        }
      ]
    },
    {
      "cell_type": "code",
      "source": [
        "# Make an empty list for storing aliens.\n",
        "aliens = []\n",
        "# Make 30 green aliens.\n",
        "for alien_number in range(30):\n",
        " new_alien = {'color': 'green', 'points': 5, 'speed': 'slow'}\n",
        " aliens.append(new_alien)\n",
        "\n",
        "for alien in aliens[0:3]:\n",
        " if alien['color'] == 'green':\n",
        "  alien['color'] = 'yellow'\n",
        "  alien['speed'] = 'medium'\n",
        "  alien['points'] = 10\n",
        " elif alien['color'] == 'yellow':\n",
        "  alien['color'] = 'red'\n",
        "  alien['speed'] = 'fast'\n",
        "  alien['points'] = 15\n",
        "# Show the first 5 aliens:\n",
        "for alien in aliens[:5]:\n",
        " print(alien)\n",
        "print(\"...\")\n",
        "# Show how many aliens have been created.\n",
        "print(\"Total number of aliens: \" + str(len(aliens)))\n"
      ],
      "metadata": {
        "colab": {
          "base_uri": "https://localhost:8080/"
        },
        "id": "iuycildCSRpN",
        "outputId": "e208152d-f752-49f8-f7d4-f0241c8e9d41"
      },
      "execution_count": 34,
      "outputs": [
        {
          "output_type": "stream",
          "name": "stdout",
          "text": [
            "{'color': 'yellow', 'points': 10, 'speed': 'medium'}\n",
            "{'color': 'yellow', 'points': 10, 'speed': 'medium'}\n",
            "{'color': 'yellow', 'points': 10, 'speed': 'medium'}\n",
            "{'color': 'green', 'points': 5, 'speed': 'slow'}\n",
            "{'color': 'green', 'points': 5, 'speed': 'slow'}\n",
            "...\n",
            "Total number of aliens: 30\n"
          ]
        }
      ]
    },
    {
      "cell_type": "code",
      "source": [
        "# Store information about a pizza being ordered.\n",
        "pizza = {\n",
        " 'crust': 'thick',\n",
        " 'toppings': ['mushrooms', 'extra cheese'],\n",
        " }\n",
        "# Summarize the order.\n",
        "print(\"You ordered a \" + pizza['crust'] + \"-crust pizza \" +\n",
        " \"with the following toppings:\")\n",
        "for topping in pizza['toppings']:\n",
        " print(\"\\t\" + topping)"
      ],
      "metadata": {
        "colab": {
          "base_uri": "https://localhost:8080/"
        },
        "id": "FOTzAZAmUFeS",
        "outputId": "fe5610a9-d69a-41ea-910d-34b18217490e"
      },
      "execution_count": 35,
      "outputs": [
        {
          "output_type": "stream",
          "name": "stdout",
          "text": [
            "You ordered a thick-crust pizza with the following toppings:\n",
            "\tmushrooms\n",
            "\textra cheese\n"
          ]
        }
      ]
    },
    {
      "cell_type": "code",
      "source": [
        "favorite_languages = {\n",
        " 'jen': ['python', 'ruby'],\n",
        " 'sarah': ['c'],\n",
        " 'edward': ['ruby', 'go'],\n",
        " 'phil': ['python', 'haskell'],\n",
        " }\n",
        "for name, languages in favorite_languages.items():\n",
        " print(\"\\n\" + name.title() + \"'s favorite languages are:\")\n",
        " for language in languages:\n",
        "  print(\"\\t\" + language.title())"
      ],
      "metadata": {
        "colab": {
          "base_uri": "https://localhost:8080/"
        },
        "id": "Vk-mjl8lW-QZ",
        "outputId": "0e7f75a4-6a0e-4db5-a942-45338c4a108a"
      },
      "execution_count": 48,
      "outputs": [
        {
          "output_type": "stream",
          "name": "stdout",
          "text": [
            "\n",
            "Jen's favorite languages are:\n",
            "\tPython\n",
            "\tRuby\n",
            "\n",
            "Sarah's favorite languages are:\n",
            "\tC\n",
            "\n",
            "Edward's favorite languages are:\n",
            "\tRuby\n",
            "\tGo\n",
            "\n",
            "Phil's favorite languages are:\n",
            "\tPython\n",
            "\tHaskell\n"
          ]
        }
      ]
    },
    {
      "cell_type": "code",
      "source": [
        "users = {\n",
        " 'aeinstein': {\n",
        " 'first': 'albert',\n",
        " 'last': 'einstein',\n",
        " 'location': 'princeton',\n",
        " },\n",
        " 'mcurie': {\n",
        " 'first': 'marie',\n",
        " 'last': 'curie',\n",
        " 'location': 'paris',\n",
        " },\n",
        " }\n",
        "for username, user_info in users.items():\n",
        " print(\"\\nUsername: \" + username)\n",
        " full_name = user_info['first'] + \" \" + user_info['last']\n",
        " location = user_info['location']\n",
        " print(\"\\tFull name: \" + full_name.title())\n",
        " print(\"\\tLocation: \" + location.title())"
      ],
      "metadata": {
        "colab": {
          "base_uri": "https://localhost:8080/"
        },
        "id": "mzfx_YG3XP8y",
        "outputId": "6d7a74d7-ad71-4211-edf8-dbc425402923"
      },
      "execution_count": 49,
      "outputs": [
        {
          "output_type": "stream",
          "name": "stdout",
          "text": [
            "\n",
            "Username: aeinstein\n",
            "\tFull name: Albert Einstein\n",
            "\tLocation: Princeton\n",
            "\n",
            "Username: mcurie\n",
            "\tFull name: Marie Curie\n",
            "\tLocation: Paris\n"
          ]
        }
      ]
    },
    {
      "cell_type": "code",
      "source": [
        "#try it yourself 6.7\n",
        "person1 = {\"first_name\": \"John\", \"last_name\": \"Pierce\", \"age\": \"40\", \"city\": \"Oklahoma\"}\n",
        "person2 = {\"first_name\": \"Jane\", \"last_name\": \"Patterson\", \"age\": \"26\", \"city\": \"Dallas\"}\n",
        "person3 = {\"first_name\": \"Jack\", \"last_name\": \"Pavard\", \"age\": \"89\", \"city\": \"San antonio\"}\n",
        "\n",
        "people = {\"person1\": person1,\n",
        "          \"person2\": person2,\n",
        "          \"person3\": person3}\n",
        "for key in people.keys():\n",
        "  print(people[key])\n"
      ],
      "metadata": {
        "colab": {
          "base_uri": "https://localhost:8080/"
        },
        "id": "7PK1pXFgZWl8",
        "outputId": "074d6bc2-f034-4a27-ff74-7b998426426b"
      },
      "execution_count": 51,
      "outputs": [
        {
          "output_type": "stream",
          "name": "stdout",
          "text": [
            "{'first_name': 'John', 'last_name': 'Pierce', 'age': '40', 'city': 'Oklahoma'}\n",
            "{'first_name': 'Jane', 'last_name': 'Patterson', 'age': '26', 'city': 'Dallas'}\n",
            "{'first_name': 'Jack', 'last_name': 'Pavard', 'age': '89', 'city': 'San antonio'}\n"
          ]
        }
      ]
    },
    {
      "cell_type": "code",
      "source": [
        "#try it yourself 6.8\n",
        "dog = {\"breed\": \"german shepard\", \"owner\": \"mike\"}\n",
        "cat = {\"breed\": \"siamese\", \"owner\": \"karen\"}\n",
        "\n",
        "pets = {\"dog\": dog, \"cat\": cat}\n",
        "for key in pets.keys():\n",
        "  print(pets[key])"
      ],
      "metadata": {
        "colab": {
          "base_uri": "https://localhost:8080/"
        },
        "id": "adiEXZTca4bc",
        "outputId": "fb568063-f0a8-4742-dfd6-f2a4888a2cac"
      },
      "execution_count": 53,
      "outputs": [
        {
          "output_type": "stream",
          "name": "stdout",
          "text": [
            "{'breed': 'german shepard', 'owner': 'mike'}\n",
            "{'breed': 'siamese', 'owner': 'karen'}\n"
          ]
        }
      ]
    },
    {
      "cell_type": "code",
      "source": [
        "#try it yourself 6.9\n",
        "mo = [\"Sundowner\", \"Memorial gym\", \"Macomb Hall\"]\n",
        "eth = [\"Hawkins\", \"Tim Hortons\", \"Sundowner\"]\n",
        "kal = [\"Tim Hortons\", \"Memorial gym\", \"Sundowner\"]\n",
        "\n",
        "favorite_places = {\"mo\": mo, \"eth\": eth, \"kal\": kal}\n",
        "for key in favorite_places.keys():\n",
        "  print(\"\\n\" + key + \" likes \")\n",
        "  print(favorite_places[key])"
      ],
      "metadata": {
        "colab": {
          "base_uri": "https://localhost:8080/"
        },
        "id": "gV4rO00FbYIN",
        "outputId": "f4bc8592-57a5-41d2-c124-84f1144fadaa"
      },
      "execution_count": 57,
      "outputs": [
        {
          "output_type": "stream",
          "name": "stdout",
          "text": [
            "\n",
            "mo likes \n",
            "['Sundowner', 'Memorial gym', 'Macomb Hall']\n",
            "\n",
            "eth likes \n",
            "['Hawkins', 'Tim Hortons', 'Sundowner']\n",
            "\n",
            "kal likes \n",
            "['Tim Hortons', 'Memorial gym', 'Sundowner']\n"
          ]
        }
      ]
    },
    {
      "cell_type": "code",
      "source": [
        "#try it yourself 6.10\n",
        "mo = [4, 8, 9]\n",
        "eth = [12, 4, 6]\n",
        "kal = [1, 2]\n",
        "\n",
        "numbers = {\"mo\": mo, \"eth\": eth, \"kal\": kal}\n",
        "for key in numbers.keys():\n",
        "  print(\"\\n\" + key + \" likes \")\n",
        "  print(numbers[key])"
      ],
      "metadata": {
        "colab": {
          "base_uri": "https://localhost:8080/"
        },
        "id": "bnURSfnwdbyN",
        "outputId": "468d825a-a579-4fa9-fbb1-34fce1c5b448"
      },
      "execution_count": 58,
      "outputs": [
        {
          "output_type": "stream",
          "name": "stdout",
          "text": [
            "\n",
            "mo likes \n",
            "[4, 8, 9]\n",
            "\n",
            "eth likes \n",
            "[12, 4, 6]\n",
            "\n",
            "kal likes \n",
            "[1, 2]\n"
          ]
        }
      ]
    },
    {
      "cell_type": "code",
      "source": [
        "#try it yourself 6.11\n",
        "Dallas = {\"country\": \"USA\", \"population\": \"1.2 mil\", \"fact\": \"has it's own NBA team\"}\n",
        "Shanghai = {\"country\": \"China\", \"population\": \"26.3 mil\", \"fact\": \"has longest metro in the world\"}\n",
        "Zurich = {\"country\": \"Switzerland\", \"population\": \"407 k\", \"fact\": \"know as the financial district\"}\n",
        "\n",
        "cities = {\"Dallas\": Dallas,\n",
        "          \"Shanghai\": Shanghai,\n",
        "          \"Zurich\": Zurich}\n",
        "for key in cities.keys():\n",
        "  print(\"\\nhere is information about \" + key)\n",
        "  print(cities[key])"
      ],
      "metadata": {
        "colab": {
          "base_uri": "https://localhost:8080/"
        },
        "id": "ojoZ_H05d92L",
        "outputId": "77660f0e-f61d-4e68-ec0a-1eedfaa367ec"
      },
      "execution_count": 62,
      "outputs": [
        {
          "output_type": "stream",
          "name": "stdout",
          "text": [
            "\n",
            "here is information about Dallas\n",
            "{'country': 'USA', 'population': '1.2 mil', 'fact': \"has it's own NBA team\"}\n",
            "\n",
            "here is information about Shanghai\n",
            "{'country': 'China', 'population': '26.3 mil', 'fact': 'has longest metro in the world'}\n",
            "\n",
            "here is information about Zurich\n",
            "{'country': 'Switzerland', 'population': '407 k', 'fact': 'know as the financial district'}\n"
          ]
        }
      ]
    },
    {
      "cell_type": "code",
      "source": [
        "#try it yourself 6.12 (extending 6.9 to describe my friends in more detail)\n",
        "mo = {\"fullname\": \"Mouhammed\",\n",
        "      \"favorite places on campus\": [\"Sundowner\", \"Memorial gym\", \"Macomb Hall\"],\n",
        "      \"fun fact\": \"loves basketball\"}\n",
        "eth = {\"fullname\": \"Ethan\",\n",
        "      \"favorite places on campus\": [\"Hawkins\", \"Tim Hortons\", \"Sundowner\"],\n",
        "      \"fun fact\": \"loves building legos\"}\n",
        "kal = {\"fullname\": \"Kalvin\",\n",
        "      \"favorite places on campus\": [\"Tim Hortons\", \"Memorial gym\", \"Sundowner\"],\n",
        "      \"fun fact\": \"loves getting sturdy\"}\n",
        "\n",
        "\n",
        "friend_descriptions = {\"mo\": mo, \"eth\": eth, \"kal\": kal}\n",
        "for key in friend_descriptions.keys():\n",
        "  print(\"\\n\" + key + \"'s description is: \")\n",
        "  temp = friend_descriptions[key]\n",
        "  for key2 in temp.keys():\n",
        "    print(\"\\n\", key2, \": \", temp[key2])\n",
        "  print(\"\\n\\n\\n\")"
      ],
      "metadata": {
        "colab": {
          "base_uri": "https://localhost:8080/"
        },
        "id": "dtdSH9xrgxNR",
        "outputId": "15fb6607-98c4-4df6-8adb-f97e62074fe1"
      },
      "execution_count": 73,
      "outputs": [
        {
          "output_type": "stream",
          "name": "stdout",
          "text": [
            "\n",
            "mo's description is: \n",
            "\n",
            " fullname :  Mouhammed\n",
            "\n",
            " favorite places on campus :  ['Sundowner', 'Memorial gym', 'Macomb Hall']\n",
            "\n",
            " fun fact :  loves basketball\n",
            "\n",
            "\n",
            "\n",
            "\n",
            "\n",
            "eth's description is: \n",
            "\n",
            " fullname :  Ethan\n",
            "\n",
            " favorite places on campus :  ['Hawkins', 'Tim Hortons', 'Sundowner']\n",
            "\n",
            " fun fact :  loves building legos\n",
            "\n",
            "\n",
            "\n",
            "\n",
            "\n",
            "kal's description is: \n",
            "\n",
            " fullname :  Kalvin\n",
            "\n",
            " favorite places on campus :  ['Tim Hortons', 'Memorial gym', 'Sundowner']\n",
            "\n",
            " fun fact :  loves getting sturdy\n",
            "\n",
            "\n",
            "\n",
            "\n"
          ]
        }
      ]
    }
  ]
}