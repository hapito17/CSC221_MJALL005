{
  "nbformat": 4,
  "nbformat_minor": 0,
  "metadata": {
    "colab": {
      "provenance": [],
      "authorship_tag": "ABX9TyNzwtPtZFuKLXUjldDspGGj",
      "include_colab_link": true
    },
    "kernelspec": {
      "name": "python3",
      "display_name": "Python 3"
    },
    "language_info": {
      "name": "python"
    }
  },
  "cells": [
    {
      "cell_type": "markdown",
      "metadata": {
        "id": "view-in-github",
        "colab_type": "text"
      },
      "source": [
        "<a href=\"https://colab.research.google.com/github/hapito17/CSC221_MJALL005/blob/main/Assignment4.ipynb\" target=\"_parent\"><img src=\"https://colab.research.google.com/assets/colab-badge.svg\" alt=\"Open In Colab\"/></a>"
      ]
    },
    {
      "cell_type": "code",
      "execution_count": null,
      "metadata": {
        "colab": {
          "base_uri": "https://localhost:8080/"
        },
        "id": "uglp2s3w0c-A",
        "outputId": "35115e47-dbce-4637-98fa-f9617af8258a"
      },
      "outputs": [
        {
          "output_type": "stream",
          "name": "stdout",
          "text": [
            "['trek', 'cannondale', 'redline', 'specialized']\n",
            "trek\n",
            "Trek\n",
            "cannondale\n",
            "specialized\n",
            "specialized\n",
            "My first bicycle was a Trek.\n"
          ]
        }
      ],
      "source": [
        "bicycles = ['trek', 'cannondale', 'redline', 'specialized']\n",
        "print(bicycles)\n",
        "print(bicycles[0])\n",
        "print(bicycles[0].title())\n",
        "print(bicycles[1])\n",
        "print(bicycles[3])\n",
        "print(bicycles[-1])\n",
        "message = \"My first bicycle was a \" + bicycles[0].title() + \".\"\n",
        "print(message)"
      ]
    },
    {
      "cell_type": "code",
      "source": [
        "#try it youself 3.1 - 3.3\n",
        "friends = [\"Mouhammed\", \"Ethan\", \"Kalvin\"]\n",
        "print(friends[0])\n",
        "print(friends[1])\n",
        "print(friends[-1])\n",
        "print(friends[0] + \" is a cool guy\")\n",
        "print(friends[1] + \" is a cool guy\")\n",
        "print(friends[2] + \" is a cool guy\")\n",
        "shows =  [\"game of thrones\", \"vikings\", \"snowfall\"]\n",
        "print(shows[0] + \" is an amazing show\")\n",
        "print(shows[1] + \" is an amazing show\")\n",
        "print(shows[2] + \" is an amazing show\")"
      ],
      "metadata": {
        "colab": {
          "base_uri": "https://localhost:8080/"
        },
        "id": "mAwdW2w51SrI",
        "outputId": "8ea0b989-c03d-4404-f00c-b6f0aa209f9b"
      },
      "execution_count": null,
      "outputs": [
        {
          "output_type": "stream",
          "name": "stdout",
          "text": [
            "Mouhammed\n",
            "Ethan\n",
            "Kalvin\n",
            "Mouhammed is a cool guy\n",
            "Ethan is a cool guy\n",
            "Kalvin is a cool guy\n",
            "game of thrones is an amazing show\n",
            "vikings is an amazing show\n",
            "snowfall is an amazing show\n"
          ]
        }
      ]
    },
    {
      "cell_type": "code",
      "source": [
        "motorcycles = ['honda', 'yamaha', 'suzuki']\n",
        "print(motorcycles)\n",
        "\n",
        "motorcycles[0] = 'ducati'\n",
        "print(motorcycles)\n",
        "\n",
        "motorcycles.append('bajaj')\n",
        "print(motorcycles)"
      ],
      "metadata": {
        "colab": {
          "base_uri": "https://localhost:8080/"
        },
        "id": "stXmvnns4HVj",
        "outputId": "f561743b-f97f-4510-a6ab-945d5a8a3b8b"
      },
      "execution_count": null,
      "outputs": [
        {
          "output_type": "stream",
          "name": "stdout",
          "text": [
            "['honda', 'yamaha', 'suzuki']\n",
            "['ducati', 'yamaha', 'suzuki']\n",
            "['ducati', 'yamaha', 'suzuki', 'bajaj']\n"
          ]
        }
      ]
    },
    {
      "cell_type": "code",
      "source": [
        "motorcycles = []\n",
        "motorcycles.append('honda')\n",
        "motorcycles.append('yamaha')\n",
        "motorcycles.append('suzuki')\n",
        "print(motorcycles)"
      ],
      "metadata": {
        "colab": {
          "base_uri": "https://localhost:8080/"
        },
        "id": "DbBD-ZbA2jZi",
        "outputId": "86a66251-5643-4cb3-b007-793c54f71b46"
      },
      "execution_count": null,
      "outputs": [
        {
          "output_type": "stream",
          "name": "stdout",
          "text": [
            "['honda', 'yamaha', 'suzuki']\n"
          ]
        }
      ]
    },
    {
      "cell_type": "code",
      "source": [
        "motorcycles = ['honda', 'yamaha', 'suzuki']\n",
        "motorcycles.insert(0, 'ducati')\n",
        "print(motorcycles)"
      ],
      "metadata": {
        "colab": {
          "base_uri": "https://localhost:8080/"
        },
        "id": "11kukTdW4_I-",
        "outputId": "b49c0baf-64c4-4c23-95da-a20f6f853b50"
      },
      "execution_count": null,
      "outputs": [
        {
          "output_type": "stream",
          "name": "stdout",
          "text": [
            "['ducati', 'honda', 'yamaha', 'suzuki']\n"
          ]
        }
      ]
    },
    {
      "cell_type": "code",
      "source": [
        "motorcycles = ['honda', 'yamaha', 'suzuki']\n",
        "print(motorcycles)\n",
        "del motorcycles[0]\n",
        "print(motorcycles)"
      ],
      "metadata": {
        "colab": {
          "base_uri": "https://localhost:8080/"
        },
        "id": "G4TPav1D6J58",
        "outputId": "bfb3bca2-9b80-496f-9cc2-add5a4a3d072"
      },
      "execution_count": null,
      "outputs": [
        {
          "output_type": "stream",
          "name": "stdout",
          "text": [
            "['honda', 'yamaha', 'suzuki']\n",
            "['yamaha', 'suzuki']\n"
          ]
        }
      ]
    },
    {
      "cell_type": "code",
      "source": [
        "motorcycles = ['honda', 'yamaha', 'suzuki']\n",
        "print(motorcycles)\n",
        "del motorcycles[1]\n",
        "print(motorcycles)"
      ],
      "metadata": {
        "colab": {
          "base_uri": "https://localhost:8080/"
        },
        "id": "zODXu5tc6ZK7",
        "outputId": "bf4f1527-49cb-4cec-cab3-6c52e4a9b111"
      },
      "execution_count": null,
      "outputs": [
        {
          "output_type": "stream",
          "name": "stdout",
          "text": [
            "['honda', 'yamaha', 'suzuki']\n",
            "['honda', 'suzuki']\n"
          ]
        }
      ]
    },
    {
      "cell_type": "code",
      "source": [
        "motorcycles = ['honda', 'yamaha', 'suzuki']\n",
        "print(motorcycles)\n",
        "popped_motorcycle = motorcycles.pop()\n",
        "print(motorcycles)\n",
        "print(popped_motorcycle)"
      ],
      "metadata": {
        "colab": {
          "base_uri": "https://localhost:8080/"
        },
        "id": "gclwHCyq7mhS",
        "outputId": "3c635a2e-f2d7-421f-9989-76662e622156"
      },
      "execution_count": null,
      "outputs": [
        {
          "output_type": "stream",
          "name": "stdout",
          "text": [
            "['honda', 'yamaha', 'suzuki']\n",
            "['honda', 'yamaha']\n",
            "suzuki\n"
          ]
        }
      ]
    },
    {
      "cell_type": "code",
      "source": [
        "motorcycles = ['honda', 'yamaha', 'suzuki']\n",
        "last_owned = motorcycles.pop()\n",
        "print(\"The last motorcycle I owned was a \" + last_owned.title() + \".\")\n",
        "first_owned = motorcycles.pop(0)\n",
        "print('The first motorcycle I owned was a ' + first_owned.title() + '.')\n",
        "print(motorcycles)"
      ],
      "metadata": {
        "colab": {
          "base_uri": "https://localhost:8080/"
        },
        "id": "Z2pG0eaE8ClZ",
        "outputId": "dbf9c25b-9d56-4737-9df0-eaf10265fb35"
      },
      "execution_count": null,
      "outputs": [
        {
          "output_type": "stream",
          "name": "stdout",
          "text": [
            "The last motorcycle I owned was a Suzuki.\n",
            "The first motorcycle I owned was a Honda.\n",
            "['yamaha']\n"
          ]
        }
      ]
    },
    {
      "cell_type": "code",
      "source": [
        "motorcycles = ['honda', 'yamaha', 'suzuki']\n",
        "print(motorcycles)\n",
        "current = motorcycles[2]\n",
        "motorcycles.insert(2, \"hello\")\n",
        "print(motorcycles)\n",
        "print(current)"
      ],
      "metadata": {
        "colab": {
          "base_uri": "https://localhost:8080/"
        },
        "id": "NjN3x4PB8gN0",
        "outputId": "701f0b3c-0c72-410e-a72d-ac387738e0ae"
      },
      "execution_count": null,
      "outputs": [
        {
          "output_type": "stream",
          "name": "stdout",
          "text": [
            "['honda', 'yamaha', 'suzuki']\n",
            "['honda', 'yamaha', 'hello', 'suzuki']\n",
            "suzuki\n"
          ]
        }
      ]
    },
    {
      "cell_type": "code",
      "source": [
        "motorcycles = ['honda', 'yamaha', 'suzuki', 'ducati']\n",
        "print(motorcycles)\n",
        "motorcycles.remove('ducati')\n",
        "print(motorcycles)\n"
      ],
      "metadata": {
        "colab": {
          "base_uri": "https://localhost:8080/"
        },
        "id": "zk5rN9TP9SDu",
        "outputId": "00b0bed1-6a6d-4975-9faf-52ad316613d3"
      },
      "execution_count": null,
      "outputs": [
        {
          "output_type": "stream",
          "name": "stdout",
          "text": [
            "['honda', 'yamaha', 'suzuki', 'ducati']\n",
            "['honda', 'yamaha', 'suzuki']\n"
          ]
        }
      ]
    },
    {
      "cell_type": "code",
      "source": [
        "motorcycles = ['honda', 'yamaha', 'suzuki', 'ducati']\n",
        "print(motorcycles)\n",
        "too_expensive = 'ducati'\n",
        "motorcycles.remove(too_expensive)\n",
        "print(motorcycles)\n",
        "print(\"\\nA \" + too_expensive.title() + \" is too expensive for me.\")"
      ],
      "metadata": {
        "colab": {
          "base_uri": "https://localhost:8080/"
        },
        "id": "iCmCZ-Lj9hPj",
        "outputId": "1522578a-c8db-43ff-a068-67ff9845b751"
      },
      "execution_count": null,
      "outputs": [
        {
          "output_type": "stream",
          "name": "stdout",
          "text": [
            "['honda', 'yamaha', 'suzuki', 'ducati']\n",
            "['honda', 'yamaha', 'suzuki']\n",
            "\n",
            "A Ducati is too expensive for me.\n"
          ]
        }
      ]
    },
    {
      "cell_type": "code",
      "source": [
        "# try it yourself 3.4\n",
        "guests = [\"Genghis Khan\", \"Adolf Hitler\", \"Julius Caesar\"]\n",
        "print(\"guest list\")\n",
        "print(guests[0] + \" come to dinner\")\n",
        "print(guests[1] + \" come to dinner\")\n",
        "print(guests[2] + \" come to dinner\")\n",
        "\n",
        "# try it yourself 3.5\n",
        "print(\"Oh no, it seems \" + guests[1] + \" can't make it\")\n",
        "guests[1] = \"Napoleon Bonaparte\"\n",
        "print(\"\\nnew guest list\")\n",
        "print(guests[0] + \" come to dinner\")\n",
        "print(guests[1] + \" come to dinner\")\n",
        "print(guests[2] + \" come to dinner\")\n",
        "\n",
        "# try it yourself 3.6\n",
        "print(\"\\nmy my, I found a bigger table so i need to invite more people\")\n",
        "guests.insert(0, \"Jesus\")\n",
        "guests.insert(2, \"Muhammed\")\n",
        "guests.append(\"Alexander the Great\")\n",
        "print(\"\\nnew new guest list\")\n",
        "print(guests[0] + \" come to dinner\")\n",
        "print(guests[1] + \" come to dinner\")\n",
        "print(guests[2] + \" come to dinner\")\n",
        "print(guests[3] + \" come to dinner\")\n",
        "print(guests[4] + \" come to dinner\")\n",
        "print(guests[5] + \" come to dinner\")\n",
        "\n",
        "# try it yourself 3.7\n",
        "print(\"\\nwell I'm dead :(, anyway it seems I can only invite 2 guests\")\n",
        "current = guests.pop(1)\n",
        "print(\"sorry you can't come \" + current + \" just don't kill me\")\n",
        "current = guests.pop(2)\n",
        "print(\"sorry you can't come \" + current + \" just don't kill me\")\n",
        "current = guests.pop(2)\n",
        "print(\"sorry you can't come \" + current + \" just don't kill me\")\n",
        "current = guests.pop(2)\n",
        "print(\"sorry you can't come \" + current + \" just don't kill me\")\n",
        "print(len(guests)) #try it yourself 3.9\n",
        "print (guests[0] + \" and \" + guests[1] + \" you're still invited\")\n",
        "del guests[0]\n",
        "del guests[0]\n",
        "print(guests)\n"
      ],
      "metadata": {
        "colab": {
          "base_uri": "https://localhost:8080/"
        },
        "id": "-PCOK41l-62b",
        "outputId": "b1f76d90-c310-44af-be3a-2854e7c01cf4"
      },
      "execution_count": null,
      "outputs": [
        {
          "output_type": "stream",
          "name": "stdout",
          "text": [
            "guest list\n",
            "Genghis Khan come to dinner\n",
            "Adolf Hitler come to dinner\n",
            "Julius Caesar come to dinner\n",
            "Oh no, it seems Adolf Hitler can't make it\n",
            "\n",
            "new guest list\n",
            "Genghis Khan come to dinner\n",
            "Napoleon Bonaparte come to dinner\n",
            "Julius Caesar come to dinner\n",
            "\n",
            "my my, I found a bigger table so i need to invite more people\n",
            "\n",
            "new new guest list\n",
            "Jesus come to dinner\n",
            "Genghis Khan come to dinner\n",
            "Muhammed come to dinner\n",
            "Napoleon Bonaparte come to dinner\n",
            "Julius Caesar come to dinner\n",
            "Alexander the Great come to dinner\n",
            "\n",
            "well I'm dead :(, anyway it seems I can only invite 2 guests\n",
            "sorry you can't come Genghis Khan just don't kill me\n",
            "sorry you can't come Napoleon Bonaparte just don't kill me\n",
            "sorry you can't come Julius Caesar just don't kill me\n",
            "sorry you can't come Alexander the Great just don't kill me\n",
            "2\n",
            "Jesus and Muhammed you're still invited\n",
            "[]\n"
          ]
        }
      ]
    },
    {
      "cell_type": "code",
      "source": [
        "cars = ['bmw', 'audi', 'toyota', 'subaru']\n",
        "print(cars)\n",
        "cars.sort()\n",
        "print(cars)\n",
        "cars.sort(reverse=True)\n",
        "print(cars)"
      ],
      "metadata": {
        "colab": {
          "base_uri": "https://localhost:8080/"
        },
        "id": "TGm8S3KBBMoG",
        "outputId": "6609c10f-6e81-43b2-b519-0064a8e24ee5"
      },
      "execution_count": null,
      "outputs": [
        {
          "output_type": "stream",
          "name": "stdout",
          "text": [
            "['bmw', 'audi', 'toyota', 'subaru']\n",
            "['audi', 'bmw', 'subaru', 'toyota']\n",
            "['toyota', 'subaru', 'bmw', 'audi']\n"
          ]
        }
      ]
    },
    {
      "cell_type": "code",
      "source": [
        "print(\"Here is the original list:\")\n",
        "print(cars)\n",
        "print(\"\\nHere is the sorted list:\")\n",
        "print(sorted(cars))\n",
        "print(\"\\nHere is the original list again:\")\n",
        "print(cars)"
      ],
      "metadata": {
        "colab": {
          "base_uri": "https://localhost:8080/"
        },
        "id": "-t18v3YOMhjg",
        "outputId": "1d4808ef-8ad6-42e7-8c1e-9365b9342b6a"
      },
      "execution_count": null,
      "outputs": [
        {
          "output_type": "stream",
          "name": "stdout",
          "text": [
            "Here is the original list:\n",
            "['toyota', 'subaru', 'bmw', 'audi']\n",
            "\n",
            "Here is the sorted list:\n",
            "['audi', 'bmw', 'subaru', 'toyota']\n",
            "\n",
            "Here is the original list again:\n",
            "['toyota', 'subaru', 'bmw', 'audi']\n"
          ]
        }
      ]
    },
    {
      "cell_type": "code",
      "source": [
        "cars = ['bmw', 'audi', 'toyota', 'subaru']\n",
        "len(cars)"
      ],
      "metadata": {
        "colab": {
          "base_uri": "https://localhost:8080/"
        },
        "id": "14PCLAWWACpt",
        "outputId": "5550e955-c014-4281-cbaf-577f183858f8"
      },
      "execution_count": null,
      "outputs": [
        {
          "output_type": "execute_result",
          "data": {
            "text/plain": [
              "4"
            ]
          },
          "metadata": {},
          "execution_count": 44
        }
      ]
    },
    {
      "cell_type": "code",
      "source": [
        "# try it yourself 3.8\n",
        "locations = [\"Eiffel Tower\", \"Egyptian Pyramids\", \"Taj Mahal\", \"Great wall of china\", \"Grand Canyon\"]\n",
        "print (locations)\n",
        "print(sorted(locations))\n",
        "print(locations)\n",
        "temp = sorted(locations)\n",
        "temp.reverse()\n",
        "print(temp)\n",
        "temp.reverse()\n",
        "print(temp)\n",
        "locations.sort()\n",
        "print(locations)\n",
        "locations.reverse()\n",
        "print(locations)"
      ],
      "metadata": {
        "colab": {
          "base_uri": "https://localhost:8080/"
        },
        "id": "UAOLpEXnNz1D",
        "outputId": "f75300bd-81f1-46e1-a263-64efeecbb76a"
      },
      "execution_count": null,
      "outputs": [
        {
          "output_type": "stream",
          "name": "stdout",
          "text": [
            "['Eiffel Tower', 'Egyptian Pyramids', 'Taj Mahal', 'Great wall of china', 'Grand Canyon']\n",
            "['Egyptian Pyramids', 'Eiffel Tower', 'Grand Canyon', 'Great wall of china', 'Taj Mahal']\n",
            "['Eiffel Tower', 'Egyptian Pyramids', 'Taj Mahal', 'Great wall of china', 'Grand Canyon']\n",
            "['Taj Mahal', 'Great wall of china', 'Grand Canyon', 'Eiffel Tower', 'Egyptian Pyramids']\n",
            "['Egyptian Pyramids', 'Eiffel Tower', 'Grand Canyon', 'Great wall of china', 'Taj Mahal']\n",
            "['Egyptian Pyramids', 'Eiffel Tower', 'Grand Canyon', 'Great wall of china', 'Taj Mahal']\n",
            "['Taj Mahal', 'Great wall of china', 'Grand Canyon', 'Eiffel Tower', 'Egyptian Pyramids']\n"
          ]
        }
      ]
    },
    {
      "cell_type": "code",
      "source": [
        "#try it yourself 3.10\n",
        "jobs = [\"Software Engineer\", \"Physicist\", \"Electrical Engineer\", \"Computer Scientist\", \"Roboticist\"]\n",
        "jobs.sort()\n",
        "jobs.reverse()\n",
        "print(jobs)\n",
        "del jobs[1]\n",
        "jobs.append(\"Mechanical Engineer\")\n",
        "print(jobs)\n",
        "len(jobs)\n",
        "jobs.sort()\n",
        "print(jobs)"
      ],
      "metadata": {
        "colab": {
          "base_uri": "https://localhost:8080/"
        },
        "id": "7aygnKrjNOr-",
        "outputId": "eb4bb243-0f1a-4211-aaa9-017f763c2272"
      },
      "execution_count": 2,
      "outputs": [
        {
          "output_type": "stream",
          "name": "stdout",
          "text": [
            "['Software Engineer', 'Roboticist', 'Physicist', 'Electrical Engineer', 'Computer Scientist']\n",
            "['Software Engineer', 'Physicist', 'Electrical Engineer', 'Computer Scientist', 'Mechanical Engineer']\n",
            "['Computer Scientist', 'Electrical Engineer', 'Mechanical Engineer', 'Physicist', 'Software Engineer']\n"
          ]
        }
      ]
    }
  ]
}