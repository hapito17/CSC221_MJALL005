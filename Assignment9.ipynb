{
  "nbformat": 4,
  "nbformat_minor": 0,
  "metadata": {
    "colab": {
      "provenance": [],
      "authorship_tag": "ABX9TyORO6vEMJSkdAo7HdFE4emB",
      "include_colab_link": true
    },
    "kernelspec": {
      "name": "python3",
      "display_name": "Python 3"
    },
    "language_info": {
      "name": "python"
    }
  },
  "cells": [
    {
      "cell_type": "markdown",
      "metadata": {
        "id": "view-in-github",
        "colab_type": "text"
      },
      "source": [
        "<a href=\"https://colab.research.google.com/github/hapito17/CSC221_MJALL005/blob/main/Assignment9.ipynb\" target=\"_parent\"><img src=\"https://colab.research.google.com/assets/colab-badge.svg\" alt=\"Open In Colab\"/></a>"
      ]
    },
    {
      "cell_type": "code",
      "execution_count": 1,
      "metadata": {
        "colab": {
          "base_uri": "https://localhost:8080/"
        },
        "id": "8FASDhDBLqZZ",
        "outputId": "25ab6f80-add0-4c52-d16b-5906dd27b834"
      },
      "outputs": [
        {
          "output_type": "stream",
          "name": "stdout",
          "text": [
            "Hello!\n"
          ]
        }
      ],
      "source": [
        "def greet_user():\n",
        " \"\"\"Display a simple greeting.\"\"\"\n",
        " print(\"Hello!\")\n",
        "\n",
        "greet_user()"
      ]
    },
    {
      "cell_type": "code",
      "source": [
        "def greet_user(username):\n",
        " \"\"\"Display a simple greeting.\"\"\"\n",
        " print(\"Hello, \" + username.title() + \"!\")\n",
        "\n",
        "greet_user('jesse')"
      ],
      "metadata": {
        "colab": {
          "base_uri": "https://localhost:8080/"
        },
        "id": "XL-Qj6bpMpP8",
        "outputId": "ce66ae4b-07d3-4367-ce7f-b78fb6c06382"
      },
      "execution_count": 2,
      "outputs": [
        {
          "output_type": "stream",
          "name": "stdout",
          "text": [
            "Hello, Jesse!\n"
          ]
        }
      ]
    },
    {
      "cell_type": "code",
      "source": [
        "#try it yourself 8.1\n",
        "def display_message():\n",
        "  print(\"we are learning chapter 8: Functions\")\n",
        "display_message()"
      ],
      "metadata": {
        "colab": {
          "base_uri": "https://localhost:8080/"
        },
        "id": "gHTzutVnNWqO",
        "outputId": "426165b1-1bcd-4ba9-dcdb-7fd747650f5d"
      },
      "execution_count": 3,
      "outputs": [
        {
          "output_type": "stream",
          "name": "stdout",
          "text": [
            "we are learning chapter 8: Functions\n"
          ]
        }
      ]
    },
    {
      "cell_type": "code",
      "source": [
        "#try it yourself 8.2\n",
        "def favorite_book(title):\n",
        "  print(f\"one of my favorite books is {title}\")\n",
        "favorite_book(\"maze runner\")"
      ],
      "metadata": {
        "colab": {
          "base_uri": "https://localhost:8080/"
        },
        "id": "BL1xxkuEObSb",
        "outputId": "9c3b071b-c0be-408b-f887-9cb1bb4c62b3"
      },
      "execution_count": 4,
      "outputs": [
        {
          "output_type": "stream",
          "name": "stdout",
          "text": [
            "one of my favorite books is maze runner\n"
          ]
        }
      ]
    },
    {
      "cell_type": "code",
      "source": [
        "def describe_pet(animal_type, pet_name):\n",
        " \"\"\"Display information about a pet.\"\"\"\n",
        " print(\"\\nI have a \" + animal_type + \".\")\n",
        " print(\"My \" + animal_type + \"'s name is \" + pet_name.title() + \".\")\n",
        "\n",
        "describe_pet('hamster', 'harry')\n",
        "describe_pet('dog', 'willie')"
      ],
      "metadata": {
        "colab": {
          "base_uri": "https://localhost:8080/"
        },
        "id": "gQ6QiAJzO0MH",
        "outputId": "731cf2b6-5e60-4e0e-a6e6-6e697ae0a8bc"
      },
      "execution_count": 6,
      "outputs": [
        {
          "output_type": "stream",
          "name": "stdout",
          "text": [
            "\n",
            "I have a hamster.\n",
            "My hamster's name is Harry.\n",
            "\n",
            "I have a dog.\n",
            "My dog's name is Willie.\n"
          ]
        }
      ]
    },
    {
      "cell_type": "code",
      "source": [
        "def describe_pet(animal_type, pet_name):\n",
        " \"\"\"Display information about a pet.\"\"\"\n",
        " print(\"\\nI have a \" + animal_type + \".\")\n",
        " print(\"My \" + animal_type + \"'s name is \" + pet_name.title() + \".\")\n",
        "\n",
        "describe_pet(animal_type='hamster', pet_name='harry')\n",
        "describe_pet(pet_name='harry', animal_type='hamster')"
      ],
      "metadata": {
        "colab": {
          "base_uri": "https://localhost:8080/"
        },
        "id": "9D6cHInVPand",
        "outputId": "f51e76cb-184e-4a77-fc0a-626680fca593"
      },
      "execution_count": 8,
      "outputs": [
        {
          "output_type": "stream",
          "name": "stdout",
          "text": [
            "\n",
            "I have a hamster.\n",
            "My hamster's name is Harry.\n",
            "\n",
            "I have a hamster.\n",
            "My hamster's name is Harry.\n"
          ]
        }
      ]
    },
    {
      "cell_type": "code",
      "source": [
        "def describe_pet(pet_name, animal_type='dog'):\n",
        " \"\"\"Display information about a pet.\"\"\"\n",
        " print(\"\\nI have a \" + animal_type + \".\")\n",
        " print(\"My \" + animal_type + \"'s name is \" + pet_name.title() + \".\")\n",
        "describe_pet(pet_name='willie')"
      ],
      "metadata": {
        "colab": {
          "base_uri": "https://localhost:8080/"
        },
        "id": "tkKBoHQOQM0o",
        "outputId": "c9b9766b-e9cd-42ae-9de5-9c5d04f5b425"
      },
      "execution_count": 9,
      "outputs": [
        {
          "output_type": "stream",
          "name": "stdout",
          "text": [
            "\n",
            "I have a dog.\n",
            "My dog's name is Willie.\n"
          ]
        }
      ]
    },
    {
      "cell_type": "code",
      "source": [
        "#try it yourself 8.3\n",
        "def make_shirt(size, text):\n",
        "  print(f\"you asked for a size {size} shirt and you want {text} printed on it\")\n",
        "make_shirt(\"large\", \"focus on your goals\")\n",
        "make_shirt(text=\"believe in yourself\", size=\"small\")"
      ],
      "metadata": {
        "colab": {
          "base_uri": "https://localhost:8080/"
        },
        "id": "kLC74p30SJgK",
        "outputId": "998108b9-6f0d-4961-b0ce-edb6a97203ea"
      },
      "execution_count": 10,
      "outputs": [
        {
          "output_type": "stream",
          "name": "stdout",
          "text": [
            "you asked for a size large shirt and you want focus on your goals printed on it\n",
            "you asked for a size small shirt and you want believe in yourself printed on it\n"
          ]
        }
      ]
    },
    {
      "cell_type": "code",
      "source": [
        "#try it yourself 8.4\n",
        "def make_shirt(size=\"large\", text=\"I love python\"):\n",
        "  print(f\"you asked for a size {size} shirt and you want {text} printed on it\")\n",
        "make_shirt()\n",
        "make_shirt(size=\"medium\")\n",
        "make_shirt(\"extra small\", \"I will grow up one day\")"
      ],
      "metadata": {
        "colab": {
          "base_uri": "https://localhost:8080/"
        },
        "id": "ydEu1Y0_SzLE",
        "outputId": "167487eb-e469-4ad0-936d-05244f8e2095"
      },
      "execution_count": 11,
      "outputs": [
        {
          "output_type": "stream",
          "name": "stdout",
          "text": [
            "you asked for a size large shirt and you want I love python printed on it\n",
            "you asked for a size medium shirt and you want I love python printed on it\n",
            "you asked for a size extra small shirt and you want I will grow up one day printed on it\n"
          ]
        }
      ]
    },
    {
      "cell_type": "code",
      "source": [
        "#try it yourself 8.5\n",
        "def  describe_city(city, country=\"USA\"):\n",
        "  print(f\"{city} is in {country}\")\n",
        "describe_city(\"Seattle\")\n",
        "describe_city(\"Los Angeles\")\n",
        "describe_city(\"Moscow\", \"Russia\")"
      ],
      "metadata": {
        "colab": {
          "base_uri": "https://localhost:8080/"
        },
        "id": "jeX-wVaBUEuu",
        "outputId": "1838a881-6b9d-4164-b407-affa5492bdde"
      },
      "execution_count": 12,
      "outputs": [
        {
          "output_type": "stream",
          "name": "stdout",
          "text": [
            "Seattle is in USA\n",
            "Los Angeles is in USA\n",
            "Moscow is in Russia\n"
          ]
        }
      ]
    },
    {
      "cell_type": "code",
      "source": [
        "def get_formatted_name(first_name, last_name):\n",
        " \"\"\"Return a full name, neatly formatted.\"\"\"\n",
        " full_name = first_name + ' ' + last_name\n",
        " return full_name.title()\n",
        "musician = get_formatted_name('jimi', 'hendrix')\n",
        "print(musician)"
      ],
      "metadata": {
        "colab": {
          "base_uri": "https://localhost:8080/"
        },
        "id": "yDccSARmVFcD",
        "outputId": "78aaa54a-6594-415c-f311-1e7b11d703da"
      },
      "execution_count": 13,
      "outputs": [
        {
          "output_type": "stream",
          "name": "stdout",
          "text": [
            "Jimi Hendrix\n"
          ]
        }
      ]
    },
    {
      "cell_type": "code",
      "source": [
        "def get_formatted_name(first_name, middle_name, last_name):\n",
        " \"\"\"Return a full name, neatly formatted.\"\"\"\n",
        " full_name = first_name + ' ' + middle_name + ' ' + last_name\n",
        " return full_name.title()\n",
        "\n",
        "musician = get_formatted_name('john', 'lee', 'hooker')\n",
        "print(musician)\n"
      ],
      "metadata": {
        "colab": {
          "base_uri": "https://localhost:8080/"
        },
        "id": "AirM2KTNWIQb",
        "outputId": "d37ff833-2c3b-46bb-a597-9f23f8878e69"
      },
      "execution_count": 14,
      "outputs": [
        {
          "output_type": "stream",
          "name": "stdout",
          "text": [
            "John Lee Hooker\n"
          ]
        }
      ]
    },
    {
      "cell_type": "code",
      "source": [
        "def get_formatted_name(first_name, last_name, middle_name=''):\n",
        " \"\"\"Return a full name, neatly formatted.\"\"\"\n",
        " if middle_name:\n",
        "  full_name = first_name + ' ' + middle_name + ' ' + last_name\n",
        " else:\n",
        "  full_name = first_name + ' ' + last_name\n",
        " return full_name.title()\n",
        "musician = get_formatted_name('jimi', 'hendrix')\n",
        "print(musician)\n",
        "musician = get_formatted_name('john', 'hooker', 'lee')\n",
        "print(musician)"
      ],
      "metadata": {
        "colab": {
          "base_uri": "https://localhost:8080/"
        },
        "id": "pzDE0XmMWYNN",
        "outputId": "5bdc36de-f068-4c74-c5c4-da10aa2e9b04"
      },
      "execution_count": 15,
      "outputs": [
        {
          "output_type": "stream",
          "name": "stdout",
          "text": [
            "Jimi Hendrix\n",
            "John Lee Hooker\n"
          ]
        }
      ]
    },
    {
      "cell_type": "code",
      "source": [
        "def build_person(first_name, last_name):\n",
        " \"\"\"Return a dictionary of information about a person.\"\"\"\n",
        " person = {'first': first_name, 'last': last_name}\n",
        " return person\n",
        "musician = build_person('jimi', 'hendrix')\n",
        "print(musician)\n"
      ],
      "metadata": {
        "colab": {
          "base_uri": "https://localhost:8080/"
        },
        "id": "vaEkob1UWe7Z",
        "outputId": "6fa6c4f9-f206-4aa5-863e-ee76861f9759"
      },
      "execution_count": 16,
      "outputs": [
        {
          "output_type": "stream",
          "name": "stdout",
          "text": [
            "{'first': 'jimi', 'last': 'hendrix'}\n"
          ]
        }
      ]
    },
    {
      "cell_type": "code",
      "source": [
        "def build_person(first_name, last_name, age=''):\n",
        " \"\"\"Return a dictionary of information about a person.\"\"\"\n",
        " person = {'first': first_name, 'last': last_name}\n",
        " if age:\n",
        "  person['age'] = age\n",
        " return person\n",
        "musician = build_person('jimi', 'hendrix', age=27)\n",
        "print(musician)\n"
      ],
      "metadata": {
        "colab": {
          "base_uri": "https://localhost:8080/"
        },
        "id": "ILHWLKZhZgzv",
        "outputId": "50130255-be86-4c17-d730-82cb5eb947b9"
      },
      "execution_count": 18,
      "outputs": [
        {
          "output_type": "stream",
          "name": "stdout",
          "text": [
            "{'first': 'jimi', 'last': 'hendrix', 'age': 27}\n"
          ]
        }
      ]
    },
    {
      "cell_type": "code",
      "source": [
        "def get_formatted_name(first_name, last_name):\n",
        "  \"\"\"Return a full name, neatly formatted.\"\"\"\n",
        "  full_name = first_name + ' ' + last_name\n",
        "  return full_name.title()\n",
        "# This is an infinite loop!\n",
        "while True:\n",
        " print(\"\\nPlease tell me your name:\")\n",
        " f_name = input(\"First name: \")\n",
        " l_name = input(\"Last name: \")\n",
        "\n",
        " formatted_name = get_formatted_name(f_name, l_name)\n",
        " print(\"\\nHello, \" + formatted_name + \"!\")\n",
        " break"
      ],
      "metadata": {
        "colab": {
          "base_uri": "https://localhost:8080/"
        },
        "id": "lOwCXAoFZnah",
        "outputId": "e472445d-686d-4c86-f0b8-58350b010640"
      },
      "execution_count": 23,
      "outputs": [
        {
          "output_type": "stream",
          "name": "stdout",
          "text": [
            "\n",
            "Please tell me your name:\n",
            "First name: jack \n",
            "Last name: black\n",
            "\n",
            "Hello, Jack  Black!\n"
          ]
        }
      ]
    },
    {
      "cell_type": "code",
      "source": [
        "#try if yourself 8.6\n",
        "def city_country(city, country):\n",
        "  return(f\"{city}, {country}\")\n",
        "first = city_country(\"Beijing\", \"China\")\n",
        "print(first)\n",
        "second = city_country(\"Cape Town\", \"South Africa\")\n",
        "print(second)\n",
        "third = city_country(\"Brussels\", \"Belgium\")\n",
        "print(third)"
      ],
      "metadata": {
        "colab": {
          "base_uri": "https://localhost:8080/"
        },
        "id": "DvAnle23aNFd",
        "outputId": "d462df2b-9390-48cc-9665-2595986e55e8"
      },
      "execution_count": 24,
      "outputs": [
        {
          "output_type": "stream",
          "name": "stdout",
          "text": [
            "Beijing, China\n",
            "Cape Town, South Africa\n",
            "Brussels, Belgium\n"
          ]
        }
      ]
    },
    {
      "cell_type": "code",
      "source": [
        "#try if yourself 8.7\n",
        "def make_album(artist, album, track=0):\n",
        "  if track == 0:\n",
        "    collection = {\"artist\":artist, \"album\":album}\n",
        "  else: collection = {\"artist\":artist, \"album\":album, \"track\":track}\n",
        "  return collection\n",
        "print(make_album(\"Ava max\", \"Diamonds and dancefloors\"))\n",
        "print(make_album(\"Kanye\", \"Graduation\", 15))"
      ],
      "metadata": {
        "colab": {
          "base_uri": "https://localhost:8080/"
        },
        "id": "YCZc2qp_b6M_",
        "outputId": "d8fd3841-1e2a-4c2b-ffc4-941bc3bb7f26"
      },
      "execution_count": 25,
      "outputs": [
        {
          "output_type": "stream",
          "name": "stdout",
          "text": [
            "{'artist': 'Ava max', 'album': 'Diamonds and dancefloors'}\n",
            "{'artist': 'Kanye', 'album': 'Graduation', 'track': 15}\n"
          ]
        }
      ]
    },
    {
      "cell_type": "code",
      "source": [
        "#try if yourself 8.8\n",
        "def make_album(artist, album, track=0):\n",
        "  if track == 0:\n",
        "    collection = {\"artist\":artist, \"album\":album}\n",
        "  else: collection = {\"artist\":artist, \"album\":album, \"track\":track}\n",
        "  return collection\n",
        "while True:\n",
        "  artist = input(\"enter an artist (q to quit)\")\n",
        "  if not artist == \"q\":\n",
        "    album = input(\"enter an album (q to quit)\")\n",
        "    if not album == \"q\":\n",
        "      print(make_album(artist, album))\n",
        "    else: break\n",
        "  else: break"
      ],
      "metadata": {
        "colab": {
          "base_uri": "https://localhost:8080/"
        },
        "id": "oixr0W7Ndwtn",
        "outputId": "4049a464-d8c9-44ce-da5c-cb764d2de34f"
      },
      "execution_count": 26,
      "outputs": [
        {
          "name": "stdout",
          "output_type": "stream",
          "text": [
            "enter an artist (q to quit)travis scott\n",
            "enter an album (q to quit)astro world\n",
            "{'artist': 'travis scott', 'album': 'astro world'}\n",
            "enter an artist (q to quit)q\n"
          ]
        }
      ]
    },
    {
      "cell_type": "code",
      "source": [
        "def greet_users(names):\n",
        " \"\"\"Print a simple greeting to each user in the list.\"\"\"\n",
        " for name in names:\n",
        "  msg = \"Hello, \" + name.title() + \"!\"\n",
        "  print(msg)\n",
        "usernames = ['hannah', 'ty', 'margot']\n",
        "greet_users(usernames)"
      ],
      "metadata": {
        "colab": {
          "base_uri": "https://localhost:8080/"
        },
        "id": "QB8fiuGpfFSa",
        "outputId": "ca1c12ec-7da8-4a1f-c7aa-b50175ca554d"
      },
      "execution_count": 27,
      "outputs": [
        {
          "output_type": "stream",
          "name": "stdout",
          "text": [
            "Hello, Hannah!\n",
            "Hello, Ty!\n",
            "Hello, Margot!\n"
          ]
        }
      ]
    },
    {
      "cell_type": "code",
      "source": [
        "# Start with some designs that need to be printed.\n",
        "unprinted_designs = ['iphone case', 'robot pendant', 'dodecahedron']\n",
        "completed_models = []\n",
        "# Simulate printing each design, until none are left.\n",
        "# Move each design to completed_models after printing.\n",
        "while unprinted_designs:\n",
        " current_design = unprinted_designs.pop()\n",
        "\n",
        " # Simulate creating a 3D print from the design.\n",
        " print(\"Printing model: \" + current_design)\n",
        " completed_models.append(current_design)\n",
        "\n",
        "# Display all completed models.\n",
        "print(\"\\nThe following models have been printed:\")\n",
        "for completed_model in completed_models:\n",
        " print(completed_model)"
      ],
      "metadata": {
        "colab": {
          "base_uri": "https://localhost:8080/"
        },
        "id": "0rjx9sQLf-rT",
        "outputId": "8c29ff41-811b-4650-c9a4-db81aa1f7272"
      },
      "execution_count": 28,
      "outputs": [
        {
          "output_type": "stream",
          "name": "stdout",
          "text": [
            "Printing model: dodecahedron\n",
            "Printing model: robot pendant\n",
            "Printing model: iphone case\n",
            "\n",
            "The following models have been printed:\n",
            "dodecahedron\n",
            "robot pendant\n",
            "iphone case\n"
          ]
        }
      ]
    },
    {
      "cell_type": "code",
      "source": [
        "def print_models(unprinted_designs, completed_models):\n",
        " \"\"\"\n",
        " Simulate printing each design, until none are left.\n",
        " Move each design to completed_models after printing.\n",
        " \"\"\"\n",
        " while unprinted_designs:\n",
        "  current_design = unprinted_designs.pop()\n",
        "\n",
        "  # Simulate creating a 3D print from the design.\n",
        "  print(\"Printing model: \" + current_design)\n",
        "  completed_models.append(current_design)\n",
        "\n",
        "def show_completed_models(completed_models):\n",
        " \"\"\"Show all the models that were printed.\"\"\"\n",
        " print(\"\\nThe following models have been printed:\")\n",
        " for completed_model in completed_models:\n",
        "  print(completed_model)\n",
        "\n",
        "unprinted_designs = ['iphone case', 'robot pendant', 'dodecahedron']\n",
        "completed_models = []\n",
        "print_models(unprinted_designs, completed_models)\n",
        "show_completed_models(completed_models)"
      ],
      "metadata": {
        "colab": {
          "base_uri": "https://localhost:8080/"
        },
        "id": "m80oqCWvgVDG",
        "outputId": "2d0bff9a-64c8-4e4e-9c1f-1e0412c209b5"
      },
      "execution_count": 29,
      "outputs": [
        {
          "output_type": "stream",
          "name": "stdout",
          "text": [
            "Printing model: dodecahedron\n",
            "Printing model: robot pendant\n",
            "Printing model: iphone case\n",
            "\n",
            "The following models have been printed:\n",
            "dodecahedron\n",
            "robot pendant\n",
            "iphone case\n"
          ]
        }
      ]
    },
    {
      "cell_type": "code",
      "source": [
        "#try it yourself 8.9\n",
        "def show_magicians(magicians):\n",
        "  for magician in magicians:\n",
        "    print(magician)\n",
        "\n",
        "magicians = [\"abracadabra\", \"hocus pocus\", \"expelliarmus\"]\n",
        "show_magicians(magicians)"
      ],
      "metadata": {
        "colab": {
          "base_uri": "https://localhost:8080/"
        },
        "id": "3qTGumUricpS",
        "outputId": "ed7ac4d0-d404-49b8-82f5-ddf98960ea75"
      },
      "execution_count": 32,
      "outputs": [
        {
          "output_type": "stream",
          "name": "stdout",
          "text": [
            "abracadabra\n",
            "hocus pocus\n",
            "expelliarmus\n"
          ]
        }
      ]
    },
    {
      "cell_type": "code",
      "source": [
        "#try it yourself 8.10\n",
        "def show_magicians(magicians):\n",
        "  for magician in magicians:\n",
        "    print(magician)\n",
        "\n",
        "magicians = [\"abracadabra\", \"hocus pocus\", \"expelliarmus\"]\n",
        "def make_great(magicians):\n",
        "  for i in range (len(magicians)):\n",
        "    magicians[i] = f\"great {magicians[i]}\"\n",
        "make_great(magicians)\n",
        "show_magicians(magicians)"
      ],
      "metadata": {
        "colab": {
          "base_uri": "https://localhost:8080/"
        },
        "id": "h0Gwq-GTkIAm",
        "outputId": "7d9323fc-4a72-4f21-f2d9-fa15aa4885ce"
      },
      "execution_count": 34,
      "outputs": [
        {
          "output_type": "stream",
          "name": "stdout",
          "text": [
            "great abracadabra\n",
            "great hocus pocus\n",
            "great expelliarmus\n"
          ]
        }
      ]
    },
    {
      "cell_type": "code",
      "source": [
        "#try it yourself 8.11\n",
        "def show_magicians(magicians):\n",
        "  for magician in magicians:\n",
        "    print(magician)\n",
        "\n",
        "magicians = [\"abracadabra\", \"hocus pocus\", \"expelliarmus\"]\n",
        "def make_great(magicians):\n",
        "  for i in range (len(magicians)):\n",
        "    magicians[i] = f\"great {magicians[i]}\"\n",
        "  return magicians\n",
        "new_list = make_great(magicians[:])\n",
        "show_magicians(magicians)\n",
        "show_magicians(new_list)"
      ],
      "metadata": {
        "colab": {
          "base_uri": "https://localhost:8080/"
        },
        "id": "vUu9_JajlhdU",
        "outputId": "9fb7adbf-c83f-4ae8-c43b-74dda9346ac8"
      },
      "execution_count": 35,
      "outputs": [
        {
          "output_type": "stream",
          "name": "stdout",
          "text": [
            "abracadabra\n",
            "hocus pocus\n",
            "expelliarmus\n",
            "great abracadabra\n",
            "great hocus pocus\n",
            "great expelliarmus\n"
          ]
        }
      ]
    },
    {
      "cell_type": "code",
      "source": [
        "def make_pizza(*toppings):\n",
        " \"\"\"Print the list of toppings that have been requested.\"\"\"\n",
        " print(toppings)\n",
        "\n",
        "make_pizza('pepperoni')\n",
        "make_pizza('mushrooms', 'green peppers', 'extra cheese')"
      ],
      "metadata": {
        "colab": {
          "base_uri": "https://localhost:8080/"
        },
        "id": "mk_UcanPm0a7",
        "outputId": "f9be7a9f-5e96-4d99-8bc8-b9bae754a78c"
      },
      "execution_count": 36,
      "outputs": [
        {
          "output_type": "stream",
          "name": "stdout",
          "text": [
            "('pepperoni',)\n",
            "('mushrooms', 'green peppers', 'extra cheese')\n"
          ]
        }
      ]
    },
    {
      "cell_type": "code",
      "source": [
        "def make_pizza(*toppings):\n",
        " \"\"\"Summarize the pizza we are about to make.\"\"\"\n",
        " print(\"\\nMaking a pizza with the following toppings:\")\n",
        " for topping in toppings:\n",
        "  print(\"- \" + topping)\n",
        "\n",
        "make_pizza('pepperoni')\n",
        "make_pizza('mushrooms', 'green peppers', 'extra cheese')"
      ],
      "metadata": {
        "colab": {
          "base_uri": "https://localhost:8080/"
        },
        "id": "kGQY3tEJnT7X",
        "outputId": "19d28c2a-9ad3-45fe-b241-d5352a5374e6"
      },
      "execution_count": 38,
      "outputs": [
        {
          "output_type": "stream",
          "name": "stdout",
          "text": [
            "\n",
            "Making a pizza with the following toppings:\n",
            "- pepperoni\n",
            "\n",
            "Making a pizza with the following toppings:\n",
            "- mushrooms\n",
            "- green peppers\n",
            "- extra cheese\n"
          ]
        }
      ]
    },
    {
      "cell_type": "code",
      "source": [
        "def make_pizza(size, *toppings):\n",
        " \"\"\"Summarize the pizza we are about to make.\"\"\"\n",
        " print(\"\\nMaking a \" + str(size) +\n",
        " \"-inch pizza with the following toppings:\")\n",
        " for topping in toppings:\n",
        "  print(\"- \" + topping)\n",
        "\n",
        "make_pizza(16, 'pepperoni')\n",
        "make_pizza(12, 'mushrooms', 'green peppers', 'extra cheese')"
      ],
      "metadata": {
        "colab": {
          "base_uri": "https://localhost:8080/"
        },
        "id": "0cG7zcIcobrH",
        "outputId": "97a6e73d-3f97-48dd-9580-f0e2c3996314"
      },
      "execution_count": 40,
      "outputs": [
        {
          "output_type": "stream",
          "name": "stdout",
          "text": [
            "\n",
            "Making a 16-inch pizza with the following toppings:\n",
            "- pepperoni\n",
            "\n",
            "Making a 12-inch pizza with the following toppings:\n",
            "- mushrooms\n",
            "- green peppers\n",
            "- extra cheese\n"
          ]
        }
      ]
    },
    {
      "cell_type": "code",
      "source": [
        "def build_profile(first, last, **user_info):\n",
        " \"\"\"Build a dictionary containing everything we know about a user.\"\"\"\n",
        " profile = {}\n",
        " profile['first_name'] = first\n",
        " profile['last_name'] = last\n",
        " for key, value in user_info.items():\n",
        "  profile[key] = value\n",
        " return profile\n",
        "user_profile = build_profile('albert', 'einstein',\n",
        "                             location='princeton',\n",
        "                             field='physics')\n",
        "print(user_profile)"
      ],
      "metadata": {
        "colab": {
          "base_uri": "https://localhost:8080/"
        },
        "id": "cKUlqpqcTzaH",
        "outputId": "4b9a29ea-5f68-4d2c-844f-6dcf92075938"
      },
      "execution_count": 2,
      "outputs": [
        {
          "output_type": "stream",
          "name": "stdout",
          "text": [
            "{'first_name': 'albert', 'last_name': 'einstein', 'location': 'princeton', 'field': 'physics'}\n"
          ]
        }
      ]
    },
    {
      "cell_type": "code",
      "source": [
        "#try it yourself 8.12\n",
        "def make_sandwich(*ingredients):\n",
        "  print(\"here are the ingredients of your sandwich\")\n",
        "  for i in ingredients:\n",
        "    print(f\"\\n - {i}\")\n",
        "make_sandwich(\"bread\", \"chicken\", \"cheese\", \"lettuce\")\n",
        "make_sandwich(\"bread\", \"peanut butter\", \"jelly\")\n",
        "make_sandwich(\"bread\")"
      ],
      "metadata": {
        "colab": {
          "base_uri": "https://localhost:8080/"
        },
        "id": "csUd10MhVqfP",
        "outputId": "f820580c-4531-4b30-c124-36407e0f6e34"
      },
      "execution_count": 3,
      "outputs": [
        {
          "output_type": "stream",
          "name": "stdout",
          "text": [
            "here are the ingredients of your sandwich\n",
            "\n",
            " - bread\n",
            "\n",
            " - chicken\n",
            "\n",
            " - cheese\n",
            "\n",
            " - lettuce\n",
            "here are the ingredients of your sandwich\n",
            "\n",
            " - bread\n",
            "\n",
            " - peanut butter\n",
            "\n",
            " - jelly\n",
            "here are the ingredients of your sandwich\n",
            "\n",
            " - bread\n"
          ]
        }
      ]
    },
    {
      "cell_type": "code",
      "source": [
        "#try it yourself 8.13\n",
        "build_profile(\"Mohamed\", \"Jalloh\", nationality=\"Sierra leone\", Height=\"6'2\", Weight=\"170\")"
      ],
      "metadata": {
        "colab": {
          "base_uri": "https://localhost:8080/"
        },
        "id": "J6f9KsgtXQQV",
        "outputId": "8708012b-350f-4fd4-8ff0-2deb28d68edd"
      },
      "execution_count": 4,
      "outputs": [
        {
          "output_type": "execute_result",
          "data": {
            "text/plain": [
              "{'first_name': 'Mohamed',\n",
              " 'last_name': 'Jalloh',\n",
              " 'nationality': 'Sierra leone',\n",
              " 'Height': \"6'2\",\n",
              " 'Weight': '170'}"
            ]
          },
          "metadata": {},
          "execution_count": 4
        }
      ]
    },
    {
      "cell_type": "code",
      "source": [
        "#try it yourself 8.14\n",
        "def car_info(manufacturer, model, **extra_info):\n",
        "  car = {}\n",
        "  car[\"manufacturer\"] = manufacturer\n",
        "  car[\"model\"] = model\n",
        "  for key, value in extra_info.items():\n",
        "    car[key] = value\n",
        "  return car\n",
        "car = car_info('subaru', 'outback', color='blue', tow_package=True)\n",
        "print(car)"
      ],
      "metadata": {
        "colab": {
          "base_uri": "https://localhost:8080/"
        },
        "id": "m_LjX_v9YA_u",
        "outputId": "1fb77e90-6ca4-45b1-cd4f-457864b8cc32"
      },
      "execution_count": 7,
      "outputs": [
        {
          "output_type": "stream",
          "name": "stdout",
          "text": [
            "{'manufacturer': 'subaru', 'model': 'outback', 'color': 'blue', 'tow_package': True}\n"
          ]
        }
      ]
    },
    {
      "cell_type": "code",
      "source": [
        "def sum_list(a, b=3.141,verbose=False):\n",
        "  if verbose == True:\n",
        "    list = []\n",
        "    list.append(a)\n",
        "    list.append(b)\n",
        "    list.sort()\n",
        "    print(list)\n",
        "    return a + b\n",
        "  else: print(\"sorry verbose is false\")\n",
        "x = sum_list(5, 7)\n",
        "print(f\"sum = {x}\")\n",
        "x = sum_list(26, verbose=True)\n",
        "print(f\"sum = {x}\")\n",
        "x = sum_list(a=3.141, b=9, verbose=True)\n",
        "print(f\"sum = {x}\")\n",
        "x = sum_list(a=9, b=0, verbose=False)\n",
        "print(f\"sum = {x}\")"
      ],
      "metadata": {
        "colab": {
          "base_uri": "https://localhost:8080/"
        },
        "id": "iRWGi2T9Zh5C",
        "outputId": "9f9f5795-4253-4ab8-ff1b-15c707bb9d5f"
      },
      "execution_count": 32,
      "outputs": [
        {
          "output_type": "stream",
          "name": "stdout",
          "text": [
            "sorry verbose is false\n",
            "sum = None\n",
            "[3.141, 26]\n",
            "sum = 29.141\n",
            "[3.141, 9]\n",
            "sum = 12.141\n",
            "sorry verbose is false\n",
            "sum = None\n"
          ]
        }
      ]
    },
    {
      "cell_type": "code",
      "source": [],
      "metadata": {
        "id": "K1ITtp6QfHS5"
      },
      "execution_count": null,
      "outputs": []
    }
  ]
}