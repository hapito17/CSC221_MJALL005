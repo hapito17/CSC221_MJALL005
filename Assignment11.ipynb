{
  "nbformat": 4,
  "nbformat_minor": 0,
  "metadata": {
    "colab": {
      "provenance": [],
      "authorship_tag": "ABX9TyNr+LosuLvrH1CrB7UEptOy",
      "include_colab_link": true
    },
    "kernelspec": {
      "name": "python3",
      "display_name": "Python 3"
    },
    "language_info": {
      "name": "python"
    }
  },
  "cells": [
    {
      "cell_type": "markdown",
      "metadata": {
        "id": "view-in-github",
        "colab_type": "text"
      },
      "source": [
        "<a href=\"https://colab.research.google.com/github/hapito17/CSC221_MJALL005/blob/main/Assignment11.ipynb\" target=\"_parent\"><img src=\"https://colab.research.google.com/assets/colab-badge.svg\" alt=\"Open In Colab\"/></a>"
      ]
    },
    {
      "cell_type": "code",
      "execution_count": 1,
      "metadata": {
        "id": "fTsL6hv7od8W"
      },
      "outputs": [],
      "source": [
        "class Dog():\n",
        " \"\"\"A simple attempt to model a dog.\"\"\"\n",
        "\n",
        " def __init__(self, name, age):\n",
        "  \"\"\"Initialize name and age attributes.\"\"\"\n",
        "  self.name = name\n",
        "  self.age = age\n",
        "\n",
        " def sit(self):\n",
        "  \"\"\"Simulate a dog sitting in response to a command.\"\"\"\n",
        "  print(self.name.title() + \" is now sitting.\")\n",
        " def roll_over(self):\n",
        "  \"\"\"Simulate rolling over in response to a command.\"\"\"\n",
        "  print(self.name.title() + \" rolled over!\")\n"
      ]
    },
    {
      "cell_type": "code",
      "source": [
        "my_dog = Dog('willie', 6)\n",
        "print(\"My dog's name is \" + my_dog.name.title() + \".\")\n",
        "print(\"My dog is \" + str(my_dog.age) + \" years old.\")\n",
        "my_dog.sit()\n",
        "my_dog.roll_over()"
      ],
      "metadata": {
        "colab": {
          "base_uri": "https://localhost:8080/"
        },
        "id": "rREtRnQ8rirv",
        "outputId": "818b522f-4fec-4b14-cbfa-8af40e882fac"
      },
      "execution_count": 2,
      "outputs": [
        {
          "output_type": "stream",
          "name": "stdout",
          "text": [
            "My dog's name is Willie.\n",
            "My dog is 6 years old.\n",
            "Willie is now sitting.\n",
            "Willie rolled over!\n"
          ]
        }
      ]
    },
    {
      "cell_type": "code",
      "source": [
        "my_dog = Dog('willie', 6)\n",
        "your_dog = Dog('lucy', 3)\n",
        "print(\"My dog's name is \" + my_dog.name.title() + \".\")\n",
        "print(\"My dog is \" + str(my_dog.age) + \" years old.\")\n",
        "my_dog.sit()\n",
        "print(\"\\nYour dog's name is \" + your_dog.name.title() + \".\")\n",
        "print(\"Your dog is \" + str(your_dog.age) + \" years old.\")\n",
        "your_dog.sit()"
      ],
      "metadata": {
        "colab": {
          "base_uri": "https://localhost:8080/"
        },
        "id": "vLRBCkAk2tNT",
        "outputId": "97b9965a-3f55-4c10-931e-0459e774a63f"
      },
      "execution_count": 3,
      "outputs": [
        {
          "output_type": "stream",
          "name": "stdout",
          "text": [
            "My dog's name is Willie.\n",
            "My dog is 6 years old.\n",
            "Willie is now sitting.\n",
            "\n",
            "Your dog's name is Lucy.\n",
            "Your dog is 3 years old.\n",
            "Lucy is now sitting.\n"
          ]
        }
      ]
    },
    {
      "cell_type": "code",
      "source": [
        "#try it yourself 9.1\n",
        "class Restaurant():\n",
        "  def __init__(self, restaurant_name, cuisine_type):\n",
        "    self.name = restaurant_name\n",
        "    self.cuisine = cuisine_type\n",
        "  def open_restaurant(self):\n",
        "    print(\"this is a top of the line seafood based establishment and we are now open for business baby.\")\n",
        "  def describe_restaurant(self):\n",
        "    print(f\"welcome to the {self.name}\")\n",
        "    print(f\"have a look at our wide range of {self.cuisine} cuisine\")\n",
        "restaurant = Restaurant(\"cfood\", \"seafood\")\n",
        "print(restaurant.name.title())\n",
        "print(restaurant.cuisine.title())\n",
        "restaurant.describe_restaurant()\n",
        "restaurant.open_restaurant()"
      ],
      "metadata": {
        "colab": {
          "base_uri": "https://localhost:8080/"
        },
        "id": "O0kzVdGX3Y3g",
        "outputId": "0c783a43-7df5-4505-e0b5-a069bc24f4fc"
      },
      "execution_count": 4,
      "outputs": [
        {
          "output_type": "stream",
          "name": "stdout",
          "text": [
            "Cfood\n",
            "Seafood\n",
            "welcome to the cfood\n",
            "have a look at our wide range of seafood cuisine\n",
            "this is a top of the line seafood based establishment and we are now open for business baby.\n"
          ]
        }
      ]
    },
    {
      "cell_type": "code",
      "source": [
        "#try it yourself 9.2\n",
        "class Restaurant():\n",
        "  def __init__(self, restaurant_name, cuisine_type):\n",
        "    self.name = restaurant_name\n",
        "    self.cuisine = cuisine_type\n",
        "  def restaurant(self):\n",
        "    print(self.name)\n",
        "    print(self.cuisine)\n",
        "    self.open_restaurant()\n",
        "    self.describe_restaurant()\n",
        "  def open_restaurant(self):\n",
        "    print(\"this is a top of the line seafood based establishment and we are now open for business baby.\")\n",
        "  def describe_restaurant(self):\n",
        "    print(f\"welcome to the {self.name}\")\n",
        "    print(f\"have a look at our wide range of {self.cuisine} cuisine\")\n",
        "Restaurant(\"lobster_deluge\", \"lobsters\").describe_restaurant()\n",
        "Restaurant(\"crab_deluge\", \"crab\").describe_restaurant()\n",
        "Restaurant(\"shrimp_deluge\", \"shrimp\").describe_restaurant()\n"
      ],
      "metadata": {
        "colab": {
          "base_uri": "https://localhost:8080/"
        },
        "id": "Jc8bRP_K8A-5",
        "outputId": "8c9208ea-c160-4c1d-dabb-6c6a1adf5d6a"
      },
      "execution_count": 5,
      "outputs": [
        {
          "output_type": "stream",
          "name": "stdout",
          "text": [
            "welcome to the lobster_deluge\n",
            "have a look at our wide range of lobsters cuisine\n",
            "welcome to the crab_deluge\n",
            "have a look at our wide range of crab cuisine\n",
            "welcome to the shrimp_deluge\n",
            "have a look at our wide range of shrimp cuisine\n"
          ]
        }
      ]
    },
    {
      "cell_type": "code",
      "source": [
        "#try it yourself 9.3\n",
        "class User():\n",
        "  def __init__(self, first_name, last_name, email, password, nickname):\n",
        "    self.first_name = first_name\n",
        "    self.last_name = last_name\n",
        "    self.email = email\n",
        "    self.password = password\n",
        "    self.nickname = nickname\n",
        "  def describe_user(self):\n",
        "    print(f\"full name = {self.first_name} {self.last_name} \\nemail = {self.email} \\npassword = {self.password} \\nnickname = {self.nickname}\")\n",
        "  def greet_user(self):\n",
        "    print(f\"yo what's up {self.nickname}, we're so glad to see you again\")\n",
        "\n",
        "User(\"John\", \"jones\", \"johnjones@gmail.com\", \"jjjjjjjjjjjj\", \"jonnyboy1\").describe_user()\n",
        "User(\"John\", \"jones\", \"johnjones@gmail.com\", \"jjjjjjjjjjjj\", \"jonnyboy1\").greet_user()\n",
        "print(\"\\n\")\n",
        "User(\"jack\", \"jones\", \"jackjones@gmail.com\", \"jjjjjjjjjjjj\", \"jonnyboy2\").describe_user()\n",
        "User(\"jack\", \"jones\", \"jackjones@gmail.com\", \"jjjjjjjjjjjj\", \"jonnyboy2\").greet_user()\n",
        "print(\"\\n\")\n",
        "User(\"james\", \"jones\", \"jamesjones@gmail.com\", \"jjjjjjjjjjjj\", \"jonnyboy3\").describe_user()\n",
        "User(\"james\", \"jones\", \"jamesjones@gmail.com\", \"jjjjjjjjjjjj\", \"jonnyboy3\").greet_user()"
      ],
      "metadata": {
        "colab": {
          "base_uri": "https://localhost:8080/"
        },
        "id": "CAaOw2JxMDzY",
        "outputId": "0795bda9-39be-4d88-9098-4368cd4b3d00"
      },
      "execution_count": 6,
      "outputs": [
        {
          "output_type": "stream",
          "name": "stdout",
          "text": [
            "full name = John jones \n",
            "email = johnjones@gmail.com \n",
            "password = jjjjjjjjjjjj \n",
            "nickname = jonnyboy1\n",
            "yo what's up jonnyboy1, we're so glad to see you again\n",
            "\n",
            "\n",
            "full name = jack jones \n",
            "email = jackjones@gmail.com \n",
            "password = jjjjjjjjjjjj \n",
            "nickname = jonnyboy2\n",
            "yo what's up jonnyboy2, we're so glad to see you again\n",
            "\n",
            "\n",
            "full name = james jones \n",
            "email = jamesjones@gmail.com \n",
            "password = jjjjjjjjjjjj \n",
            "nickname = jonnyboy3\n",
            "yo what's up jonnyboy3, we're so glad to see you again\n"
          ]
        }
      ]
    },
    {
      "cell_type": "code",
      "source": [
        "class Car():\n",
        " \"\"\"A simple attempt to represent a car.\"\"\"\n",
        " def __init__(self, make, model, year):\n",
        "  \"\"\"Initialize attributes to describe a car.\"\"\"\n",
        "  self.make = make\n",
        "  self.model = model\n",
        "  self.year = year\n",
        "\n",
        " def get_descriptive_name(self):\n",
        "  \"\"\"Return a neatly formatted descriptive name.\"\"\"\n",
        "  long_name = str(self.year) + ' ' + self.make + ' ' + self.model\n",
        "  return long_name.title()\n",
        "\n",
        "my_new_car = Car('audi', 'a4', 2016)\n",
        "print(my_new_car.get_descriptive_name())"
      ],
      "metadata": {
        "colab": {
          "base_uri": "https://localhost:8080/"
        },
        "id": "vqZqtJBoR8QX",
        "outputId": "b98fc882-ee3a-45c5-c799-3156d6c81a95"
      },
      "execution_count": 7,
      "outputs": [
        {
          "output_type": "stream",
          "name": "stdout",
          "text": [
            "2016 Audi A4\n"
          ]
        }
      ]
    },
    {
      "cell_type": "code",
      "source": [
        "class Car():\n",
        " \"\"\"A simple attempt to represent a car.\"\"\"\n",
        " def __init__(self, make, model, year):\n",
        "  \"\"\"Initialize attributes to describe a car.\"\"\"\n",
        "  self.make = make\n",
        "  self.model = model\n",
        "  self.year = year\n",
        "  self.odometer_reading = 0\n",
        "\n",
        " def get_descriptive_name(self):\n",
        "  \"\"\"Return a neatly formatted descriptive name.\"\"\"\n",
        "  long_name = str(self.year) + ' ' + self.make + ' ' + self.model\n",
        "  return long_name.title()\n",
        "\n",
        " def read_odometer(self):\n",
        "  \"\"\"Print a statement showing the car's mileage.\"\"\"\n",
        "  print(\"This car has \" + str(self.odometer_reading) + \" miles on it.\")\n",
        "\n",
        "my_new_car = Car('audi', 'a4', 2016)\n",
        "print(my_new_car.get_descriptive_name())\n",
        "my_new_car.read_odometer()"
      ],
      "metadata": {
        "colab": {
          "base_uri": "https://localhost:8080/"
        },
        "id": "LHPGeK21T_tx",
        "outputId": "ae952f67-5157-4f7a-f98c-7b3afa8b9c91"
      },
      "execution_count": 8,
      "outputs": [
        {
          "output_type": "stream",
          "name": "stdout",
          "text": [
            "2016 Audi A4\n",
            "This car has 0 miles on it.\n"
          ]
        }
      ]
    },
    {
      "cell_type": "code",
      "source": [
        "class Car():\n",
        " \"\"\"A simple attempt to represent a car.\"\"\"\n",
        " def __init__(self, make, model, year):\n",
        "  \"\"\"Initialize attributes to describe a car.\"\"\"\n",
        "  self.make = make\n",
        "  self.model = model\n",
        "  self.year = year\n",
        "  self.odometer_reading = 0\n",
        "\n",
        " def get_descriptive_name(self):\n",
        "  \"\"\"Return a neatly formatted descriptive name.\"\"\"\n",
        "  long_name = str(self.year) + ' ' + self.make + ' ' + self.model\n",
        "  return long_name.title()\n",
        "\n",
        " def read_odometer(self):\n",
        "  \"\"\"Print a statement showing the car's mileage.\"\"\"\n",
        "  print(\"This car has \" + str(self.odometer_reading) + \" miles on it.\")\n",
        "my_new_car.odometer_reading = 23\n",
        "my_new_car.read_odometer()"
      ],
      "metadata": {
        "colab": {
          "base_uri": "https://localhost:8080/"
        },
        "id": "ZMMrX6wdoGgU",
        "outputId": "778fde7c-13e1-4713-b55c-45ebc0b72b88"
      },
      "execution_count": 9,
      "outputs": [
        {
          "output_type": "stream",
          "name": "stdout",
          "text": [
            "This car has 23 miles on it.\n"
          ]
        }
      ]
    },
    {
      "cell_type": "code",
      "source": [
        "class Car():\n",
        " \"\"\"A simple attempt to represent a car.\"\"\"\n",
        " def __init__(self, make, model, year):\n",
        "  \"\"\"Initialize attributes to describe a car.\"\"\"\n",
        "  self.make = make\n",
        "  self.model = model\n",
        "  self.year = year\n",
        "  self.odometer_reading = 0\n",
        "\n",
        " def get_descriptive_name(self):\n",
        "  \"\"\"Return a neatly formatted descriptive name.\"\"\"\n",
        "  long_name = str(self.year) + ' ' + self.make + ' ' + self.model\n",
        "  return long_name.title()\n",
        "\n",
        " def read_odometer(self):\n",
        "  \"\"\"Print a statement showing the car's mileage.\"\"\"\n",
        "  print(\"This car has \" + str(self.odometer_reading) + \" miles on it.\")\n",
        " def update_odometer(self, mileage):\n",
        "  \"\"\"Set the odometer reading to the given value.\"\"\"\n",
        "  if mileage >= self.odometer_reading:\n",
        "    self.odometer_reading = mileage\n",
        "  else:\n",
        "    print(\"You can't roll back an odometer!\")\n",
        "my_new_car = Car('audi', 'a4', 2016)\n",
        "print(my_new_car.get_descriptive_name())\n",
        "my_new_car.update_odometer(23)\n",
        "my_new_car.read_odometer()"
      ],
      "metadata": {
        "colab": {
          "base_uri": "https://localhost:8080/"
        },
        "id": "Yf5TCoaEoZgW",
        "outputId": "019df019-a24a-44f6-ce79-0321f7e11345"
      },
      "execution_count": 10,
      "outputs": [
        {
          "output_type": "stream",
          "name": "stdout",
          "text": [
            "2016 Audi A4\n",
            "This car has 23 miles on it.\n"
          ]
        }
      ]
    },
    {
      "cell_type": "code",
      "source": [
        "class Car():\n",
        " \"\"\"A simple attempt to represent a car.\"\"\"\n",
        " def __init__(self, make, model, year):\n",
        "  \"\"\"Initialize attributes to describe a car.\"\"\"\n",
        "  self.make = make\n",
        "  self.model = model\n",
        "  self.year = year\n",
        "  self.odometer_reading = 0\n",
        "\n",
        " def get_descriptive_name(self):\n",
        "  \"\"\"Return a neatly formatted descriptive name.\"\"\"\n",
        "  long_name = str(self.year) + ' ' + self.make + ' ' + self.model\n",
        "  return long_name.title()\n",
        "\n",
        " def read_odometer(self):\n",
        "  \"\"\"Print a statement showing the car's mileage.\"\"\"\n",
        "  print(\"This car has \" + str(self.odometer_reading) + \" miles on it.\")\n",
        " def update_odometer(self, mileage):\n",
        "  \"\"\"Set the odometer reading to the given value.\"\"\"\n",
        "  if mileage >= self.odometer_reading:\n",
        "    self.odometer_reading = mileage\n",
        "  else:\n",
        "    print(\"You can't roll back an odometer!\")\n",
        " def increment_odometer(self, miles):\n",
        "  \"\"\"Add the given amount to the odometer reading.\"\"\"\n",
        "  self.odometer_reading += miles\n",
        "\n",
        "my_used_car = Car('subaru', 'outback', 2013)\n",
        "print(my_used_car.get_descriptive_name())\n",
        "my_used_car.update_odometer(23500)\n",
        "my_used_car.read_odometer()\n",
        "my_used_car.increment_odometer(100)\n",
        "my_used_car.read_odometer()"
      ],
      "metadata": {
        "colab": {
          "base_uri": "https://localhost:8080/"
        },
        "id": "QfEB4ogDpgHX",
        "outputId": "92bdd072-a470-4cac-8586-2fcb1080302d"
      },
      "execution_count": 11,
      "outputs": [
        {
          "output_type": "stream",
          "name": "stdout",
          "text": [
            "2013 Subaru Outback\n",
            "This car has 23500 miles on it.\n",
            "This car has 23600 miles on it.\n"
          ]
        }
      ]
    },
    {
      "cell_type": "code",
      "source": [
        "#try it yourself 9.4\n",
        "class Restaurant():\n",
        "  def __init__(self, restaurant_name, cuisine_type):\n",
        "    self.name = restaurant_name\n",
        "    self.cuisine = cuisine_type\n",
        "    self.number_served = 0\n",
        "  def open_restaurant(self):\n",
        "    print(\"this is a top of the line seafood based establishment and we are now open for business baby.\")\n",
        "  def describe_restaurant(self):\n",
        "    print(f\"welcome to the {self.name}\")\n",
        "    print(f\"have a look at our wide range of {self.cuisine} cuisine\")\n",
        "  def set_number_served(self, num):\n",
        "    self.number_served = num\n",
        "  def increment_number_served(self, increase):\n",
        "    self.number_served += increase\n",
        "restaurant = Restaurant(\"cfood\", \"seafood\")\n",
        "print(restaurant.number_served)\n",
        "restaurant.number_served = 15\n",
        "print(restaurant.number_served)\n",
        "restaurant.set_number_served(25)\n",
        "print(restaurant.number_served)\n",
        "restaurant.increment_number_served(15)\n",
        "print(restaurant.number_served)"
      ],
      "metadata": {
        "colab": {
          "base_uri": "https://localhost:8080/"
        },
        "id": "ozl8-n3krIOZ",
        "outputId": "e37c13ac-dd1e-476f-ebd6-ad2dd17ea304"
      },
      "execution_count": 12,
      "outputs": [
        {
          "output_type": "stream",
          "name": "stdout",
          "text": [
            "0\n",
            "15\n",
            "25\n",
            "40\n"
          ]
        }
      ]
    },
    {
      "cell_type": "code",
      "source": [
        "#try it yourself 9.5\n",
        "class User():\n",
        "  def __init__(self, first_name, last_name, email, password, nickname):\n",
        "    self.first_name = first_name\n",
        "    self.last_name = last_name\n",
        "    self.email = email\n",
        "    self.password = password\n",
        "    self.nickname = nickname\n",
        "    self.login_attempts = 0\n",
        "  def describe_user(self):\n",
        "    print(f\"full name = {self.first_name} {self.last_name} \\nemail = {self.email} \\npassword = {self.password} \\nnickname = {self.nickname}\")\n",
        "  def greet_user(self):\n",
        "    print(f\"yo what's up {self.nickname}, we're so glad to see you again\")\n",
        "  def increment_login_attempts(self):\n",
        "    self.login_attempts += 1\n",
        "  def reset_login_attempts(self):\n",
        "    self.login_attempts = 0\n",
        "user1 = User(\"John\", \"jones\", \"johnjones@gmail.com\", \"jjjjjjjjjjjj\", \"jonnyboy1\")\n",
        "user1.increment_login_attempts()\n",
        "user1.increment_login_attempts()\n",
        "user1.increment_login_attempts()\n",
        "print(user1.login_attempts)\n",
        "user1.reset_login_attempts()\n",
        "print(user1.login_attempts)\n"
      ],
      "metadata": {
        "colab": {
          "base_uri": "https://localhost:8080/"
        },
        "id": "fDXR5JO4s1la",
        "outputId": "3659003a-7e4a-4308-aaee-a0c12212b1d1"
      },
      "execution_count": 13,
      "outputs": [
        {
          "output_type": "stream",
          "name": "stdout",
          "text": [
            "3\n",
            "0\n"
          ]
        }
      ]
    },
    {
      "cell_type": "code",
      "source": [
        "class Car():\n",
        " \"\"\"A simple attempt to represent a car.\"\"\"\n",
        " def __init__(self, make, model, year):\n",
        "  self.make = make\n",
        "  self.model = model\n",
        "  self.year = year\n",
        "  self.odometer_reading = 0\n",
        "\n",
        " def get_descriptive_name(self):\n",
        "  long_name = str(self.year) + ' ' + self.make + ' ' + self.model\n",
        "  return long_name.title()\n",
        "\n",
        " def read_odometer(self):\n",
        "  print(\"This car has \" + str(self.odometer_reading) + \" miles on it.\")\n",
        "\n",
        " def update_odometer(self, mileage):\n",
        "  if mileage >= self.odometer_reading:\n",
        "   self.odometer_reading = mileage\n",
        "  else:\n",
        "   print(\"You can't roll back an odometer!\")\n",
        "\n",
        " def increment_odometer(self, miles):\n",
        "  self.odometer_reading += miles\n",
        "\n",
        "class ElectricCar(Car):\n",
        " \"\"\"Represent aspects of a car, specific to electric vehicles.\"\"\"\n",
        " def __init__(self, make, model, year):\n",
        "  \"\"\"\n",
        "  Initialize attributes of the parent class. Then initialize attributes specific to an electric car.\n",
        "  \"\"\"\n",
        "  super().__init__(make, model, year)\n",
        "  self.battery_size = 70\n",
        "\n",
        " def describe_battery(self):\n",
        "   \"\"\"Print a statement describing the battery size.\"\"\"\n",
        "   print(\"This car has a \" + str(self.battery_size) + \"-kWh battery.\")\n",
        " def fill_gas_tank():\n",
        "  \"\"\"Electric cars don't have gas tanks.\"\"\"\n",
        "  print(\"This car doesn't need a gas tank!\")\n",
        "my_tesla = ElectricCar('tesla', 'model s', 2016)\n",
        "print(my_tesla.get_descriptive_name())\n",
        "my_tesla.describe_battery()"
      ],
      "metadata": {
        "colab": {
          "base_uri": "https://localhost:8080/"
        },
        "id": "79hRvukzumjo",
        "outputId": "59ae1429-1bde-47ba-e541-d5c2d2257911"
      },
      "execution_count": 14,
      "outputs": [
        {
          "output_type": "stream",
          "name": "stdout",
          "text": [
            "2016 Tesla Model S\n",
            "This car has a 70-kWh battery.\n"
          ]
        }
      ]
    },
    {
      "cell_type": "code",
      "source": [
        "class Battery():\n",
        " \"\"\"A simple attempt to model a battery for an electric car.\"\"\"\n",
        "\n",
        " def __init__(self, battery_size=70):\n",
        "  \"\"\"Initialize the battery's attributes.\"\"\"\n",
        "  self.battery_size = battery_size\n",
        " def describe_battery(self):\n",
        "  \"\"\"Print a statement describing the battery size.\"\"\"\n",
        "  print(\"This car has a \" + str(self.battery_size) + \"-kWh battery.\")\n",
        " def get_range(self):\n",
        "  \"\"\"Print a statement about the range this battery provides.\"\"\"\n",
        "  if self.battery_size == 70:\n",
        "   range = 240\n",
        "  elif self.battery_size == 85:\n",
        "   range = 270\n",
        "\n",
        "  message = \"This car can go approximately \" + str(range)\n",
        "  message += \" miles on a full charge.\"\n",
        "  print(message)\n",
        "class ElectricCar(Car):\n",
        " \"\"\"Represent aspects of a car, specific to electric vehicles.\"\"\"\n",
        " def __init__(self, make, model, year):\n",
        "  \"\"\"\n",
        "  Initialize attributes of the parent class.\n",
        "  Then initialize attributes specific to an electric car.\n",
        "  \"\"\"\n",
        "  super().__init__(make, model, year)\n",
        "  self.battery = Battery(85)\n",
        "\n",
        "my_tesla = ElectricCar('tesla', 'model s', 2016)\n",
        "print(my_tesla.get_descriptive_name())\n",
        "my_tesla.battery.describe_battery()\n",
        "my_tesla.battery.get_range()"
      ],
      "metadata": {
        "colab": {
          "base_uri": "https://localhost:8080/"
        },
        "id": "KeQuN0Dzyu7J",
        "outputId": "5bb0709d-4e25-4fb0-913a-e56783e8ee5a"
      },
      "execution_count": 15,
      "outputs": [
        {
          "output_type": "stream",
          "name": "stdout",
          "text": [
            "2016 Tesla Model S\n",
            "This car has a 85-kWh battery.\n",
            "This car can go approximately 270 miles on a full charge.\n"
          ]
        }
      ]
    },
    {
      "cell_type": "code",
      "source": [
        "#try it yourself 9.6 (inherits from 9.4)\n",
        "class IceCreamStand(Restaurant):\n",
        "  def __init__(self, restaurant_name, cuisine_type, *flavors):\n",
        "    super().__init__(restaurant_name, cuisine_type)\n",
        "    self.restaurant_name = restaurant_name\n",
        "    self.flavors = flavors\n",
        "  def display(self):\n",
        "    print(f\"the flavors offerd at {self.restaurant_name} are:\")\n",
        "    for i in self.flavors:\n",
        "      print(\"-\" + i)\n",
        "Icecream = IceCreamStand(\"The ice cream shack\", \"Dairy\", \"Strawberry\", \"Chocolate\", \"Vanilla\")\n",
        "Icecream.open_restaurant()\n",
        "Icecream.describe_restaurant()\n",
        "Icecream.display()\n"
      ],
      "metadata": {
        "colab": {
          "base_uri": "https://localhost:8080/"
        },
        "id": "89G_LoI15FUG",
        "outputId": "9a88dbff-1c82-47c1-fa38-0e8bb4bd136f"
      },
      "execution_count": 16,
      "outputs": [
        {
          "output_type": "stream",
          "name": "stdout",
          "text": [
            "this is a top of the line seafood based establishment and we are now open for business baby.\n",
            "welcome to the The ice cream shack\n",
            "have a look at our wide range of Dairy cuisine\n",
            "the flavors offerd at The ice cream shack are:\n",
            "-Strawberry\n",
            "-Chocolate\n",
            "-Vanilla\n"
          ]
        }
      ]
    },
    {
      "cell_type": "code",
      "source": [
        "#try it yourself 9.7 (inherits from 9.5)\n",
        "class Admin(User):\n",
        "  def __init__(self, first_name, last_name, email, password, nickname, *privileges):\n",
        "    super().__init__(first_name, last_name, email, password, nickname)\n",
        "    self.privileges = privileges\n",
        "  def show_privileges(self):\n",
        "    if self.privileges:\n",
        "      for i in self.privileges:\n",
        "        print(f\"one of the privileges you have is {i}\")\n",
        "    else: print(\"no privileges\")\n",
        "\n",
        "Administrator = Admin(\"John\", \"jones\", \"johnjones@gmail.com\", \"jjjjjjjjjjjj\", \"jonnyboy1\", \"'can edit'\", \"'can ban'\", \"'can post'\")\n",
        "Administrator.show_privileges()"
      ],
      "metadata": {
        "colab": {
          "base_uri": "https://localhost:8080/"
        },
        "id": "u1PdeSmu_TjD",
        "outputId": "7ab74d57-8c06-434a-d5fc-60d67f0eca62"
      },
      "execution_count": 23,
      "outputs": [
        {
          "output_type": "stream",
          "name": "stdout",
          "text": [
            "one of the privileges you have is 'can edit'\n",
            "one of the privileges you have is 'can ban'\n",
            "one of the privileges you have is 'can post'\n"
          ]
        }
      ]
    }
  ]
}