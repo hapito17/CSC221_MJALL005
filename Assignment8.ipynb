{
  "nbformat": 4,
  "nbformat_minor": 0,
  "metadata": {
    "colab": {
      "provenance": [],
      "authorship_tag": "ABX9TyP2LvOd8ZKWePFOAO5XTY+8",
      "include_colab_link": true
    },
    "kernelspec": {
      "name": "python3",
      "display_name": "Python 3"
    },
    "language_info": {
      "name": "python"
    }
  },
  "cells": [
    {
      "cell_type": "markdown",
      "metadata": {
        "id": "view-in-github",
        "colab_type": "text"
      },
      "source": [
        "<a href=\"https://colab.research.google.com/github/hapito17/CSC221_MJALL005/blob/main/Assignment8.ipynb\" target=\"_parent\"><img src=\"https://colab.research.google.com/assets/colab-badge.svg\" alt=\"Open In Colab\"/></a>"
      ]
    },
    {
      "cell_type": "code",
      "execution_count": null,
      "metadata": {
        "colab": {
          "base_uri": "https://localhost:8080/"
        },
        "id": "LPANB2ek4u5Z",
        "outputId": "f9e2165d-2c2c-42f9-85ef-45835b29515d"
      },
      "outputs": [
        {
          "output_type": "stream",
          "name": "stdout",
          "text": [
            "Tell me something, and I will repeat it back to you: python sucks\n",
            "python sucks\n"
          ]
        }
      ],
      "source": [
        "message = input(\"Tell me something, and I will repeat it back to you: \")\n",
        "print(message)"
      ]
    },
    {
      "cell_type": "code",
      "source": [
        "name = input(\"Please enter your name: \")\n",
        "print(\"Hello, \" + name + \"!\")"
      ],
      "metadata": {
        "colab": {
          "base_uri": "https://localhost:8080/"
        },
        "id": "7R_jxz8PGTRa",
        "outputId": "a6b3e689-5bed-417b-98a0-19c8a3839107"
      },
      "execution_count": null,
      "outputs": [
        {
          "output_type": "stream",
          "name": "stdout",
          "text": [
            "Please enter your name: yes\n",
            "Hello, yes!\n"
          ]
        }
      ]
    },
    {
      "cell_type": "code",
      "source": [
        "prompt = \"If you tell us who you are, we can personalize the messages you see.\"\n",
        "prompt += \"\\nWhat is your first name? \"\n",
        "name = input(prompt)\n",
        "print(\"\\nHello, \" + name + \"!\")"
      ],
      "metadata": {
        "colab": {
          "base_uri": "https://localhost:8080/"
        },
        "id": "HNrcdyhLT6c3",
        "outputId": "75ffc5c4-e5c3-4214-dd14-9f475382700a"
      },
      "execution_count": null,
      "outputs": [
        {
          "output_type": "stream",
          "name": "stdout",
          "text": [
            "If you tell us who you are, we can personalize the messages you see.\n",
            "What is your first name? nope\n",
            "\n",
            "Hello, nope!\n"
          ]
        }
      ]
    },
    {
      "cell_type": "code",
      "source": [
        "age = input(\"How old are you? \")\n",
        "age"
      ],
      "metadata": {
        "colab": {
          "base_uri": "https://localhost:8080/",
          "height": 53
        },
        "id": "jyol4-cCXTvJ",
        "outputId": "3b07f969-7593-4fcd-b05b-592eb517ea27"
      },
      "execution_count": null,
      "outputs": [
        {
          "name": "stdout",
          "output_type": "stream",
          "text": [
            "How old are you? 999\n"
          ]
        },
        {
          "output_type": "execute_result",
          "data": {
            "text/plain": [
              "'999'"
            ],
            "application/vnd.google.colaboratory.intrinsic+json": {
              "type": "string"
            }
          },
          "metadata": {},
          "execution_count": 2
        }
      ]
    },
    {
      "cell_type": "code",
      "source": [
        "height = input(\"How tall are you, in inches? \")\n",
        "height = int(height)\n",
        "if height >= 36:\n",
        " print(\"\\nYou're tall enough to ride!\")\n",
        "else:\n",
        " print(\"\\nYou'll be able to ride when you're a little older.\")"
      ],
      "metadata": {
        "colab": {
          "base_uri": "https://localhost:8080/"
        },
        "id": "NMnATipFXgYx",
        "outputId": "dfd06f72-65ec-46b3-969b-87bfb929ab88"
      },
      "execution_count": null,
      "outputs": [
        {
          "output_type": "stream",
          "name": "stdout",
          "text": [
            "How tall are you, in inches? 55\n",
            "\n",
            "You're tall enough to ride!\n"
          ]
        }
      ]
    },
    {
      "cell_type": "code",
      "source": [
        "number = input(\"Enter a number, and I'll tell you if it's even or odd: \")\n",
        "number = int(number)\n",
        "if number % 2 == 0:\n",
        " print(\"\\nThe number \" + str(number) + \" is even.\")\n",
        "else:\n",
        " print(\"\\nThe number \" + str(number) + \" is odd.\")"
      ],
      "metadata": {
        "colab": {
          "base_uri": "https://localhost:8080/"
        },
        "id": "IMOATlciYoN-",
        "outputId": "ace76a9a-7e58-417d-8d7f-7901f7b8525e"
      },
      "execution_count": null,
      "outputs": [
        {
          "output_type": "stream",
          "name": "stdout",
          "text": [
            "Enter a number, and I'll tell you if it's even or odd: 9\n",
            "\n",
            "The number 9 is odd.\n"
          ]
        }
      ]
    },
    {
      "cell_type": "code",
      "source": [
        "#try it yourself 7.1\n",
        "car = input(\"enter the rental car you want \")\n",
        "print(f'alright lets find you a {car}')"
      ],
      "metadata": {
        "colab": {
          "base_uri": "https://localhost:8080/"
        },
        "id": "oze6Ac1vYqSr",
        "outputId": "6493c43c-8f25-4039-c71a-09814ffd11c1"
      },
      "execution_count": null,
      "outputs": [
        {
          "output_type": "stream",
          "name": "stdout",
          "text": [
            "enter the rental car you want Nissan\n",
            "alright lets find you a Nissan\n"
          ]
        }
      ]
    },
    {
      "cell_type": "code",
      "source": [
        "#try it yourself 7.2\n",
        "number = int(input(\"enter the number of people in your group\"))\n",
        "if number>8: print(\"Sorry, you'll have to wait for a table to clear up\")\n",
        "else: print(\"Your table is ready\")"
      ],
      "metadata": {
        "colab": {
          "base_uri": "https://localhost:8080/"
        },
        "id": "_Y4RxeCAZroD",
        "outputId": "fb071321-84a7-4ea4-b71f-618cc0401e4a"
      },
      "execution_count": null,
      "outputs": [
        {
          "output_type": "stream",
          "name": "stdout",
          "text": [
            "enter the number of people in your group3\n",
            "Your table is ready\n"
          ]
        }
      ]
    },
    {
      "cell_type": "code",
      "source": [
        "#try it yourself 7.3\n",
        "number = int(input(\"Please enter a number\"))\n",
        "if number%10 == 0: print(f'{number} is indeed a multiple of 10')\n",
        "else: print(f'sorry {number} is not a multiple of 10')"
      ],
      "metadata": {
        "colab": {
          "base_uri": "https://localhost:8080/"
        },
        "id": "aBdN1mN7agNz",
        "outputId": "b2baf5ca-51a6-44f9-dab8-e63ed19a290d"
      },
      "execution_count": null,
      "outputs": [
        {
          "output_type": "stream",
          "name": "stdout",
          "text": [
            "Please enter a number80\n",
            "80 is indeed a multiple of 10\n"
          ]
        }
      ]
    },
    {
      "cell_type": "code",
      "source": [
        "current_number = 1\n",
        "while current_number <= 5:\n",
        " print(current_number)\n",
        " current_number += 1"
      ],
      "metadata": {
        "colab": {
          "base_uri": "https://localhost:8080/"
        },
        "id": "h-AKwdCabDn8",
        "outputId": "2ff4cda3-b452-40c6-c2e3-acdb567ad68b"
      },
      "execution_count": null,
      "outputs": [
        {
          "output_type": "stream",
          "name": "stdout",
          "text": [
            "1\n",
            "2\n",
            "3\n",
            "4\n",
            "5\n"
          ]
        }
      ]
    },
    {
      "cell_type": "code",
      "source": [
        "prompt = \"\\nTell me something, and I will repeat it back to you:\"\n",
        "prompt += \"\\nEnter 'quit' to end the program. \"\n",
        "message = \"\"\n",
        "while message != 'quit':\n",
        " message = input(prompt)\n",
        " print(message)"
      ],
      "metadata": {
        "colab": {
          "base_uri": "https://localhost:8080/"
        },
        "id": "o66VPYKkbveL",
        "outputId": "efc4e097-faa5-44c1-eda9-a7810e27ae3a"
      },
      "execution_count": null,
      "outputs": [
        {
          "output_type": "stream",
          "name": "stdout",
          "text": [
            "\n",
            "Tell me something, and I will repeat it back to you:\n",
            "Enter 'quit' to end the program. no\n",
            "no\n",
            "\n",
            "Tell me something, and I will repeat it back to you:\n",
            "Enter 'quit' to end the program. never\n",
            "never\n",
            "\n",
            "Tell me something, and I will repeat it back to you:\n",
            "Enter 'quit' to end the program. why!!!\n",
            "why!!!\n",
            "\n",
            "Tell me something, and I will repeat it back to you:\n",
            "Enter 'quit' to end the program. poop\n",
            "poop\n",
            "\n",
            "Tell me something, and I will repeat it back to you:\n",
            "Enter 'quit' to end the program. quit\n",
            "quit\n"
          ]
        }
      ]
    },
    {
      "cell_type": "code",
      "source": [
        "prompt = \"\\nTell me something, and I will repeat it back to you:\"\n",
        "prompt += \"\\nEnter 'quit' to end the program. \"\n",
        "\n",
        "active = True\n",
        "while active:\n",
        "  message = input(prompt)\n",
        "  if message == 'quit':\n",
        "    active = False\n",
        "  else:\n",
        "    print(message)"
      ],
      "metadata": {
        "colab": {
          "base_uri": "https://localhost:8080/"
        },
        "id": "ugZnZdxbcAwf",
        "outputId": "7d059712-f6ec-4927-8fa4-3b414fbe34ac"
      },
      "execution_count": null,
      "outputs": [
        {
          "name": "stdout",
          "output_type": "stream",
          "text": [
            "\n",
            "Tell me something, and I will repeat it back to you:\n",
            "Enter 'quit' to end the program. quit\n"
          ]
        }
      ]
    },
    {
      "cell_type": "code",
      "source": [
        "prompt = \"\\nPlease enter the name of a city you have visited:\"\n",
        "prompt += \"\\n(Enter 'quit' when you are finished.) \"\n",
        "while True:\n",
        " city = input(prompt)\n",
        "\n",
        " if city == 'quit':\n",
        "  break\n",
        " else:\n",
        "  print(\"I'd love to go to \" + city.title() + \"!\")"
      ],
      "metadata": {
        "colab": {
          "base_uri": "https://localhost:8080/"
        },
        "id": "k4pSlD-WgdL6",
        "outputId": "71c90d2e-f587-49a7-928a-15998576fa8f"
      },
      "execution_count": null,
      "outputs": [
        {
          "name": "stdout",
          "output_type": "stream",
          "text": [
            "\n",
            "Please enter the name of a city you have visited:\n",
            "(Enter 'quit' when you are finished.) Freetown\n",
            "I'd love to go to Freetown!\n",
            "\n",
            "Please enter the name of a city you have visited:\n",
            "(Enter 'quit' when you are finished.) Plattsburgh\n",
            "I'd love to go to Plattsburgh!\n",
            "\n",
            "Please enter the name of a city you have visited:\n",
            "(Enter 'quit' when you are finished.) quit\n"
          ]
        }
      ]
    },
    {
      "cell_type": "code",
      "source": [
        "current_number = 0\n",
        "while current_number < 10:\n",
        " current_number += 1\n",
        " if current_number % 2 == 0:\n",
        "  continue\n",
        " print(current_number)"
      ],
      "metadata": {
        "colab": {
          "base_uri": "https://localhost:8080/"
        },
        "id": "OJ8gQoT5hx_L",
        "outputId": "50502274-9a84-43d4-ea40-1f6d36447f8a"
      },
      "execution_count": null,
      "outputs": [
        {
          "output_type": "stream",
          "name": "stdout",
          "text": [
            "1\n",
            "3\n",
            "5\n",
            "7\n",
            "9\n"
          ]
        }
      ]
    },
    {
      "cell_type": "code",
      "source": [
        "x = 1\n",
        "while x <= 5:\n",
        " print(x)\n",
        " x += 1"
      ],
      "metadata": {
        "colab": {
          "base_uri": "https://localhost:8080/"
        },
        "id": "YXys5bugiOO1",
        "outputId": "35248868-271a-43c3-ff0d-839dd6141025"
      },
      "execution_count": null,
      "outputs": [
        {
          "output_type": "stream",
          "name": "stdout",
          "text": [
            "1\n",
            "2\n",
            "3\n",
            "4\n",
            "5\n"
          ]
        }
      ]
    },
    {
      "cell_type": "code",
      "source": [
        "#try it yourself 7.4\n",
        "end = \"\"\n",
        "while not end == \"quit\":\n",
        "  print(\"enter 'quit' when you are done\")\n",
        "  end = input(\"what topping would you like?\")\n",
        "  if end == \"quit\":\n",
        "    break\n",
        "  print(f\"we'll add {end} as a topping\")\n"
      ],
      "metadata": {
        "colab": {
          "base_uri": "https://localhost:8080/"
        },
        "id": "YrXCDCnTjcCh",
        "outputId": "0af154dc-1263-4b34-d168-b3f847a9c609"
      },
      "execution_count": null,
      "outputs": [
        {
          "name": "stdout",
          "output_type": "stream",
          "text": [
            "enter 'quit' when you are done\n",
            "what topping would you like?cheese\n",
            "we'll add cheese as a topping\n",
            "enter 'quit' when you are done\n",
            "what topping would you like?chicken\n",
            "we'll add chicken as a topping\n",
            "enter 'quit' when you are done\n",
            "what topping would you like?quit\n"
          ]
        }
      ]
    },
    {
      "cell_type": "code",
      "source": [
        "#try it yourself 7.5\n",
        "while True:\n",
        "  age = int(input(\"enter your age (enter 999 to end)\"))\n",
        "  if age == 999: break\n",
        "  if age < 3:\n",
        "    print(\"ticket is free\")\n",
        "  elif age < 12:\n",
        "    print(\"ticket is 10$\")\n",
        "  else:\n",
        "    print(\"ticket is 15$\")\n"
      ],
      "metadata": {
        "colab": {
          "base_uri": "https://localhost:8080/"
        },
        "id": "e-x_HZHqkozU",
        "outputId": "66da72d7-f02f-46c1-cc0e-45ce135ecb0f"
      },
      "execution_count": null,
      "outputs": [
        {
          "name": "stdout",
          "output_type": "stream",
          "text": [
            "enter your age (enter 999 to end)1\n",
            "ticket is free\n",
            "enter your age (enter 999 to end)5\n",
            "ticket is 10$\n",
            "enter your age (enter 999 to end)15\n",
            "ticket is 15$\n",
            "enter your age (enter 999 to end)100\n",
            "ticket is 15$\n",
            "enter your age (enter 999 to end)999\n"
          ]
        }
      ]
    },
    {
      "cell_type": "code",
      "source": [
        "#try it yourself 7.6 (changing 7.5)\n",
        "count = 0\n",
        "while count < 5:\n",
        "  age = int(input(\"enter your age (enter 999 to end)\"))\n",
        "  if age == 999: break\n",
        "  if age < 3:\n",
        "    print(\"ticket is free\")\n",
        "  elif age < 12:\n",
        "    print(\"ticket is 10$\")\n",
        "  else:\n",
        "    print(\"ticket is 15$\")\n",
        "  count += 1"
      ],
      "metadata": {
        "colab": {
          "base_uri": "https://localhost:8080/"
        },
        "id": "5exSkx4Sn30t",
        "outputId": "a4a344fc-840e-4bcc-8f44-7052b124d0bd"
      },
      "execution_count": null,
      "outputs": [
        {
          "output_type": "stream",
          "name": "stdout",
          "text": [
            "enter your age (enter 999 to end)1\n",
            "ticket is free\n",
            "enter your age (enter 999 to end)2\n",
            "ticket is free\n",
            "enter your age (enter 999 to end)3\n",
            "ticket is 10$\n",
            "enter your age (enter 999 to end)4\n",
            "ticket is 10$\n",
            "enter your age (enter 999 to end)5\n",
            "ticket is 10$\n"
          ]
        }
      ]
    },
    {
      "cell_type": "code",
      "source": [
        "#try it yourself 7.7\n",
        "while True:\n",
        "  print(\"Oh no\")"
      ],
      "metadata": {
        "id": "j35fqkwGpikO"
      },
      "execution_count": null,
      "outputs": []
    },
    {
      "cell_type": "code",
      "source": [
        "unconfirmed_users = ['alice', 'brian', 'candace']\n",
        "confirmed_users = []\n",
        "# Verify each user until there are no more unconfirmed users.\n",
        "# Move each verified user into the list of confirmed users.\n",
        "while unconfirmed_users:\n",
        "  current_user = unconfirmed_users.pop()\n",
        "\n",
        "  print(\"Verifying user: \" + current_user.title())\n",
        "  confirmed_users.append(current_user)\n",
        "print(\"\\nThe following users have been confirmed:\")\n",
        "for confirmed_user in confirmed_users:\n",
        " print(confirmed_user.title())"
      ],
      "metadata": {
        "id": "y1R6Dhooqhtr",
        "colab": {
          "base_uri": "https://localhost:8080/"
        },
        "outputId": "d7e67898-be8e-41d5-d3e9-564fdaeb078f"
      },
      "execution_count": null,
      "outputs": [
        {
          "output_type": "stream",
          "name": "stdout",
          "text": [
            "Verifying user: Candace\n",
            "Verifying user: Brian\n",
            "Verifying user: Alice\n",
            "\n",
            "The following users have been confirmed:\n",
            "Candace\n",
            "Brian\n",
            "Alice\n"
          ]
        }
      ]
    },
    {
      "cell_type": "code",
      "source": [
        "pets = ['dog', 'cat', 'dog', 'goldfish', 'cat', 'rabbit', 'cat']\n",
        "print(pets)\n",
        "while 'cat' in pets:\n",
        " pets.remove('cat')\n",
        " print(pets)\n",
        "\n",
        "print(pets)"
      ],
      "metadata": {
        "colab": {
          "base_uri": "https://localhost:8080/"
        },
        "id": "o4G7mKpfi1Ns",
        "outputId": "853a5a35-8fdb-4727-91b8-cca749b5c9f3"
      },
      "execution_count": null,
      "outputs": [
        {
          "output_type": "stream",
          "name": "stdout",
          "text": [
            "['dog', 'cat', 'dog', 'goldfish', 'cat', 'rabbit', 'cat']\n",
            "['dog', 'dog', 'goldfish', 'cat', 'rabbit', 'cat']\n",
            "['dog', 'dog', 'goldfish', 'rabbit', 'cat']\n",
            "['dog', 'dog', 'goldfish', 'rabbit']\n",
            "['dog', 'dog', 'goldfish', 'rabbit']\n"
          ]
        }
      ]
    },
    {
      "cell_type": "code",
      "source": [
        "responses = {}\n",
        "# Set a flag to indicate that polling is active.\n",
        "polling_active = True\n",
        "while polling_active:\n",
        " # Prompt for the person's name and response.\n",
        " name = input(\"\\nWhat is your name? \")\n",
        " response = input(\"Which mountain would you like to climb someday? \")\n",
        "\n",
        " # Store the response in the dictionary:\n",
        " responses[name] = response\n",
        "\n",
        " # Find out if anyone else is going to take the poll.\n",
        " repeat = input(\"Would you like to let another person respond? (yes/ no) \")\n",
        " if repeat == 'no':\n",
        "  polling_active = False\n",
        "\n",
        "# Polling is complete. Show the results.\n",
        "print(\"\\n--- Poll Results ---\")\n",
        "for name, response in responses.items():\n",
        "  print(name + \" would like to climb \" + response + \".\")"
      ],
      "metadata": {
        "colab": {
          "base_uri": "https://localhost:8080/"
        },
        "id": "BqUBG6cvk7PD",
        "outputId": "0e30b9b9-905d-42b1-c627-0b92393a749d"
      },
      "execution_count": null,
      "outputs": [
        {
          "output_type": "stream",
          "name": "stdout",
          "text": [
            "\n",
            "What is your name? dave \n",
            "Which mountain would you like to climb someday? everest\n",
            "Would you like to let another person respond? (yes/ no) y\n",
            "\n",
            "What is your name? jack\n",
            "Which mountain would you like to climb someday? k2\n",
            "Would you like to let another person respond? (yes/ no) coby\n",
            "\n",
            "What is your name? coby\n",
            "Which mountain would you like to climb someday? fiji\n",
            "Would you like to let another person respond? (yes/ no) no\n",
            "\n",
            "--- Poll Results ---\n",
            "dave  would like to climb everest.\n",
            "jack would like to climb k2.\n",
            "coby would like to climb fiji.\n"
          ]
        }
      ]
    },
    {
      "cell_type": "code",
      "source": [
        "# try it yourself 7.8\n",
        "sandwich_orders = [\"peanutbutter\", \"jelly\", \"cheese\"]\n",
        "finished_orders = []\n",
        "while sandwich_orders:\n",
        "  current = sandwich_orders.pop()\n",
        "  print(f\"We are making your {current} sandwich\")\n",
        "  finished_orders.append(current)\n",
        "print(f\"the finished orders are {finished_orders}\")"
      ],
      "metadata": {
        "colab": {
          "base_uri": "https://localhost:8080/"
        },
        "id": "DzbBFG3aoHFB",
        "outputId": "e522cb37-0cd8-48ef-874f-b55056c5477c"
      },
      "execution_count": null,
      "outputs": [
        {
          "output_type": "stream",
          "name": "stdout",
          "text": [
            "We are making your cheese sandwich\n",
            "We are making your jelly sandwich\n",
            "We are making your peanutbutter sandwich\n",
            "the finished orders are ['cheese', 'jelly', 'peanutbutter']\n"
          ]
        }
      ]
    },
    {
      "cell_type": "code",
      "source": [
        "# try if yourself 7.9\n",
        "sandwich_orders = [\"peanutbutter\", \"jelly\", \"cheese\", \"pastrami\", \"pastrami\", \"pastrami\"]\n",
        "finished_orders = []\n",
        "print(\"sorry we're all out of pastrami\")\n",
        "while \"pastrami\" in sandwich_orders:\n",
        "  sandwich_orders.remove(\"pastrami\")\n",
        "while sandwich_orders:\n",
        "  current = sandwich_orders.pop()\n",
        "  print(f\"We are making your {current} sandwich\")\n",
        "  finished_orders.append(current)\n",
        "print(f\"the finished orders are {finished_orders}\")"
      ],
      "metadata": {
        "colab": {
          "base_uri": "https://localhost:8080/"
        },
        "id": "P7vRQDUVpu92",
        "outputId": "295c1ff2-55c8-4e49-9410-bc5a86c1c220"
      },
      "execution_count": null,
      "outputs": [
        {
          "output_type": "stream",
          "name": "stdout",
          "text": [
            "sorry we're all out of pastrami\n",
            "We are making your cheese sandwich\n",
            "We are making your jelly sandwich\n",
            "We are making your peanutbutter sandwich\n",
            "the finished orders are ['cheese', 'jelly', 'peanutbutter']\n"
          ]
        }
      ]
    },
    {
      "cell_type": "code",
      "source": [
        "#try it yourself 7.10\n",
        "vacation = []\n",
        "while True:\n",
        "  vacation.append(input(\"where is your dream vacation\"))\n",
        "  prompt = input(\"wanna enter another y/n\")\n",
        "  if prompt == \"n\":\n",
        "    break\n",
        "print(f\"the dream vacations were {vacation}\")"
      ],
      "metadata": {
        "colab": {
          "base_uri": "https://localhost:8080/"
        },
        "id": "x700EMk5qmur",
        "outputId": "cdbba3a2-9a86-489b-f120-0ae16c3b4b47"
      },
      "execution_count": null,
      "outputs": [
        {
          "output_type": "stream",
          "name": "stdout",
          "text": [
            "where is your dream vacationcanada\n",
            "wanna enter another y/ny\n",
            "where is your dream vacationgreece\n",
            "wanna enter another y/ny\n",
            "where is your dream vacationmongolia\n",
            "wanna enter another y/nn\n",
            "the dream vacations were ['canada', 'greece', 'mongolia']\n"
          ]
        }
      ]
    },
    {
      "cell_type": "code",
      "source": [
        "def add(a, b):\n",
        "  return a + b\n",
        "def subtract(a, b):\n",
        "  return a - b\n",
        "def divide(a, b):\n",
        "  return a / b\n",
        "def multiply(a, b):\n",
        "  return a * b\n",
        "sum = 0\n",
        "while True:\n",
        "  num = int(input(\"enter a number\"))\n",
        "  operator = (input(\"enter an operator (+, -, /, *)\"))\n",
        "  if operator == \"+\":\n",
        "    sum = add(sum, num)\n",
        "  elif operator == \"-\":\n",
        "    sum = subtract(sum, num)\n",
        "  elif operator == \"/\":\n",
        "    sum = divide(sum, num)\n",
        "  elif operator == \"*\":\n",
        "    sum = multiply(sum, num)\n",
        "  else: print(\"invalid input for an operator\")\n",
        "  prompt = input(\"wanna enter more numbers (click n to stop)\")\n",
        "  if prompt == \"n\": break\n",
        "\n",
        "print(sum)\n",
        "\n",
        "\n"
      ],
      "metadata": {
        "colab": {
          "base_uri": "https://localhost:8080/"
        },
        "id": "aD84sWemr7KH",
        "outputId": "d5f9bd3e-4256-4021-bb1d-7861939cc92d"
      },
      "execution_count": null,
      "outputs": [
        {
          "output_type": "stream",
          "name": "stdout",
          "text": [
            "enter a number5\n",
            "enter an operator (+, -, /, *)+\n",
            "wanna enter more numbers (click n to stop)y\n",
            "enter a number10\n",
            "enter an operator (+, -, /, *)*\n",
            "wanna enter more numbers (click n to stop)y\n",
            "enter a number16\n",
            "enter an operator (+, -, /, *)-\n",
            "wanna enter more numbers (click n to stop)y\n",
            "enter a number4\n",
            "enter an operator (+, -, /, *)/\n",
            "wanna enter more numbers (click n to stop)n\n",
            "8.5\n"
          ]
        }
      ]
    }
  ]
}