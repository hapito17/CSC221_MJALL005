{
  "nbformat": 4,
  "nbformat_minor": 0,
  "metadata": {
    "colab": {
      "provenance": [],
      "authorship_tag": "ABX9TyNLYMoSuc/9T+4BUG0uuIwx",
      "include_colab_link": true
    },
    "kernelspec": {
      "name": "python3",
      "display_name": "Python 3"
    },
    "language_info": {
      "name": "python"
    }
  },
  "cells": [
    {
      "cell_type": "markdown",
      "metadata": {
        "id": "view-in-github",
        "colab_type": "text"
      },
      "source": [
        "<a href=\"https://colab.research.google.com/github/hapito17/CSC221_MJALL005/blob/main/Week1A.ipynb\" target=\"_parent\"><img src=\"https://colab.research.google.com/assets/colab-badge.svg\" alt=\"Open In Colab\"/></a>"
      ]
    },
    {
      "cell_type": "code",
      "execution_count": null,
      "metadata": {
        "colab": {
          "base_uri": "https://localhost:8080/"
        },
        "id": "7ykh_cr-6O7_",
        "outputId": "b8acc1da-64ab-4f59-b1c3-6de3df3b70f6"
      },
      "outputs": [
        {
          "output_type": "stream",
          "name": "stdout",
          "text": [
            "enter your namegggg\n",
            "hafiz is awesomer than you  gggg\n"
          ]
        }
      ],
      "source": [
        "Name = input(\"enter your name\")\n",
        "print (\"hafiz is awesomer than you \", Name)\n"
      ]
    }
  ]
}