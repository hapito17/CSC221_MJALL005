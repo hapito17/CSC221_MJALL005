{
  "nbformat": 4,
  "nbformat_minor": 0,
  "metadata": {
    "colab": {
      "provenance": [],
      "authorship_tag": "ABX9TyPRS7+Jo5fgeDlFKX/FTznF",
      "include_colab_link": true
    },
    "kernelspec": {
      "name": "python3",
      "display_name": "Python 3"
    },
    "language_info": {
      "name": "python"
    }
  },
  "cells": [
    {
      "cell_type": "markdown",
      "metadata": {
        "id": "view-in-github",
        "colab_type": "text"
      },
      "source": [
        "<a href=\"https://colab.research.google.com/github/hapito17/CSC221_MJALL005/blob/main/Assignment12.ipynb\" target=\"_parent\"><img src=\"https://colab.research.google.com/assets/colab-badge.svg\" alt=\"Open In Colab\"/></a>"
      ]
    },
    {
      "cell_type": "code",
      "execution_count": 1,
      "metadata": {
        "colab": {
          "base_uri": "https://localhost:8080/"
        },
        "id": "1oXdDgUdP6Oq",
        "outputId": "88cbb5a2-a18e-4139-b175-eaea8b96ab0b"
      },
      "outputs": [
        {
          "output_type": "stream",
          "name": "stdout",
          "text": [
            "enter the amount of 100s you have 5\n",
            "enter the amount of 50s you have 8\n",
            "enter the amount of 20s you have 1\n",
            "enter the amount of 10s you have 1\n",
            "enter the amount of 5s you have 1\n",
            "enter the amount of 1s you have 1\n",
            "enter the amount of Quaters you have 1\n",
            "enter the amount of Dimes you have 1\n",
            "enter the amount of Nickels you have 1\n",
            "enter the amount of Pennys you have 1\n",
            "the total amount of money you have is 936.41\n"
          ]
        }
      ],
      "source": [
        "#to be honest I'm pretty sure this is not what you had in mind for this task but I just tried my best\n",
        "class Money():\n",
        "  def __init__(self, money):\n",
        "    self.money = money\n",
        "    self.sum = 0\n",
        "class Bills(Money):\n",
        "  def __init__(self, money):\n",
        "    super().__init__(money)\n",
        "    self.hundreds = self.money[0]\n",
        "    self.fiftys = self.money[1]\n",
        "    self.twentys = self.money[2]\n",
        "    self.tens = self.money[3]\n",
        "    self.fives = self.money[4]\n",
        "    self.ones = self.money[5]\n",
        "  def sum_bills(self):\n",
        "    self.sum = (100 * self.hundreds) + self.sum\n",
        "    self.sum = (50 * self.fiftys) + self.sum\n",
        "    self.sum = (20 * self.twentys) + self.sum\n",
        "    self.sum = (10 * self.tens) + self.sum\n",
        "    self.sum = (5 * self.fives) + self.sum\n",
        "    self.sum = (1 * self.ones) + self.sum\n",
        "    return(self.sum)\n",
        "class Coins(Money):\n",
        "  def __init__(self, money):\n",
        "    super().__init__(money)\n",
        "    self.quaters = self.money[0]\n",
        "    self.dimes = self.money[1]\n",
        "    self.nickels = self.money[2]\n",
        "    self.pennys = self.money[3]\n",
        "\n",
        "  def sum_coins(self):\n",
        "    self.sum = (0.25 * self.quaters) + self.sum\n",
        "    self.sum = (0.10 * self.dimes) + self.sum\n",
        "    self.sum = (0.05 * self.nickels) + self.sum\n",
        "    self.sum = (0.01 * self.pennys) + self.sum\n",
        "    return (self.sum)\n",
        "\n",
        "Wallet = {}\n",
        "bills = [\"100s\", \"50s\", \"20s\", \"10s\", \"5s\", \"1s\"]\n",
        "coins = [\"Quaters\", \"Dimes\", \"Nickels\", \"Pennys\"]\n",
        "count = 0\n",
        "while (count != (len(bills))):\n",
        "  bills[count] = int(input(f\"enter the amount of {bills[count]} you have \"))\n",
        "  count += 1\n",
        "count = 0\n",
        "while (count != (len(coins))):\n",
        "  coins[count] = int(input(f\"enter the amount of {coins[count]} you have \"))\n",
        "  count += 1\n",
        "\n",
        "Wallet[\"Bills\"] = bills\n",
        "Wallet[\"Coins\"] = coins\n",
        "\n",
        "Sum = (Bills(Wallet[\"Bills\"]).sum_bills() + Coins(Wallet[\"Coins\"]).sum_coins())\n",
        "print(f\"the total amount of money you have is {Sum}\")"
      ]
    },
    {
      "cell_type": "code",
      "source": [
        "#I made a menu in a game where a user can choose a race to play with. there a base class species which each race inherits from.\n",
        "class Species():\n",
        "  def __init__(self, race, strength, speed, health):\n",
        "    self.race = race\n",
        "    self.strength = strength\n",
        "    self.speed = speed\n",
        "    self.health = health\n",
        "  def description(self):\n",
        "    print(f\"With {self.race}, you have the following stats: \\nstr = {self.strength} \\nspd = {self.speed} \\nhp = {self.health}\")\n",
        "\n",
        "class Giant(Species):\n",
        "  def __init__(self, strength=100, speed=30, health=90, race = \"Giant\"):\n",
        "    super().__init__(strength=100, speed=30, health=90, race = \"Giant\")\n",
        "\n",
        "class Dragon(Species):\n",
        "  def __init__(self, strength=80, speed=90, health=70, race = \"Dragon\"):\n",
        "    super().__init__(strength=80, speed=90, health=70, race = \"Dragon\")\n",
        "\n",
        "class Elf(Species):\n",
        "  def __init__(self, strength=60, speed=100, health=80, race = \"Elf\"):\n",
        "    super().__init__(strength=60, speed=100, health=80, race = \"Elf\")\n",
        "\n",
        "Race = {\"Dragon\":Dragon, \"Elf\":Elf, \"Giant\":Giant}\n",
        "while True:\n",
        "  print(f\"The races Available are: {Race.keys()}\")\n",
        "  choice = input(\"enter the race you'd like to play with :\")\n",
        "  if choice.title() in Race:\n",
        "    print(f\"are you sure you wish to play with {choice} \\nit's stats are: \")\n",
        "    Race[choice.title()]().description()\n",
        "    retry = input(\"click y to continue or anything else to choose another race\")\n",
        "    if retry.lower() == \"y\":\n",
        "      break\n",
        "  else: print(\"sorry that race is not available.\")"
      ],
      "metadata": {
        "colab": {
          "base_uri": "https://localhost:8080/"
        },
        "id": "nwj0cIDHr6N-",
        "outputId": "361bf70c-5762-4a7d-8cbb-7ff652537b65"
      },
      "execution_count": 3,
      "outputs": [
        {
          "name": "stdout",
          "output_type": "stream",
          "text": [
            "The races Available are: dict_keys(['Dragon', 'Elf', 'Giant'])\n",
            "enter the race you'd like to play with :Elf\n",
            "are you sure you wish to play with Elf \n",
            "it's stats are: \n",
            "With Elf, you have the following stats: \n",
            "str = 60 \n",
            "spd = 100 \n",
            "hp = 80\n",
            "click y to continue or anything else to choose another racet\n",
            "The races Available are: dict_keys(['Dragon', 'Elf', 'Giant'])\n",
            "enter the race you'd like to play with :giant\n",
            "are you sure you wish to play with giant \n",
            "it's stats are: \n",
            "With Giant, you have the following stats: \n",
            "str = 100 \n",
            "spd = 30 \n",
            "hp = 90\n",
            "click y to continue or anything else to choose another racey\n"
          ]
        }
      ]
    }
  ]
}