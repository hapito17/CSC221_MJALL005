{
  "nbformat": 4,
  "nbformat_minor": 0,
  "metadata": {
    "colab": {
      "provenance": [],
      "authorship_tag": "ABX9TyMw36BeOG0iC76INJO+jrOr",
      "include_colab_link": true
    },
    "kernelspec": {
      "name": "python3",
      "display_name": "Python 3"
    },
    "language_info": {
      "name": "python"
    }
  },
  "cells": [
    {
      "cell_type": "markdown",
      "metadata": {
        "id": "view-in-github",
        "colab_type": "text"
      },
      "source": [
        "<a href=\"https://colab.research.google.com/github/hapito17/CSC221_MJALL005/blob/main/Assignment15.ipynb\" target=\"_parent\"><img src=\"https://colab.research.google.com/assets/colab-badge.svg\" alt=\"Open In Colab\"/></a>"
      ]
    },
    {
      "cell_type": "code",
      "source": [
        "def get_formatted_name(first, last):\n",
        " \"\"\"Generate a neatly formatted full name.\"\"\"\n",
        " full_name = first + ' ' + last\n",
        " return full_name.title()"
      ],
      "metadata": {
        "id": "4b8wzTolg1EU"
      },
      "execution_count": 3,
      "outputs": []
    },
    {
      "cell_type": "code",
      "source": [
        "print(\"Enter 'q' at any time to quit.\")\n",
        "while True:\n",
        " first = input(\"\\nPlease give me a first name: \")\n",
        " if first == 'q':\n",
        "  break\n",
        " last = input(\"Please give me a last name: \")\n",
        " if last == 'q':\n",
        "  break\n",
        "\n",
        " formatted_name = get_formatted_name(first, last)\n",
        " print(\"\\tNeatly formatted name: \" + formatted_name + '.')"
      ],
      "metadata": {
        "colab": {
          "base_uri": "https://localhost:8080/"
        },
        "id": "ayTdTLO1hLFm",
        "outputId": "f6f9b06d-78ea-4e0e-e279-58ef27d7257f"
      },
      "execution_count": 4,
      "outputs": [
        {
          "name": "stdout",
          "output_type": "stream",
          "text": [
            "Enter 'q' at any time to quit.\n",
            "\n",
            "Please give me a first name: ned\n",
            "Please give me a last name: stark\n",
            "\tNeatly formatted name: Ned Stark.\n",
            "\n",
            "Please give me a first name: q\n"
          ]
        }
      ]
    },
    {
      "cell_type": "code",
      "source": [
        "import unittest\n",
        "class NamesTestCase(unittest.TestCase):\n",
        "  \"\"\"Tests for 'name_function.py'.\"\"\"\n",
        "\n",
        "  def test_first_last_name(self):\n",
        "    \"\"\"Do names like 'Janis Joplin' work?\"\"\"\n",
        "    formatted_name = get_formatted_name('janis', 'joplin')\n",
        "    self.assertEqual(formatted_name, 'Janis Joplin')\n",
        "  def test_first_last_middle_name(self):\n",
        "    \"\"\"Do names like 'Wolfgang Amadeus Mozart' work?\"\"\"\n",
        "    formatted_name = get_formatted_name(\n",
        "     'wolfgang', 'mozart', 'amadeus')\n",
        "    self.assertEqual(formatted_name, 'Wolfgang Amadeus Mozart')\n",
        "\n",
        "unittest.main(argv=['first-arg-is-ignored'], exit=False)"
      ],
      "metadata": {
        "colab": {
          "base_uri": "https://localhost:8080/"
        },
        "id": "VPF_5OwUjIup",
        "outputId": "a46d8889-57f9-4f2d-e48b-9a1d77f1d43f"
      },
      "execution_count": 12,
      "outputs": [
        {
          "output_type": "stream",
          "name": "stderr",
          "text": [
            "..\n",
            "----------------------------------------------------------------------\n",
            "Ran 2 tests in 0.006s\n",
            "\n",
            "OK\n"
          ]
        },
        {
          "output_type": "execute_result",
          "data": {
            "text/plain": [
              "<unittest.main.TestProgram at 0x7c7d96333bb0>"
            ]
          },
          "metadata": {},
          "execution_count": 12
        }
      ]
    },
    {
      "cell_type": "code",
      "source": [
        "def get_formatted_name(first, last, middle=\" \"):\n",
        "  \"\"\"Generate a neatly formatted full name.\"\"\"\n",
        "  if middle != \" \":\n",
        "    full_name = first + ' ' + middle + ' ' + last\n",
        "  else:\n",
        "    full_name = first + \" \" + last\n",
        "  return full_name.title()\n",
        "\n",
        "unittest.main(argv=['first-arg-is-ignored'], exit=False)"
      ],
      "metadata": {
        "colab": {
          "base_uri": "https://localhost:8080/"
        },
        "id": "6FpLMfyT9HEN",
        "outputId": "f93c79dc-4558-49ec-aa5c-c0e688fb6562"
      },
      "execution_count": 13,
      "outputs": [
        {
          "output_type": "stream",
          "name": "stderr",
          "text": [
            "..\n",
            "----------------------------------------------------------------------\n",
            "Ran 2 tests in 0.006s\n",
            "\n",
            "OK\n"
          ]
        },
        {
          "output_type": "execute_result",
          "data": {
            "text/plain": [
              "<unittest.main.TestProgram at 0x7c7d96333e20>"
            ]
          },
          "metadata": {},
          "execution_count": 13
        }
      ]
    },
    {
      "cell_type": "code",
      "execution_count": 18,
      "metadata": {
        "id": "JIu-9DAogp8D",
        "colab": {
          "base_uri": "https://localhost:8080/"
        },
        "outputId": "d2a4af3f-aa3d-411b-fb15-580141d0c948"
      },
      "outputs": [
        {
          "output_type": "stream",
          "name": "stderr",
          "text": [
            "...\n",
            "----------------------------------------------------------------------\n",
            "Ran 3 tests in 0.009s\n",
            "\n",
            "OK\n"
          ]
        },
        {
          "output_type": "execute_result",
          "data": {
            "text/plain": [
              "<unittest.main.TestProgram at 0x7c7d962b7fa0>"
            ]
          },
          "metadata": {},
          "execution_count": 18
        }
      ],
      "source": [
        "#try it yourself 11.1\n",
        "import unittest\n",
        "def place(country, city):\n",
        "  return(f\"{city.title()}, {country.title()}\")\n",
        "\n",
        "class Place_test(unittest.TestCase):\n",
        "  def test_city_country(self):\n",
        "    city_country = place(\"Canada\", \"ontario\")\n",
        "    self.assertEqual(city_country, \"Ontario, Canada\")\n",
        "\n",
        "unittest.main(argv=['first-arg-is-ignored'], exit=False)"
      ]
    },
    {
      "cell_type": "code",
      "source": [
        "#try it yourself 11.2\n",
        "import unittest\n",
        "def place(country, city, population=\"\" ):\n",
        "  if not population: return(f\"{city.title()}, {country.title()}\")\n",
        "  else: return(f\"{city.title()}, {country.title()} - population = {population}\")\n",
        "\n",
        "class Place_test(unittest.TestCase):\n",
        "  def test_city_country(self):\n",
        "    city_country = place(\"Canada\", \"ontario\")\n",
        "    self.assertEqual(city_country, \"Ontario, Canada\")\n",
        "  def test_city_country_population(self):\n",
        "    city_country = place(\"Canada\", \"ontario\", \"15 000 000\")\n",
        "    self.assertEqual(city_country, \"Ontario, Canada - population = 15 000 000\")\n",
        "\n",
        "unittest.main(argv=['first-arg-is-ignored'], exit=False)"
      ],
      "metadata": {
        "id": "7Ux4JdBRg5K8",
        "colab": {
          "base_uri": "https://localhost:8080/"
        },
        "outputId": "0cb0ad58-a6fa-443c-b002-614bc01877ec"
      },
      "execution_count": 28,
      "outputs": [
        {
          "output_type": "stream",
          "name": "stderr",
          "text": [
            "....\n",
            "----------------------------------------------------------------------\n",
            "Ran 4 tests in 0.010s\n",
            "\n",
            "OK\n"
          ]
        },
        {
          "output_type": "execute_result",
          "data": {
            "text/plain": [
              "<unittest.main.TestProgram at 0x7c7d941d14e0>"
            ]
          },
          "metadata": {},
          "execution_count": 28
        }
      ]
    }
  ]
}